{
 "cells": [
  {
   "cell_type": "code",
   "execution_count": 1,
   "metadata": {},
   "outputs": [
    {
     "name": "stdout",
     "output_type": "stream",
     "text": [
      "Requirement already satisfied: implicit in /mnt/workspace/.local/lib/python3.5/site-packages (0.3.8)\n",
      "Requirement already satisfied: scipy>=0.16 in /usr/local/lib/python3.5/dist-packages (from implicit) (1.1.0)\n",
      "Requirement already satisfied: tqdm in /mnt/workspace/.local/lib/python3.5/site-packages (from implicit) (4.31.1)\n",
      "Requirement already satisfied: numpy in /usr/local/lib/python3.5/dist-packages (from implicit) (1.14.5)\n",
      "\u001b[33mYou are using pip version 18.0, however version 19.0.3 is available.\n",
      "You should consider upgrading via the 'pip install --upgrade pip' command.\u001b[0m\n"
     ]
    }
   ],
   "source": [
    "# Install the library we need for the notebook\n",
    "!pip3 install --user 'implicit'"
   ]
  },
  {
   "cell_type": "markdown",
   "metadata": {
    "slideshow": {
     "slide_type": "slide"
    }
   },
   "source": [
    "# Building a music recommender system (Spring 2019)"
   ]
  },
  {
   "cell_type": "markdown",
   "metadata": {
    "slideshow": {
     "slide_type": "slide"
    }
   },
   "source": [
    "As its name implies, a recommender system is a tool that helps predicting what a user may or may not like among a list of given items. In some sense, you can view this as an alternative to content search, as recommendation engines help users discover products or content that they may not come across otherwise. For example, Facebook suggests friends and pages to users. Youtube recommends videos which users may be interested in. Amazon suggests the products which users may need... Recommendation engines engage users to services, can be seen as a revenue optimization process, and in general help maintaining interest in a service.\n",
    "\n",
    "In this notebook, we study how to build a simple recommender system: we focus on music recommendations, and we use a simple algorithm to predict which items users might like, that is called ALS, alternating least squares.\n",
    "\n",
    "## Goals\n",
    "\n",
    "In this lecture, we expect students to:\n",
    "\n",
    "- Revisit (or learn) recommender algorithms\n",
    "\n",
    "- Understand the idea of Matrix Factorization and the ALS algorithm\n",
    "\n",
    "- Build a simple model for a real usecase: music recommender system\n",
    "\n",
    "- Understand how to validate the results\n",
    "\n",
    "## Steps\n",
    "\n",
    "We assume students to work outside lab hours on the learning material. These are the steps by which we guide students, during labs, to build a good basis for the end-to-end development of a recommender system:\n",
    "\n",
    "* Inspect the data using Pandas, and build some basic, but very valuable knowledge about the information we have at hand\n",
    "* Formally define what is a sensible algorithm to achieve our goal: given the \"history\" of user taste for music, recommend new music to discover. Essentialy, we want to build a statistical model of user preferences such that we can use it to \"predict\" which additional music the user could like\n",
    "* With our formal definition at hand, we will learn different ways to implement such an algorithm. Our goal here is to illustrate what are the difficulties to overcome when implementing an algorithm like Matrix Factorization\n",
    "* Finally, we will focus on an existing implementation, available in ```Implicit```, which we will use out of the box to build a reliable statistical model\n",
    "\n",
    "Now, you may think at this point we will be done!\n",
    "\n",
    "Well, you'd better think twice: one important topic we will cover in all our Notebooks is **how to validate the results we obtain**, and **how to choose good parameters to train models** especially when using an \"opaque\" library for doing the job. As a consequence, we will focus on the statistical validation of our recommender system.\n"
   ]
  },
  {
   "cell_type": "markdown",
   "metadata": {
    "slideshow": {
     "slide_type": "slide"
    }
   },
   "source": [
    "# 1. Data\n",
    "\n",
    "Understanding data is one of the most important part when designing any machine learning algorithm. In this notebook, we will use a data set published by Audioscrobbler - a music recommendation system for last.fm. Audioscrobbler is also one of the first internet streaming radio sites, founded in 2002. It provided an open API for scrobbling, or recording listeners' plays of artists' songs. last.fm used this information to build a powerful music recommender engine.\n",
    "\n",
    "## 1.1. Data schema\n",
    "\n",
    "Unlike a rating dataset which contains information about users' preference for products (one star, 3 stars, and so on), the datasets from Audioscrobbler only has information about events: specifically, it keeps track of how many times a user played songs of a given artist and the names of artists. That means it carries less information than a rating: in the literature, this is called explicit vs. implicit ratings.\n",
    "\n",
    "### Reading material\n",
    "\n",
    "- [Implicit Feedback for Inferring User Preference: A Bibliography](http://people.csail.mit.edu/teevan/work/publications/papers/sigir-forum03.pdf)\n",
    "- [Comparing explicit and implicit feedback techniques for web retrieval: TREC-10 interactive track report](http://trec.nist.gov/pubs/trec10/papers/glasgow.pdf)\n",
    "- [Probabilistic Models for Data Combination in Recommender Systems](http://mlg.eng.cam.ac.uk/pub/pdf/WilGha08.pdf)\n",
    "\n",
    "The data we use in this Notebook is available in 3 files (these files are stored in our HDFS layer, in the directory  ```/datasets/lastfm```):\n",
    "\n",
    "- **`user_artist_data.txt`**: It contains about 140,000+ unique users, and 1.6 million unique artists. About 24.2 million users' plays of artists' are recorded, along with their count. It has 3 columns separated by spaces: \n",
    "\n",
    "| UserID | ArtistID | PlayCount |\n",
    "|----|----|----|\n",
    "| ...|...|...|\n",
    "\n",
    "\n",
    "- **`artist_data.txt`** : It prodives the names of each artist by their IDs. It has 2 columns separated by tab characters (`\\t`).\n",
    "\n",
    "| ArtistID | Name |\n",
    "|---|---|\n",
    "|...|...|\n",
    "\n",
    "- **`artist_alias.txt`**: Note that when plays are scrobbled, the client application submits the name of the artist being played. This name could be misspelled or nonstandard. For example, \"The Smiths\", \"Smiths, The\", and \"the smiths\" may appear as distinct artist IDs in the data set, even though they are plainly the same. `artist_alias.txt` maps artist IDs that are known misspellings or variants to the canonical ID of that artist. The data in this file has 2 columns separated by tab characters (`\\t`).\n",
    "\n",
    "| MisspelledArtistID | StandardArtistID |\n",
    "|---|---|\n",
    "|...|...|\n",
    "\n"
   ]
  },
  {
   "cell_type": "markdown",
   "metadata": {
    "slideshow": {
     "slide_type": "slide"
    }
   },
   "source": [
    "## 1.2. Understanding data: simple descriptive statistic\n",
    "\n",
    "In order to choose or design a suitable algorithm for achieving our goals, given the data we have, we should first understand data characteristics. To start, we import the necessary packages to work with regular expressions, Data Frames, and other nice features of our programming environment."
   ]
  },
  {
   "cell_type": "code",
   "execution_count": 2,
   "metadata": {
    "collapsed": false,
    "slideshow": {
     "slide_type": "subslide"
    }
   },
   "outputs": [],
   "source": [
    "%matplotlib inline\n",
    "import os\n",
    "import sys\n",
    "import re\n",
    "import random\n",
    "import matplotlib\n",
    "import implicit\n",
    "\n",
    "import matplotlib.pyplot as plt\n",
    "import pandas as pd\n",
    "import numpy as np\n",
    "\n",
    "from time import time\n",
    "\n",
    "os.environ[\"OPENBLAS_NUM_THREADS\"] = \"1\"   # Required by implicit\n",
    "\n",
    "base = \"/mnt/datasets/lastfm/\""
   ]
  },
  {
   "cell_type": "markdown",
   "metadata": {
    "slideshow": {
     "slide_type": "slide"
    }
   },
   "source": [
    "### Question 1\n",
    "\n",
    "#### Question 1.0 (Non-grading)\n",
    "\n",
    "Using Pandas, load data from `/datasets/lastfm/user_artist_data.txt` (407 MB) and show the first 20 entries (via function `show()`).\n",
    "\n",
    "```bash \n",
    "$ du -sh /mnt/datasets/lastfm/user_artist_data.txt\n",
    "407M     /mnt/datasets/lastfm/user_artist_data.txt\n",
    "```\n",
    "\n",
    "For this Notebook, from a programming point of view, we are given the schema for the data we use, which is as follows:\n",
    "\n",
    "```\n",
    "userID: long int\n",
    "artistID: long int\n",
    "playCount: int\n",
    "```\n",
    "\n",
    "Each line of the dataset contains the above three fields, separated by a \"white space\".\n"
   ]
  },
  {
   "cell_type": "code",
   "execution_count": 3,
   "metadata": {
    "slideshow": {
     "slide_type": "subslide"
    }
   },
   "outputs": [
    {
     "data": {
      "text/html": [
       "<div>\n",
       "<style scoped>\n",
       "    .dataframe tbody tr th:only-of-type {\n",
       "        vertical-align: middle;\n",
       "    }\n",
       "\n",
       "    .dataframe tbody tr th {\n",
       "        vertical-align: top;\n",
       "    }\n",
       "\n",
       "    .dataframe thead th {\n",
       "        text-align: right;\n",
       "    }\n",
       "</style>\n",
       "<table border=\"1\" class=\"dataframe\">\n",
       "  <thead>\n",
       "    <tr style=\"text-align: right;\">\n",
       "      <th></th>\n",
       "      <th>userID</th>\n",
       "      <th>artistID</th>\n",
       "      <th>playCount</th>\n",
       "    </tr>\n",
       "  </thead>\n",
       "  <tbody>\n",
       "    <tr>\n",
       "      <th>0</th>\n",
       "      <td>1000002</td>\n",
       "      <td>1</td>\n",
       "      <td>55</td>\n",
       "    </tr>\n",
       "    <tr>\n",
       "      <th>1</th>\n",
       "      <td>1000002</td>\n",
       "      <td>1000006</td>\n",
       "      <td>33</td>\n",
       "    </tr>\n",
       "    <tr>\n",
       "      <th>2</th>\n",
       "      <td>1000002</td>\n",
       "      <td>1000007</td>\n",
       "      <td>8</td>\n",
       "    </tr>\n",
       "    <tr>\n",
       "      <th>3</th>\n",
       "      <td>1000002</td>\n",
       "      <td>1000009</td>\n",
       "      <td>144</td>\n",
       "    </tr>\n",
       "    <tr>\n",
       "      <th>4</th>\n",
       "      <td>1000002</td>\n",
       "      <td>1000010</td>\n",
       "      <td>314</td>\n",
       "    </tr>\n",
       "  </tbody>\n",
       "</table>\n",
       "</div>"
      ],
      "text/plain": [
       "    userID  artistID  playCount\n",
       "0  1000002         1         55\n",
       "1  1000002   1000006         33\n",
       "2  1000002   1000007          8\n",
       "3  1000002   1000009        144\n",
       "4  1000002   1000010        314"
      ]
     },
     "execution_count": 3,
     "metadata": {},
     "output_type": "execute_result"
    }
   ],
   "source": [
    "# Read the .csv file (might take a while)\n",
    "userArtistDF = pd.read_csv(base + 'user_artist_data.txt', \n",
    "                           sep=' ', \n",
    "                           header=None, \n",
    "                           names=['userID', 'artistID', 'playCount'])\n",
    "\n",
    "# Cast each column to its correct datatype\n",
    "userArtistDF['userID'] = userArtistDF['userID'].astype(np.int64, errors='ignore')\n",
    "userArtistDF['artistID'] = userArtistDF['artistID'].astype(np.int64, errors='ignore')\n",
    "userArtistDF['playCount'] = userArtistDF['playCount'].astype(np.int32, errors='ignore')\n",
    "\n",
    "userArtistDF[:5]"
   ]
  },
  {
   "cell_type": "markdown",
   "metadata": {
    "slideshow": {
     "slide_type": "slide"
    }
   },
   "source": [
    "#### Question 1.1: \n",
    "<div class=\"alert alert-info\">\n",
    "How many distinct users do we have in our data? \n",
    "</div>"
   ]
  },
  {
   "cell_type": "code",
   "execution_count": 4,
   "metadata": {
    "slideshow": {
     "slide_type": "subslide"
    }
   },
   "outputs": [
    {
     "name": "stdout",
     "output_type": "stream",
     "text": [
      "Total n. of users:  148111\n"
     ]
    }
   ],
   "source": [
    "#COMPLETE\n",
    "uniqueUsers = userArtistDF['userID'].nunique()\n",
    "# nunique(): Return number of unique elements in the object.\n",
    "print(\"Total n. of users: \", uniqueUsers)"
   ]
  },
  {
   "cell_type": "markdown",
   "metadata": {
    "slideshow": {
     "slide_type": "slide"
    }
   },
   "source": [
    "#### Question 1.2\n",
    "<div class=\"alert alert-info\">\n",
    "How many distinct artists do we have in our data ?\n",
    "</div>"
   ]
  },
  {
   "cell_type": "code",
   "execution_count": 5,
   "metadata": {
    "slideshow": {
     "slide_type": "subslide"
    }
   },
   "outputs": [
    {
     "name": "stdout",
     "output_type": "stream",
     "text": [
      "Total n. of artists:  1631028\n"
     ]
    }
   ],
   "source": [
    "#COMPLETE\n",
    "uniqueArtists = userArtistDF['artistID'].nunique()\n",
    "# nunique(): Return number of unique elements in the object.\n",
    "print(\"Total n. of artists: \", uniqueArtists)"
   ]
  },
  {
   "cell_type": "markdown",
   "metadata": {
    "slideshow": {
     "slide_type": "-"
    }
   },
   "source": [
    "We just discovered that we have a total of 148,111 users in our dataset. Similarly, we have a total of 1,631,028 artists in our dataset. \n",
    "\n",
    "One thing we can see here is that Pandas provides very concise and powerful methods for data analytics."
   ]
  },
  {
   "cell_type": "markdown",
   "metadata": {
    "slideshow": {
     "slide_type": "-"
    }
   },
   "source": [
    "Next, we might want to understand better user activity and artist popularity.\n",
    "\n",
    "Here is a list of simple descriptive queries that helps us reaching these purposes:\n",
    "\n",
    "* How many times each user has played a song? This is a good indicator of who are the most active users of our service. Note that a very active user with many play counts does not necessarily mean that the user is also \"curious\"! Indeed, she could have played the same song several times.\n",
    "* How many play counts for each artist? This is a good indicator of the artist popularity. Since we do not have time information associated to our data, we can only build a, e.g., top-10 ranking of the most popular artists in the dataset. Later in the notebook, we will learn that our dataset has a very \"loose\" definition about artists: very often artist IDs point to song titles as well. This means we have to be careful when establishing popular artists. Indeed, artists whose data is \"well formed\" will have the correct number of play counts associated to them. Instead, artists that appear mixed with song titles may see their play counts \"diluted\" across their songs."
   ]
  },
  {
   "cell_type": "markdown",
   "metadata": {
    "slideshow": {
     "slide_type": "slide"
    }
   },
   "source": [
    "### Question 2\n",
    "\n",
    "#### Question 2.1\n",
    "<div class=\"alert alert-info\">\n",
    "How many times each user has played a song? Show 5 samples of the result.\n",
    "</div>"
   ]
  },
  {
   "cell_type": "code",
   "execution_count": 6,
   "metadata": {
    "slideshow": {
     "slide_type": "subslide"
    }
   },
   "outputs": [
    {
     "data": {
      "text/html": [
       "<div>\n",
       "<style scoped>\n",
       "    .dataframe tbody tr th:only-of-type {\n",
       "        vertical-align: middle;\n",
       "    }\n",
       "\n",
       "    .dataframe tbody tr th {\n",
       "        vertical-align: top;\n",
       "    }\n",
       "\n",
       "    .dataframe thead th {\n",
       "        text-align: right;\n",
       "    }\n",
       "</style>\n",
       "<table border=\"1\" class=\"dataframe\">\n",
       "  <thead>\n",
       "    <tr style=\"text-align: right;\">\n",
       "      <th></th>\n",
       "      <th>userID</th>\n",
       "      <th>playCount</th>\n",
       "    </tr>\n",
       "  </thead>\n",
       "  <tbody>\n",
       "    <tr>\n",
       "      <th>0</th>\n",
       "      <td>90</td>\n",
       "      <td>537</td>\n",
       "    </tr>\n",
       "    <tr>\n",
       "      <th>1</th>\n",
       "      <td>98</td>\n",
       "      <td>186</td>\n",
       "    </tr>\n",
       "    <tr>\n",
       "      <th>2</th>\n",
       "      <td>116</td>\n",
       "      <td>20</td>\n",
       "    </tr>\n",
       "    <tr>\n",
       "      <th>3</th>\n",
       "      <td>120</td>\n",
       "      <td>65</td>\n",
       "    </tr>\n",
       "    <tr>\n",
       "      <th>4</th>\n",
       "      <td>128</td>\n",
       "      <td>133</td>\n",
       "    </tr>\n",
       "  </tbody>\n",
       "</table>\n",
       "</div>"
      ],
      "text/plain": [
       "   userID  playCount\n",
       "0      90        537\n",
       "1      98        186\n",
       "2     116         20\n",
       "3     120         65\n",
       "4     128        133"
      ]
     },
     "execution_count": 6,
     "metadata": {},
     "output_type": "execute_result"
    }
   ],
   "source": [
    "# Compute user activity\n",
    "# We are interested in how many playcounts each user has scored.\n",
    "userActivity = userArtistDF.groupby('userID',as_index=False).playCount.sum()\n",
    "# as_index=False allows us to keep the name playCount and the indexes of each row\n",
    "userActivity[:5]"
   ]
  },
  {
   "cell_type": "markdown",
   "metadata": {
    "slideshow": {
     "slide_type": "slide"
    }
   },
   "source": [
    "#### Question 2.2\n",
    "<div class=\"alert alert-info\">\n",
    "Plot CDF (or ECDF) of the number of play counts per User ID.  \n",
    "\n",
    "Explain and comment the figure you just created:   \n",
    "<ul>\n",
    "<li>for example, look at important percentiles (10%, 25%, median, 75%, tails such as >90%) and cross check with what you have found above to figure out if the result is plausible. </li>\n",
    "<li>discuss about your users, with respect to the application domain we target in the notebook: you will notice that for some users, there is very little interaction with the system, which means that maybe reccommending something to them is going to be more difficult than for other users who interact more with the system. </li>\n",
    "<li>look at outliers and reason about their impact on your reccommender algorithm</li>\n",
    "</ul>\n",
    "</div>"
   ]
  },
  {
   "cell_type": "code",
   "execution_count": 7,
   "metadata": {
    "slideshow": {
     "slide_type": "subslide"
    }
   },
   "outputs": [
    {
     "data": {
      "image/png": "[encoded data removed]",
      "text/plain": [
       "<Figure size 432x288 with 1 Axes>"
      ]
     },
     "metadata": {},
     "output_type": "display_data"
    }
   ],
   "source": [
    "fig, ax = plt.subplots()\n",
    "\n",
    "# Plot the cumulative distribution\n",
    "#userActivity[...].plot(..., ax=ax)\n",
    "#ax.hist(userActivity.playCount, cumulative=True, bins=np.logspace(np.log10(1),np.log10(1000), 50))\n",
    "\n",
    "maxi = userActivity.playCount.max()\n",
    "mini = userActivity.playCount.min()\n",
    "binspace = np.logspace(np.log10(mini),np.log10(maxi), 50)\n",
    "userActivity['playCount'].hist(cumulative = True, bins = binspace, ax = ax)\n",
    "\n",
    "# Calculate and plot the 5 important percentiles\n",
    "#for i, quantile in enumerate([.1, 0.25, .5, .75, .9]):\n",
    "#    ax.axvline(userActivity[...].quantile(quantile), label='%.0fth perc.' % (quantile*100))\n",
    "\n",
    "for i, quantile in enumerate([.1, 0.25, .5, .75, .9]):\n",
    "    ax.axvline(userActivity['playCount'].quantile(quantile), label='%.0fth perc.' % (quantile*100))\n",
    "\n",
    "ax.semilogx()\n",
    "ax.set_title('ECDF of number of play counts per User ID')\n",
    "ax.set_xlabel('Play Counts')\n",
    "ax.set_ylabel('ECDF')\n",
    "ax.legend()\n",
    "plt.show()"
   ]
  },
  {
   "cell_type": "markdown",
   "metadata": {},
   "source": [
    "#### Answer 2.2\n",
    "<div class=\"alert alert-warning\">\n",
    "\n",
    "The curve of the plot rises slowly before it gets steeper, and then flattens. This means there are many users who have a low play count. It will be more difficult to give these users good recommendations as they have less interaction with the system. There is also a group of users which account for a much bigger part of the total plays. They will get better recommendations as they interact more with the system. Both these groups can be considered as outliers, and they should be accounted for when we build the recommendation system.\n",
    "</div>"
   ]
  },
  {
   "cell_type": "markdown",
   "metadata": {
    "slideshow": {
     "slide_type": "slide"
    }
   },
   "source": [
    "#### Question 2.3\n",
    "\n",
    "<div class=\"alert alert-info\">\n",
    "How many play counts for each artist? Plot CDF or ECDF of the result.  \n",
    "\n",
    "Similarly to the previous question, you need to comment and interpret your result: what is the figure telling you?\n",
    "</div>"
   ]
  },
  {
   "cell_type": "code",
   "execution_count": 8,
   "metadata": {
    "slideshow": {
     "slide_type": "subslide"
    }
   },
   "outputs": [
    {
     "data": {
      "image/png": "[encoded data removed]",
      "text/plain": [
       "<Figure size 432x288 with 1 Axes>"
      ]
     },
     "metadata": {},
     "output_type": "display_data"
    }
   ],
   "source": [
    "# Compute artist popularity\n",
    "# We are interested in how many playcounts per artist\n",
    "# ATTENTION! Grouping by artistID may be problematic, as stated above.\n",
    "\n",
    "artistPopularity = userArtistDF.groupby('artistID',as_index=False).playCount.sum()\n",
    "\n",
    "fig, ax = plt.subplots()\n",
    "\n",
    "maxi = artistPopularity.playCount.max()\n",
    "mini = artistPopularity.playCount.min()\n",
    "binspace = np.logspace(np.log10(mini),np.log10(maxi), 100)\n",
    "artistPopularity['playCount'].hist(cumulative = True, bins = binspace, ax = ax)\n",
    "\n",
    "for i, quantile in enumerate([.1, 0.25, .5, .75, .9]):\n",
    "    ax.axvline(artistPopularity['playCount'].quantile(quantile), label='%.0fth perc.' % (quantile*100))\n",
    "\n",
    "ax.semilogx()\n",
    "ax.set_title('ECDF of number of play counts per Artist ID')\n",
    "ax.set_xlabel('Play Counts')\n",
    "ax.set_ylabel('ECDF')\n",
    "ax.legend()\n",
    "plt.show()"
   ]
  },
  {
   "cell_type": "markdown",
   "metadata": {},
   "source": [
    "#### Answer 2.3\n",
    "The \"graph\" increases rapidly, meaning there are a few artist accounting for most of the plays."
   ]
  },
  {
   "cell_type": "markdown",
   "metadata": {
    "slideshow": {
     "slide_type": "slide"
    }
   },
   "source": [
    "#### Question 2.4\n",
    "<div class=\"alert alert-info\">\n",
    "Plot a bar chart to show top 10 artists In terms of absolute play counts.  \n",
    "\n",
    "Comment the figure you just obtained: \n",
    "<ul>\n",
    "<li>are these reasonable results?</li>\n",
    "<li>is looking at top-10 artists enough to learn more about your data?</li>\n",
    "<li>do you see anything strange in the data?</li>\n",
    "</ul>\n",
    "</div>"
   ]
  },
  {
   "cell_type": "code",
   "execution_count": 9,
   "metadata": {
    "slideshow": {
     "slide_type": "subslide"
    }
   },
   "outputs": [
    {
     "data": {
      "image/png": "[encoded data removed]",
      "text/plain": [
       "<Figure size 432x288 with 1 Axes>"
      ]
     },
     "metadata": {},
     "output_type": "display_data"
    }
   ],
   "source": [
    "topN = 10\n",
    "topNArtist = artistPopularity.sort_values('playCount', ascending=False)[:topN]\n",
    "#print(topNArtist)\n",
    "fig, ax = plt.subplots()\n",
    "\n",
    "topNArtist.plot(x='artistID',\n",
    "                y='playCount', \n",
    "                kind='barh', \n",
    "                legend=False, \n",
    "                title='Top-10 Artist ID per play counts',\n",
    "                ax=ax)\n",
    "\n",
    "ax.set_xlabel('Play Count') \n",
    "ax.set_ylabel('Artist')     \n",
    "\n",
    "plt.show()"
   ]
  },
  {
   "cell_type": "markdown",
   "metadata": {},
   "source": [
    "#### Answer 2.4\n",
    "\n",
    "This is our answer"
   ]
  },
  {
   "cell_type": "markdown",
   "metadata": {
    "slideshow": {
     "slide_type": "slide"
    }
   },
   "source": [
    "### Question 3\n",
    "All seems clear right now, but ... wait a second! What about the problems indicated above about artist \"disambiguation\"? Are these artist ID we are using referring to unique artists? How can we make sure that such \"opaque\" identifiers point to different bands? Let's try to use some additional dataset to answer this question:  `artist_data.txt` dataset. This time, the schema of the dataset consists in:\n",
    "\n",
    "```\n",
    "artist ID: long int\n",
    "name: string\n",
    "```\n",
    "\n",
    "We will try to find whether a single artist has two different IDs.\n",
    "\n",
    "#### Question 3.1\n",
    "\n",
    "<div class=\"alert alert-info\">\n",
    "Load the data ('\\t'-separated) from `/datasets/lastfm/artist_data.txt` and use the Pandas API to show 5 samples.  \n",
    "</div>\n",
    "\n",
    "**HINT**: `artist_data.txt` has malformed entries. If you encounter some error when parsing lines in data because of invalid entries, functions `pandas.DataFrame.dropna()` and `pandas.to_numeric()` will help you to eliminate these entries.\n"
   ]
  },
  {
   "cell_type": "code",
   "execution_count": 10,
   "metadata": {
    "slideshow": {
     "slide_type": "subslide"
    }
   },
   "outputs": [
    {
     "name": "stderr",
     "output_type": "stream",
     "text": [
      "/usr/local/lib/python3.5/dist-packages/IPython/core/interactiveshell.py:2785: DtypeWarning: Columns (0,1) have mixed types. Specify dtype option on import or set low_memory=False.\n",
      "  interactivity=interactivity, compiler=compiler, result=result)\n"
     ]
    }
   ],
   "source": [
    "# Read from the .csv file (might take a while)\n",
    "artistDF = pd.read_csv(base + 'artist_data.txt',\n",
    "                       sep='\\t',\n",
    "                       header=None,\n",
    "                       names=['artistID', 'name'])\n"
   ]
  },
  {
   "cell_type": "code",
   "execution_count": 11,
   "metadata": {},
   "outputs": [
    {
     "data": {
      "text/html": [
       "<div>\n",
       "<style scoped>\n",
       "    .dataframe tbody tr th:only-of-type {\n",
       "        vertical-align: middle;\n",
       "    }\n",
       "\n",
       "    .dataframe tbody tr th {\n",
       "        vertical-align: top;\n",
       "    }\n",
       "\n",
       "    .dataframe thead th {\n",
       "        text-align: right;\n",
       "    }\n",
       "</style>\n",
       "<table border=\"1\" class=\"dataframe\">\n",
       "  <thead>\n",
       "    <tr style=\"text-align: right;\">\n",
       "      <th></th>\n",
       "      <th>artistID</th>\n",
       "      <th>name</th>\n",
       "    </tr>\n",
       "  </thead>\n",
       "  <tbody>\n",
       "    <tr>\n",
       "      <th>3670</th>\n",
       "      <td>10024022</td>\n",
       "      <td>デューク・エリントン楽団</td>\n",
       "    </tr>\n",
       "    <tr>\n",
       "      <th>3671</th>\n",
       "      <td>10024023</td>\n",
       "      <td>Alas - 04 - Absolute Purity</td>\n",
       "    </tr>\n",
       "    <tr>\n",
       "      <th>3672</th>\n",
       "      <td>10024024</td>\n",
       "      <td>Piero Barbetti</td>\n",
       "    </tr>\n",
       "    <tr>\n",
       "      <th>3673</th>\n",
       "      <td>10024025</td>\n",
       "      <td>The James Taylot Quartet</td>\n",
       "    </tr>\n",
       "    <tr>\n",
       "      <th>3674</th>\n",
       "      <td>10024026</td>\n",
       "      <td>spice_girls</td>\n",
       "    </tr>\n",
       "    <tr>\n",
       "      <th>3675</th>\n",
       "      <td>10024027</td>\n",
       "      <td>Rio Natsuki</td>\n",
       "    </tr>\n",
       "    <tr>\n",
       "      <th>3681</th>\n",
       "      <td>10024029</td>\n",
       "      <td>Ken Harai</td>\n",
       "    </tr>\n",
       "    <tr>\n",
       "      <th>3682</th>\n",
       "      <td>10113156</td>\n",
       "      <td>Yoko Shimomura, Isao Abe, Yoshihiro Sakaguchi,...</td>\n",
       "    </tr>\n",
       "    <tr>\n",
       "      <th>3683</th>\n",
       "      <td>6745099</td>\n",
       "      <td>Will Smith - Parody</td>\n",
       "    </tr>\n",
       "    <tr>\n",
       "      <th>3684</th>\n",
       "      <td>6768516</td>\n",
       "      <td>吉沢元治ベース・ソロ</td>\n",
       "    </tr>\n",
       "  </tbody>\n",
       "</table>\n",
       "</div>"
      ],
      "text/plain": [
       "      artistID                                               name\n",
       "3670  10024022                                       デューク・エリントン楽団\n",
       "3671  10024023                        Alas - 04 - Absolute Purity\n",
       "3672  10024024                                     Piero Barbetti\n",
       "3673  10024025                           The James Taylot Quartet\n",
       "3674  10024026                                        spice_girls\n",
       "3675  10024027                                        Rio Natsuki\n",
       "3681  10024029                                          Ken Harai\n",
       "3682  10113156  Yoko Shimomura, Isao Abe, Yoshihiro Sakaguchi,...\n",
       "3683   6745099                                Will Smith - Parody\n",
       "3684   6768516                                         吉沢元治ベース・ソロ"
      ]
     },
     "execution_count": 11,
     "metadata": {},
     "output_type": "execute_result"
    }
   ],
   "source": [
    "# Filter out possible malformed entries\n",
    "artistDF.artistID = pd.to_numeric(artistDF.artistID, errors='coerce')\n",
    "artistDF = artistDF.dropna()\n",
    "\n",
    "# Cast each column to its datatype\n",
    "artistDF.artistID = artistDF.artistID.astype(np.int64)\n",
    "\n",
    "artistDF[3670:3680]"
   ]
  },
  {
   "cell_type": "markdown",
   "metadata": {
    "slideshow": {
     "slide_type": "slide"
    }
   },
   "source": [
    "#### Question 3.2\n",
    "<div class=\"alert alert-info\">\n",
    "Find 20 artists whose name contains `Aerosmith`. Take a look at artists that have ID equal to `1000010` and `2082323`. In your opinion, are they pointing to the same artist?  \n",
    "</div>\n",
    "\n",
    "**HINT**: Function `contains(string)` can be useful in this case."
   ]
  },
  {
   "cell_type": "code",
   "execution_count": 12,
   "metadata": {
    "slideshow": {
     "slide_type": "subslide"
    }
   },
   "outputs": [
    {
     "data": {
      "text/html": [
       "<div>\n",
       "<style scoped>\n",
       "    .dataframe tbody tr th:only-of-type {\n",
       "        vertical-align: middle;\n",
       "    }\n",
       "\n",
       "    .dataframe tbody tr th {\n",
       "        vertical-align: top;\n",
       "    }\n",
       "\n",
       "    .dataframe thead th {\n",
       "        text-align: right;\n",
       "    }\n",
       "</style>\n",
       "<table border=\"1\" class=\"dataframe\">\n",
       "  <thead>\n",
       "    <tr style=\"text-align: right;\">\n",
       "      <th></th>\n",
       "      <th>artistID</th>\n",
       "      <th>name</th>\n",
       "    </tr>\n",
       "  </thead>\n",
       "  <tbody>\n",
       "    <tr>\n",
       "      <th>9925</th>\n",
       "      <td>10586006</td>\n",
       "      <td>Dusty Springfield/Aerosmith</td>\n",
       "    </tr>\n",
       "    <tr>\n",
       "      <th>12010</th>\n",
       "      <td>6946007</td>\n",
       "      <td>Aerosmith/RunDMC</td>\n",
       "    </tr>\n",
       "    <tr>\n",
       "      <th>12456</th>\n",
       "      <td>10475683</td>\n",
       "      <td>Aerosmith: Just Push Play</td>\n",
       "    </tr>\n",
       "    <tr>\n",
       "      <th>14567</th>\n",
       "      <td>1083031</td>\n",
       "      <td>Aerosmith/ G n R</td>\n",
       "    </tr>\n",
       "    <tr>\n",
       "      <th>15761</th>\n",
       "      <td>6872848</td>\n",
       "      <td>Britney, Nsync, Nelly, Aerosmith,Mary J Blige.</td>\n",
       "    </tr>\n",
       "    <tr>\n",
       "      <th>19409</th>\n",
       "      <td>10586963</td>\n",
       "      <td>Green Day - Oasis - Eminem - Aerosmith</td>\n",
       "    </tr>\n",
       "    <tr>\n",
       "      <th>20337</th>\n",
       "      <td>10028830</td>\n",
       "      <td>The Aerosmith Antology2</td>\n",
       "    </tr>\n",
       "    <tr>\n",
       "      <th>25166</th>\n",
       "      <td>10300357</td>\n",
       "      <td>Run-DMC + Aerosmith</td>\n",
       "    </tr>\n",
       "    <tr>\n",
       "      <th>26399</th>\n",
       "      <td>2027746</td>\n",
       "      <td>Aerosmith by MusicInter.com</td>\n",
       "    </tr>\n",
       "    <tr>\n",
       "      <th>28469</th>\n",
       "      <td>1140418</td>\n",
       "      <td>[rap]Run DMC and Aerosmith</td>\n",
       "    </tr>\n",
       "    <tr>\n",
       "      <th>30207</th>\n",
       "      <td>10237208</td>\n",
       "      <td>Aerosmith + Run DMC</td>\n",
       "    </tr>\n",
       "    <tr>\n",
       "      <th>33127</th>\n",
       "      <td>10588537</td>\n",
       "      <td>Aerosmith, Kid Rock, &amp; Run DMC</td>\n",
       "    </tr>\n",
       "    <tr>\n",
       "      <th>41891</th>\n",
       "      <td>9934757</td>\n",
       "      <td>Aerosmith - Big Ones</td>\n",
       "    </tr>\n",
       "    <tr>\n",
       "      <th>42294</th>\n",
       "      <td>10437510</td>\n",
       "      <td>Green Day ft. Oasis &amp; Aerosmith</td>\n",
       "    </tr>\n",
       "    <tr>\n",
       "      <th>48005</th>\n",
       "      <td>6936680</td>\n",
       "      <td>RUN DNC &amp; Aerosmith</td>\n",
       "    </tr>\n",
       "    <tr>\n",
       "      <th>49323</th>\n",
       "      <td>10479781</td>\n",
       "      <td>Aerosmith Hits</td>\n",
       "    </tr>\n",
       "    <tr>\n",
       "      <th>55799</th>\n",
       "      <td>10114147</td>\n",
       "      <td>Charlies Angels - Aerosmith</td>\n",
       "    </tr>\n",
       "    <tr>\n",
       "      <th>62947</th>\n",
       "      <td>1262439</td>\n",
       "      <td>Kid Rock, Run DMC &amp; Aerosmith</td>\n",
       "    </tr>\n",
       "    <tr>\n",
       "      <th>63907</th>\n",
       "      <td>7032554</td>\n",
       "      <td>Aerosmith &amp; Run-D.M.C.</td>\n",
       "    </tr>\n",
       "    <tr>\n",
       "      <th>64842</th>\n",
       "      <td>10033592</td>\n",
       "      <td>Aerosmith?</td>\n",
       "    </tr>\n",
       "  </tbody>\n",
       "</table>\n",
       "</div>"
      ],
      "text/plain": [
       "       artistID                                            name\n",
       "9925   10586006                     Dusty Springfield/Aerosmith\n",
       "12010   6946007                                Aerosmith/RunDMC\n",
       "12456  10475683                       Aerosmith: Just Push Play\n",
       "14567   1083031                                Aerosmith/ G n R\n",
       "15761   6872848  Britney, Nsync, Nelly, Aerosmith,Mary J Blige.\n",
       "19409  10586963          Green Day - Oasis - Eminem - Aerosmith\n",
       "20337  10028830                         The Aerosmith Antology2\n",
       "25166  10300357                             Run-DMC + Aerosmith\n",
       "26399   2027746                     Aerosmith by MusicInter.com\n",
       "28469   1140418                      [rap]Run DMC and Aerosmith\n",
       "30207  10237208                             Aerosmith + Run DMC\n",
       "33127  10588537                  Aerosmith, Kid Rock, & Run DMC\n",
       "41891   9934757                            Aerosmith - Big Ones\n",
       "42294  10437510                 Green Day ft. Oasis & Aerosmith\n",
       "48005   6936680                             RUN DNC & Aerosmith\n",
       "49323  10479781                                  Aerosmith Hits\n",
       "55799  10114147                     Charlies Angels - Aerosmith\n",
       "62947   1262439                   Kid Rock, Run DMC & Aerosmith\n",
       "63907   7032554                          Aerosmith & Run-D.M.C.\n",
       "64842  10033592                                      Aerosmith?"
      ]
     },
     "execution_count": 12,
     "metadata": {},
     "output_type": "execute_result"
    }
   ],
   "source": [
    "# get artists whose name contains \"Aerosmith\"\n",
    "artistDF[artistDF.name.str.contains('Aerosmith')][:20]\n",
    "\n",
    "# show two examples\n",
    "#artistDF[artistDF['artistID'] == 1000010]\n",
    "#artistDF[artistDF['artistID'] == 2082323]"
   ]
  },
  {
   "cell_type": "markdown",
   "metadata": {},
   "source": [
    "To answer this question correctly, we need to use an additional dataset `artist_alias.txt` which contains the ids of mispelled artists and standard artists. The schema of the dataset consists in:\n",
    "\n",
    "```\n",
    "mispelledID ID: long int\n",
    "standard ID: long int\n",
    "```"
   ]
  },
  {
   "cell_type": "markdown",
   "metadata": {
    "slideshow": {
     "slide_type": "slide"
    }
   },
   "source": [
    "#### Question 3.3\n",
    "<div class=\"alert alert-info\">\n",
    "Using Pandas, load the dataset from `/datasets/lastfm/artist_alias.txt` then show 5 samples.\n",
    "</div>"
   ]
  },
  {
   "cell_type": "code",
   "execution_count": 13,
   "metadata": {
    "slideshow": {
     "slide_type": "subslide"
    }
   },
   "outputs": [
    {
     "data": {
      "text/html": [
       "<div>\n",
       "<style scoped>\n",
       "    .dataframe tbody tr th:only-of-type {\n",
       "        vertical-align: middle;\n",
       "    }\n",
       "\n",
       "    .dataframe tbody tr th {\n",
       "        vertical-align: top;\n",
       "    }\n",
       "\n",
       "    .dataframe thead th {\n",
       "        text-align: right;\n",
       "    }\n",
       "</style>\n",
       "<table border=\"1\" class=\"dataframe\">\n",
       "  <thead>\n",
       "    <tr style=\"text-align: right;\">\n",
       "      <th></th>\n",
       "      <th>misspelledArtistID</th>\n",
       "      <th>standardArtistID</th>\n",
       "    </tr>\n",
       "  </thead>\n",
       "  <tbody>\n",
       "    <tr>\n",
       "      <th>0</th>\n",
       "      <td>1092764</td>\n",
       "      <td>1000311</td>\n",
       "    </tr>\n",
       "    <tr>\n",
       "      <th>1</th>\n",
       "      <td>1095122</td>\n",
       "      <td>1000557</td>\n",
       "    </tr>\n",
       "    <tr>\n",
       "      <th>2</th>\n",
       "      <td>6708070</td>\n",
       "      <td>1007267</td>\n",
       "    </tr>\n",
       "    <tr>\n",
       "      <th>3</th>\n",
       "      <td>10088054</td>\n",
       "      <td>1042317</td>\n",
       "    </tr>\n",
       "    <tr>\n",
       "      <th>4</th>\n",
       "      <td>1195917</td>\n",
       "      <td>1042317</td>\n",
       "    </tr>\n",
       "  </tbody>\n",
       "</table>\n",
       "</div>"
      ],
      "text/plain": [
       "   misspelledArtistID  standardArtistID\n",
       "0             1092764           1000311\n",
       "1             1095122           1000557\n",
       "2             6708070           1007267\n",
       "3            10088054           1042317\n",
       "4             1195917           1042317"
      ]
     },
     "execution_count": 13,
     "metadata": {},
     "output_type": "execute_result"
    }
   ],
   "source": [
    "artistAliasDF = pd.read_csv(base + 'artist_alias.txt',\n",
    "                            sep='\\t',\n",
    "                            header=None,\n",
    "                            names=['misspelledArtistID', 'standardArtistID'])\n",
    "\n",
    "artistAliasDF = artistAliasDF.dropna()\n",
    "artistAliasDF.misspelledArtistID = artistAliasDF.misspelledArtistID.astype(np.int64)\n",
    "#print(type(artistAliasDF.standardArtistID[0])) Already an np.int64\n",
    "\n",
    "artistAliasDF[:5]"
   ]
  },
  {
   "cell_type": "markdown",
   "metadata": {
    "slideshow": {
     "slide_type": "slide"
    }
   },
   "source": [
    "#### Question 3.4\n",
    "<div class=\"alert alert-info\">\n",
    "Verify the answer of question 3.2 (\"Are artists that have ID equal to `1000010` and `2082323` the same ?\") by finding the standard ids corresponding to the mispelled ids `1000010` and `2082323` respectively.\n",
    "</div>"
   ]
  },
  {
   "cell_type": "code",
   "execution_count": 44,
   "metadata": {
    "slideshow": {
     "slide_type": "subslide"
    }
   },
   "outputs": [
    {
     "data": {
      "text/html": [
       "<div>\n",
       "<style scoped>\n",
       "    .dataframe tbody tr th:only-of-type {\n",
       "        vertical-align: middle;\n",
       "    }\n",
       "\n",
       "    .dataframe tbody tr th {\n",
       "        vertical-align: top;\n",
       "    }\n",
       "\n",
       "    .dataframe thead th {\n",
       "        text-align: right;\n",
       "    }\n",
       "</style>\n",
       "<table border=\"1\" class=\"dataframe\">\n",
       "  <thead>\n",
       "    <tr style=\"text-align: right;\">\n",
       "      <th></th>\n",
       "      <th>misspelledArtistID</th>\n",
       "      <th>standardArtistID</th>\n",
       "    </tr>\n",
       "  </thead>\n",
       "  <tbody>\n",
       "    <tr>\n",
       "      <th>1135</th>\n",
       "      <td>2082323</td>\n",
       "      <td>1000010</td>\n",
       "    </tr>\n",
       "    <tr>\n",
       "      <th>2987</th>\n",
       "      <td>1019565</td>\n",
       "      <td>1000010</td>\n",
       "    </tr>\n",
       "    <tr>\n",
       "      <th>2988</th>\n",
       "      <td>1053793</td>\n",
       "      <td>1000010</td>\n",
       "    </tr>\n",
       "    <tr>\n",
       "      <th>3293</th>\n",
       "      <td>1128909</td>\n",
       "      <td>1000010</td>\n",
       "    </tr>\n",
       "    <tr>\n",
       "      <th>4844</th>\n",
       "      <td>1174667</td>\n",
       "      <td>1000010</td>\n",
       "    </tr>\n",
       "  </tbody>\n",
       "</table>\n",
       "</div>"
      ],
      "text/plain": [
       "      misspelledArtistID  standardArtistID\n",
       "1135             2082323           1000010\n",
       "2987             1019565           1000010\n",
       "2988             1053793           1000010\n",
       "3293             1128909           1000010\n",
       "4844             1174667           1000010"
      ]
     },
     "execution_count": 44,
     "metadata": {},
     "output_type": "execute_result"
    }
   ],
   "source": [
    "artistAliasDF[artistAliasDF.standardArtistID == 1000010][:5]\n",
    "\n",
    "# 1000010 is a standard id, so it hasn't been considered as mispelled id in the dataset"
   ]
  },
  {
   "cell_type": "markdown",
   "metadata": {},
   "source": [
    "#### Answer 3.4\n",
    "From the above table it seems like '1000010' '2082323' are the same. The same goes for '1019565', and the rest of the 130 entries in the table above."
   ]
  },
  {
   "cell_type": "markdown",
   "metadata": {
    "slideshow": {
     "slide_type": "slide"
    }
   },
   "source": [
    "### Question 4\n",
    "\n",
    "The misspelled or nonstandard information about artist make our results in the previous queries a bit \"sloppy\". To overcome this problem, we can replace all mispelled artist ids by the corresponding standard ids and re-compute the basic descriptive statistics on the \"amended\" data.\n",
    "\n",
    "#### Question 4.2\n",
    "<div class=\"alert alert-info\">\n",
    "Replace the non-standard artist ids in the dataframe that was loaded from `/datasets/lastfm/user_artist_data.txt` by the corresponding standard ids then show 5 samples.\n",
    "</div>\n",
    "\n",
    "\n",
    "**NOTE 1**: If an id doesn't exist in the dictionary as a mispelled id, it is really a standard id.\n",
    "\n",
    "**NOTE 2**: be careful! you need to be able to verify that you indeed solved the problem of having bad artist IDs. In principle, for the new data to be correct, we should to have duplicate pairs (user, artist), potentially with different play counts, right? In answering the question, please **show** that you indeed fixed the problem and find a way to fix the duplicates (user, artist).\n",
    "\n",
    "**HINT**: have a look to the functions `pandas.merge()` and `pandas.Dataframe.combine_first()`."
   ]
  },
  {
   "cell_type": "code",
   "execution_count": 15,
   "metadata": {},
   "outputs": [
    {
     "name": "stdout",
     "output_type": "stream",
     "text": [
      "Cleaning the dataset took 47.84 seconds\n"
     ]
    },
    {
     "data": {
      "text/html": [
       "<div>\n",
       "<style scoped>\n",
       "    .dataframe tbody tr th:only-of-type {\n",
       "        vertical-align: middle;\n",
       "    }\n",
       "\n",
       "    .dataframe tbody tr th {\n",
       "        vertical-align: top;\n",
       "    }\n",
       "\n",
       "    .dataframe thead th {\n",
       "        text-align: right;\n",
       "    }\n",
       "</style>\n",
       "<table border=\"1\" class=\"dataframe\">\n",
       "  <thead>\n",
       "    <tr style=\"text-align: right;\">\n",
       "      <th></th>\n",
       "      <th>realArtistID</th>\n",
       "      <th>userID</th>\n",
       "      <th>playCount</th>\n",
       "    </tr>\n",
       "  </thead>\n",
       "  <tbody>\n",
       "    <tr>\n",
       "      <th>0</th>\n",
       "      <td>1</td>\n",
       "      <td>803</td>\n",
       "      <td>7</td>\n",
       "    </tr>\n",
       "    <tr>\n",
       "      <th>1</th>\n",
       "      <td>1</td>\n",
       "      <td>3048</td>\n",
       "      <td>1</td>\n",
       "    </tr>\n",
       "    <tr>\n",
       "      <th>2</th>\n",
       "      <td>1</td>\n",
       "      <td>3165</td>\n",
       "      <td>11</td>\n",
       "    </tr>\n",
       "    <tr>\n",
       "      <th>3</th>\n",
       "      <td>1</td>\n",
       "      <td>3332</td>\n",
       "      <td>57</td>\n",
       "    </tr>\n",
       "    <tr>\n",
       "      <th>4</th>\n",
       "      <td>1</td>\n",
       "      <td>3921</td>\n",
       "      <td>2</td>\n",
       "    </tr>\n",
       "    <tr>\n",
       "      <th>5</th>\n",
       "      <td>1</td>\n",
       "      <td>4293</td>\n",
       "      <td>2</td>\n",
       "    </tr>\n",
       "    <tr>\n",
       "      <th>6</th>\n",
       "      <td>1</td>\n",
       "      <td>4299</td>\n",
       "      <td>25</td>\n",
       "    </tr>\n",
       "    <tr>\n",
       "      <th>7</th>\n",
       "      <td>1</td>\n",
       "      <td>4301</td>\n",
       "      <td>1</td>\n",
       "    </tr>\n",
       "    <tr>\n",
       "      <th>8</th>\n",
       "      <td>1</td>\n",
       "      <td>4986</td>\n",
       "      <td>26</td>\n",
       "    </tr>\n",
       "    <tr>\n",
       "      <th>9</th>\n",
       "      <td>1</td>\n",
       "      <td>5582</td>\n",
       "      <td>3</td>\n",
       "    </tr>\n",
       "  </tbody>\n",
       "</table>\n",
       "</div>"
      ],
      "text/plain": [
       "   realArtistID  userID  playCount\n",
       "0             1     803          7\n",
       "1             1    3048          1\n",
       "2             1    3165         11\n",
       "3             1    3332         57\n",
       "4             1    3921          2\n",
       "5             1    4293          2\n",
       "6             1    4299         25\n",
       "7             1    4301          1\n",
       "8             1    4986         26\n",
       "9             1    5582          3"
      ]
     },
     "execution_count": 15,
     "metadata": {},
     "output_type": "execute_result"
    }
   ],
   "source": [
    "t0 = time()\n",
    "\n",
    "# Join the two dataframes based on the misspelledArtistID\n",
    "newUserArtistDF = pd.merge(userArtistDF, artistAliasDF, left_on='artistID', right_on='misspelledArtistID', how='left')\n",
    "\n",
    "# Get the final realArtistID\n",
    "newUserArtistDF['realArtistID'] = newUserArtistDF['standardArtistID'].combine_first(newUserArtistDF['artistID']).astype(np.int64)\n",
    "\n",
    "# Delete columns not required\n",
    "newUserArtistDF.drop(['artistID', 'standardArtistID', 'misspelledArtistID'], axis=1, inplace=True)\n",
    "\n",
    "# Fix duplicates of the pair (userID, realArtistID)\n",
    "newUserArtistDF = newUserArtistDF.groupby(['realArtistID', 'userID'], as_index=False).playCount.sum()\n",
    "\n",
    "print('Cleaning the dataset took %.2f seconds' % (time() - t0))\n",
    "\n",
    "newUserArtistDF[:10]"
   ]
  },
  {
   "cell_type": "code",
   "execution_count": 16,
   "metadata": {},
   "outputs": [],
   "source": [
    "assert (newUserArtistDF.groupby(['userID', 'realArtistID'], as_index=False).count()['playCount'] == 1).all(),  \\\n",
    "    'Each combination user/artist should appear only once'"
   ]
  },
  {
   "cell_type": "markdown",
   "metadata": {
    "slideshow": {
     "slide_type": "slide"
    }
   },
   "source": [
    "### Question 5\n",
    "\n",
    "Well, our data frame contains clean and \"standard\" data. We can use it to redo previous statistic queries. Now that we have all data, including the relation (`artistID`/`name`), please find a way to use the artist name instead of its ID in all required plots.\n",
    "\n",
    "#### Question 5.1\n",
    "<div class=\"alert alert-info\">\n",
    "How many unique artists? Compare with the result when using old data.\n",
    "</div>"
   ]
  },
  {
   "cell_type": "code",
   "execution_count": 17,
   "metadata": {
    "slideshow": {
     "slide_type": "subslide"
    }
   },
   "outputs": [
    {
     "name": "stdout",
     "output_type": "stream",
     "text": [
      "Total n. of artists:  1568126\n",
      "Total n. of artists (before cleaning):  1631028\n"
     ]
    }
   ],
   "source": [
    "uniqueArtists2 = newUserArtistDF.realArtistID.nunique()\n",
    "\n",
    "print(\"Total n. of artists: \", uniqueArtists2)\n",
    "print('Total n. of artists (before cleaning): ', uniqueArtists)"
   ]
  },
  {
   "cell_type": "markdown",
   "metadata": {
    "slideshow": {
     "slide_type": "slide"
    }
   },
   "source": [
    "#### Question 5.2\n",
    "\n",
    "<div class=\"alert alert-info\">\n",
    "Who are the top-10 artistis?\n",
    "<ul>\n",
    "  <li>In terms of absolute play counts</li>\n",
    "  <li>In terms of \"audience size\", that is, how many users listened to one of their track at least once</li>\n",
    "</ul>  \n",
    "\n",
    "Plot the results, and explain the figures you obtain.\n",
    "<div>"
   ]
  },
  {
   "cell_type": "code",
   "execution_count": 18,
   "metadata": {
    "slideshow": {
     "slide_type": "subslide"
    }
   },
   "outputs": [
    {
     "data": {
      "image/png": "[encoded data removed]",
      "text/plain": [
       "<Figure size 432x288 with 1 Axes>"
      ]
     },
     "metadata": {},
     "output_type": "display_data"
    }
   ],
   "source": [
    "# calculate top-10 artists in term of play counts\n",
    "topN = 10\n",
    "\n",
    "artistPopularity = newUserArtistDF.groupby('realArtistID', as_index=False).playCount.sum()\n",
    "\n",
    "# Get the name of the artists based on their IDs\n",
    "artistPopularity = pd.merge(artistPopularity, artistDF, right_on='artistID', left_on='realArtistID', how='left')\n",
    "topNArtist = artistPopularity.sort_values('playCount', ascending=False)[:topN]\n",
    "\n",
    "fig, ax = plt.subplots()\n",
    "\n",
    "\n",
    "topNArtist.playCount.plot(kind='barh', ax=ax)\n",
    "\n",
    "ax.set_yticklabels(topNArtist['name'])\n",
    "ax.set_xlabel('Play Count')\n",
    "ax.set_title('Top-10 Artist per play counts')\n",
    "\n",
    "plt.show()"
   ]
  },
  {
   "cell_type": "code",
   "execution_count": 19,
   "metadata": {
    "slideshow": {
     "slide_type": "-"
    }
   },
   "outputs": [
    {
     "data": {
      "image/png": "[encoded data removed]",
      "text/plain": [
       "<Figure size 432x288 with 1 Axes>"
      ]
     },
     "metadata": {},
     "output_type": "display_data"
    }
   ],
   "source": [
    "# calculate top-10 artists in term of audience size\n",
    "topN = 10\n",
    "\n",
    "artistAudience = newUserArtistDF.groupby('realArtistID', as_index=False).userID.count()\n",
    "artistAudience['audienceSize'] = artistAudience['userID'] \n",
    "artistAudience = pd.merge(artistAudience, artistDF, right_on='artistID', left_on='realArtistID', how='left')\n",
    "topNArtist = artistAudience.sort_values('audienceSize', ascending=False)[:topN]\n",
    "artistAudience.drop(['realArtistID', 'userID'], axis=1, inplace=True)\n",
    "\n",
    "fig, ax = plt.subplots()\n",
    "\n",
    "topNArtist['audienceSize'].plot(kind='barh', ax=ax)\n",
    "\n",
    "ax.set_yticklabels(topNArtist['name'])\n",
    "ax.set_xlabel('Number of listeners') # Play count?\n",
    "ax.set_title('Top-10 Artist per play counts')\n",
    "\n",
    "plt.show()"
   ]
  },
  {
   "cell_type": "markdown",
   "metadata": {},
   "source": [
    "#### Answer 5.2\n",
    "\n",
    "This is our answer"
   ]
  },
  {
   "cell_type": "markdown",
   "metadata": {
    "slideshow": {
     "slide_type": "slide"
    }
   },
   "source": [
    "#### Question 5.3\n",
    "\n",
    "<div class=\"alert alert-info\">\n",
    "Who are the top-10 users?\n",
    "<ul>\n",
    "  <li>In terms of absolute play counts</li>\n",
    "  <li>In terms of \"curiosity\", that is, how many different artists they listened to</li>\n",
    "\n",
    "</ul>  \n",
    "\n",
    "Plot the results\n",
    "</div>"
   ]
  },
  {
   "cell_type": "code",
   "execution_count": 20,
   "metadata": {
    "slideshow": {
     "slide_type": "subslide"
    }
   },
   "outputs": [
    {
     "data": {
      "image/png": "[encoded data removed]",
      "text/plain": [
       "<Figure size 432x288 with 1 Axes>"
      ]
     },
     "metadata": {},
     "output_type": "display_data"
    }
   ],
   "source": [
    "# calculate top-10 user in term of play counts\n",
    "topN = 10\n",
    "\n",
    "userPlayCount = newUserArtistDF.groupby('userID', as_index=False).playCount.sum()\n",
    "topNUser = userPlayCount.sort_values('playCount', ascending=False)[:topN]\n",
    "\n",
    "fig, ax = plt.subplots()\n",
    "\n",
    "topNUser['playCount'].plot(kind='barh', ax=ax)\n",
    "\n",
    "ax.set_yticklabels(topNUser['userID'])\n",
    "ax.set_xlabel('Play Count')\n",
    "ax.set_title('Top-10 User per play count')\n",
    "\n",
    "plt.show()\n"
   ]
  },
  {
   "cell_type": "code",
   "execution_count": 21,
   "metadata": {},
   "outputs": [
    {
     "data": {
      "image/png": "[encoded data removed]",
      "text/plain": [
       "<Figure size 432x288 with 1 Axes>"
      ]
     },
     "metadata": {},
     "output_type": "display_data"
    }
   ],
   "source": [
    "# calculate top-10 user in term of curiosity\n",
    "topN = 10\n",
    "\n",
    "userCuriosity = newUserArtistDF.groupby('userID', as_index=False).realArtistID.count()\n",
    "userCuriosity.rename(columns={'realArtistID':'nrArtistsListened'}, inplace=True)\n",
    "topNUser = userCuriosity.sort_values('nrArtistsListened', ascending=False)[:topN]\n",
    "\n",
    "fig, ax = plt.subplots()\n",
    "\n",
    "topNUser['nrArtistsListened'].plot(kind='barh', ax=ax)\n",
    "\n",
    "ax.set_yticklabels(topNUser['userID'])\n",
    "ax.set_xlabel('Number of artists listened to') # Play count? \n",
    "ax.set_title('Top-10 User per artist repertoire')\n",
    "\n",
    "plt.show()"
   ]
  },
  {
   "cell_type": "markdown",
   "metadata": {},
   "source": [
    "Now we have some valuable information about the data. It's the time to study how to build a statistical models."
   ]
  },
  {
   "cell_type": "markdown",
   "metadata": {
    "slideshow": {
     "slide_type": "slide"
    }
   },
   "source": [
    "# 2. Build a statistical models to make recommendations\n",
    "\n",
    "## 2.1 Introduction to recommender systems\n",
    "\n",
    "In a recommendation-system application there are two classes of entities, which we shall refer to as `users` and `items`. Users have preferences for certain items, and these preferences must be inferred from the data. The data itself is represented as a `preference matrix` $A$, giving for each user-item pair, a value that represents what is known about the degree of preference of that user for that item. The table below is an example for a `preference matrix` of 5 users and `k` items. The `preference matrix` is also known as `utility matrix`.\n",
    "\n",
    "| .  | IT1 | IT2 | IT3 | ... | ITk |\n",
    "|----|---|---|---|---|---|\n",
    "| U1 | 1 | na | 5 | ... | 3 |\n",
    "| U2 | na | 2 | na | ... | 2 |\n",
    "| U3 | 5 | na | 3 | ... | na |\n",
    "| U4 | 3 | 3 | na | ... | 4 |\n",
    "| U5 | na | 1 | na | ... | ... |\n",
    "\n",
    "The value of row i, column j expresses how much does user `i` like item `j`. The values are often the rating scores of users for items. An unknown value implies that we have no explicit information about the user's preference for the item. The goal of a recommendation system is to predict \"the blanks\" in the `preference matrix`. For example, assume that the rating score is from 1 (dislike) to 5 (love), would user `U5` like `IT3` ? We have two approaches:\n",
    "\n",
    "* Designing our recommendation system to take into account properties of items such as brand, category, price... or even the similarity of their names. We can denote the similarity of items `IT2` and `IT3`, and then conclude that because user `U5` did not like `IT2`, they were unlikely to enjoy SW2 either.\n",
    "\n",
    "* We might observe that the people who rated both `IT2` and `IT3` tended to give them similar ratings. Thus, we could conclude that user `U5` would also give `IT3` a low rating, similar to `U5`'s rating of `IT2`\n",
    "\n",
    "It is not necessary to predict every blank entry in a `utility matrix`. Rather, it is only necessary to discover some entries in each row that are likely to be high. In most applications, the recommendation system does not oﬀer users a ranking of all items, but rather suggests a few that the user should value highly. It may not even be necessary to ﬁnd all items with the highest expected ratings, but only to ﬁnd a large subset of those with the highest ratings.\n",
    "\n",
    "\n",
    "## 2.2 Families of recommender systems\n",
    "\n",
    "In general, recommender systems can be categorized into two groups:\n",
    "\n",
    "* **Content-Based** systems focus on properties of items. Similarity of items is determined by measuring the similarity in their properties.\n",
    "\n",
    "* **Collaborative-Filtering** systems focus on the relationship between users and items. Similarity of items is determined by the similarity of the ratings of those items by the users who have rated both items.\n",
    "\n",
    "In the usecase of this notebook, artists take the role of `items`, and `users` keep the same role as `users`.\n",
    "Since we have no information about `artists`, except their names, we cannot build a `content-based` recommender system.\n",
    "\n",
    "Therefore, in the rest of this notebook, we only focus on `Collaborative-Filtering` algorithms.\n",
    "\n",
    "## 2.3 Collaborative-Filtering \n",
    "In this section, we study a member of a broad class of algorithms called `latent-factor` models. They try to explain observed interactions between large numbers of users and products through a relatively small number of unobserved, underlying reasons. It is analogous to explaining why millions of people buy a particular few of thousands of possible albums by describing users and albums in terms of tastes for perhaps tens of genres, tastes which are **not directly observable or given** as data. \n",
    "\n",
    "First, we formulate the learning problem as a matrix completion problem. Then, we will use a type of `matrix factorization` model to \"fill in\" the blanks.  We are given implicit ratings that users have given certain items (that is, the number of times they played a particular artist) and our goal is to predict their ratings for the rest of the items. Formally, if there are $n$ users and $m$ items, we are given an $n \\times m$ matrix $R$ in which the generic entry $(u, i)$ represents the rating for item $i$ by user $u$. **Matrix $R$ has many missing entries indicating unobserved ratings, and our task is to estimate these unobserved ratings**.\n",
    "\n",
    "A popular approach to the matrix completion problem is **matrix factorization**, where we want to \"summarize\" users and items with their **latent factors**.\n",
    "\n",
    "### 2.3.1 Basic idea and an example of Matrix Factorization\n",
    "For example, given a preference matrix 5x5 as below, we want to approximate this matrix into the product of two smaller matrixes $X$ and $Y$ .\n",
    "\n",
    "$$\n",
    "M = \n",
    "\\begin{bmatrix}\n",
    " 5 & 2 & 4 & 4 & 3 \\\\\n",
    " 3 & 1 & 2 & 4 & 1 \\\\\n",
    " 2 &  & 3 & 1 & 4 \\\\\n",
    " 2 & 5 & 4 & 3 & 5 \\\\\n",
    " 4 & 4 & 5 & 4 &  \\\\\n",
    "\\end{bmatrix}\n",
    "\\approx M^\\prime =\n",
    "\\begin{bmatrix}\n",
    " x_{11} & x_{12} \\\\\n",
    " x_{21} & x_{22} \\\\\n",
    " x_{31} & x_{32} \\\\\n",
    " x_{41} & x_{42} \\\\\n",
    " x_{51} & x_{52} \\\\\n",
    "\\end{bmatrix}\n",
    "\\times\n",
    "\\begin{bmatrix}\n",
    " y_{11} & y_{12} & y_{13} & y_{14} & y_{15} \\\\\n",
    " y_{21} & y_{22} & y_{23} & y_{24} & y_{25} \\\\\n",
    "\\end{bmatrix}\n",
    "$$\n",
    "\n",
    "$M^\\prime$ is an approximation that is as close to A as possible. To calculate how far from $M$ $M^\\prime$ is, we often calculate the sum of squared distances of non-empty elements in $M$ and the corresponding elements in $M^\\prime$.\n",
    "In this way, for $M^\\prime$, besides the approximated elements in $M$, we also have the non-observed elements. Therefore, to see how much does user `i` like item `j`, we simply pick up the value of $M^\\prime_{i,j}$.\n",
    "\n",
    "The challenge is how to calculate $X$ and $Y$. The bad news is that this can't be solved directly for both the best $X$ and best $Y$ at the same time. Fortunately, if $Y$ is known, we can calculate the best of $X$, and vice versa. It means from the initial values of $X$ and $Y$ in the beginning, we calculate the best $X$ according to $Y$, and then calculate the best $Y$ according to the new $X$. This process is repeated until the distance from $XY$ to $M$ is small. It's simple, right ?\n",
    "\n",
    "Let's take an example. To compute the approximation for the above 5x5 matrix $M$, first, we initialize the value of $X$ and $Y$ as below.\n",
    "\n",
    "$$\n",
    "M^\\prime = X \\times Y =\n",
    "\\begin{bmatrix}\n",
    " 1 & 1 \\\\\n",
    " 1 & 1 \\\\\n",
    " 1 & 1 \\\\\n",
    " 1 & 1 \\\\\n",
    " 1 & 1 \\\\\n",
    "\\end{bmatrix}\n",
    "\\times\n",
    "\\begin{bmatrix}\n",
    " 1 & 1 & 1 & 1 & 1 \\\\\n",
    " 1 & 1 & 1 & 1 & 1 \\\\\n",
    "\\end{bmatrix}\n",
    "=\n",
    "\\begin{bmatrix}\n",
    " 2 & 2 & 2 & 2 & 2 \\\\\n",
    " 2 & 2 & 2 & 2 & 2 \\\\\n",
    " 2 & 2 & 2 & 2 & 2 \\\\\n",
    " 2 & 2 & 2 & 2 & 2 \\\\\n",
    " 2 & 2 & 2 & 2 & 2 \\\\\n",
    "\\end{bmatrix}\n",
    "$$\n",
    "\n",
    "With the initial iteration, we calculate the the Root-Mean-Square Error from $XY$ to $M$.\n",
    "\n",
    "Consider the ﬁrst rows of $M$ and $XY$ . We subtract the first row of $XY$ from the entries in the ﬁrst row of $M$, to get $3,0,2,2,1$. We square and sum these to get $18$. \n",
    "\n",
    "In the second row, we do the same to get $1,−1,0,2,−1$, square and sum to get $7$. \n",
    "\n",
    "In the third row, the second column is blank, so that entry is ignored when computing the RMSE. The diﬀerences are $0,1,−1,2$ and the sum of squares is $6$. \n",
    "\n",
    "For the fourth row, the diﬀerences are $0,3,2,1,3$ and the sum of squares is $23$. \n",
    "\n",
    "The ﬁfth row has a blank entry in the last column, so the diﬀerences are $2,2,3,2$ and the sum of squares is $21$. \n",
    "\n",
    "When we sum the sums from each of the ﬁve rows, we get $18+7+6+23+21 = 75$. So, $RMSE=\\sqrt{75/23}=1.806$ where $23$ is the number of non-empty values in $M$.\n",
    "\n",
    "Next, with the given value of $Y$, we calculate $X$ by finding the best value for $X_{11}$.\n",
    "\n",
    "$$\n",
    "M^\\prime = X \\times Y =\n",
    "\\begin{bmatrix}\n",
    " x & 1 \\\\\n",
    " 1 & 1 \\\\\n",
    " 1 & 1 \\\\\n",
    " 1 & 1 \\\\\n",
    " 1 & 1 \\\\\n",
    "\\end{bmatrix}\n",
    "\\times\n",
    "\\begin{bmatrix}\n",
    " 1 & 1 & 1 & 1 & 1 \\\\\n",
    " 1 & 1 & 1 & 1 & 1 \\\\\n",
    "\\end{bmatrix}\n",
    "=\n",
    "\\begin{bmatrix}\n",
    " x+1 & x+1 & x+1 & x+1 & x+1 \\\\\n",
    " 2 & 2 & 2 & 2 & 2 \\\\\n",
    " 2 & 2 & 2 & 2 & 2 \\\\\n",
    " 2 & 2 & 2 & 2 & 2 \\\\\n",
    " 2 & 2 & 2 & 2 & 2 \\\\\n",
    "\\end{bmatrix}\n",
    "$$\n",
    "\n",
    "Now, to minimize the $RMSE$  we minimize the difference of the first rows $(5−(x+1))^2 + (2−(x+1))^2 + (4−(x+1))^2 + (4−(x+1))^2 + (3−(x+1))^2$. By  taking the derivative and set that equal to 0, we pick $x=2.6$\n",
    "\n",
    "Given the new value of $X$, we can calculate the best value for $Y$.\n",
    "\n",
    "$$\n",
    "M^\\prime = X \\times Y =\n",
    "\\begin{bmatrix}\n",
    " 2.6 & 1 \\\\\n",
    " 1 & 1 \\\\\n",
    " 1 & 1 \\\\\n",
    " 1 & 1 \\\\\n",
    " 1 & 1 \\\\\n",
    "\\end{bmatrix}\n",
    "\\times\n",
    "\\begin{bmatrix}\n",
    " y & 1 & 1 & 1 & 1 \\\\\n",
    " 1 & 1 & 1 & 1 & 1 \\\\\n",
    "\\end{bmatrix}\n",
    "=\n",
    "\\begin{bmatrix}\n",
    " 3.6 & 3.6 & 3.6 & 3.6 & 3.6 \\\\\n",
    " 2 & 2 & 2 & 2 & 2 \\\\\n",
    " 2 & 2 & 2 & 2 & 2 \\\\\n",
    " 2 & 2 & 2 & 2 & 2 \\\\\n",
    " 2 & 2 & 2 & 2 & 2 \\\\\n",
    "\\end{bmatrix}\n",
    "$$\n",
    "\n",
    "By doing the same process as before, we can pick value for $y=1.617$. After that, we can check if the $RMSE$ is not converged, we continue to update $X$ by $Y$ and vice versa. In this example, for simple, we only update one element of each matrix in each iteration. In practice, we can update a full row or full matrix at once.\n"
   ]
  },
  {
   "cell_type": "markdown",
   "metadata": {},
   "source": [
    "### 2.3.2 Matrix Factorization: Objective and ALS Algorithm\n",
    "\n",
    "More formally, in general, we select $k$ latent features, and describe each user $u$ with a $k-$dimensional vector $x_u$, and each item $i$ with a $k-$dimensional vector $y_i$.\n",
    "\n",
    "Then, to predict user $u$'s rating for item $i$, we do as follows: $ r_{ui} \\approx x_{u}^{T}y_i$.\n",
    "\n",
    "This can be put, more elegantly, in a matrix form. Let $x_1, \\cdots x_n \\in \\mathbb{R}^k$ be the factors for the users, and $y_1, \\cdots y_m \\in \\mathbb{R}^k$ the factors for the items. The $k \\times n$ user matrix $X$ and the $k \\times m$ item matrix $Y$ are then defined by:\n",
    "\n",
    "$$\n",
    "X = \n",
    "\\begin{bmatrix}\n",
    " |   &         & |  \\\\\n",
    "x_1  &  \\cdots & x_n\\\\\n",
    " |   &         & |  \\\\\n",
    "\\end{bmatrix}\n",
    "$$\n",
    "\n",
    "$$\n",
    "Y = \n",
    "\\begin{bmatrix}\n",
    " |   &         & |  \\\\\n",
    "y_1  &  \\cdots & y_i\\\\\n",
    " |   &         & |  \\\\\n",
    "\\end{bmatrix}\n",
    "$$\n",
    "\n",
    "Our goal is to estimate the complete ratings matrix $R \\approx X^{T} Y$. We can formulate this problem as an optimization problem in which we aim to minimize an objective function and find optimal $X$ and $Y$ . In particular, we aim to minimize the least squares error of the observed ratings (and regularize):\n",
    "\n",
    "$$\n",
    "\\min_{X,Y} \\sum_{r_{ui} \\text{observed}}(r_{ui} - x_{u}^{T}y_i)^2 + \\lambda \\left( \\sum_{u} \\|x_u\\|^2 + \\sum_{i} \\|y_i\\|^2 \\right) \n",
    "$$\n",
    "\n",
    "Notice that this objective is non-convex (because of the $x_{u}^{T} y_i$ term); in fact it’s NP-hard to optimize. Gradient descent can be used as an approximate approach here, however it turns out to be slow and costs lots of iterations. Note however, that if we fix the set of variables $X$ and treat them as constants, then the objective is a convex function of $Y$ and vice versa. Our approach will therefore be to fix $Y$ and optimize $X$, then fix $X$ and optimize $Y$, and repeat until convergence. This approach is known as **ALS (Alternating Least Squares)**. For our objective function, the alternating least squares algorithm can be expressed with this simple pseudo-code:"
   ]
  },
  {
   "cell_type": "markdown",
   "metadata": {},
   "source": [
    "\n",
    "**Initialize** $X$, $Y$\n",
    "\n",
    "**while(convergence is not true) do**\n",
    "\n",
    "\n",
    "**for** $u = 1 \\cdots n$ **do**\n",
    "\n",
    "$x_u = \\left( \\sum_{r_ui \\in r_{u*}} y_i y_{i}^{T} + \\lambda I_k \\right)^{-1} \\sum_{r_ui \\in r_{u*}} r_{ui} y_i $ \n",
    "   \n",
    "**end for**\n",
    "\n",
    "**for** $u = 1 \\cdots n$ **do**\n",
    "\n",
    "$y_i = \\left( \\sum_{r_ui \\in r_{*i}} x_u x_{u}^{T} + \\lambda I_k \\right)^{-1} \\sum_{r_ui \\in r_{*i}} r_{ui} x_u $ \n",
    "   \n",
    "**end for**\n",
    "\n",
    "\n",
    "**end while**\n"
   ]
  },
  {
   "cell_type": "markdown",
   "metadata": {},
   "source": [
    "For a single machine, we can analyze the computational cost of this algorithm. Updating each $x_u$ will cost $O(n_u k^2 + k^3)$, where $n_u$ is the number of items rated by user $u$, and similarly updating each $y_i$ will cost $O(n_i k^2 + k^3)$, where $n_i$ is the number of users that have rated item $i$.\n",
    "\n",
    "\n",
    "Once we’ve computed the matrices $X$ and $Y$, there are several ways compute a prediction. The first is to do what was discussed before, which is to simply predict $ r_{ui} \\approx x_{u}^{T}y_i$ for each user $u$ and item $i$. \n",
    "This approach will cost $O(nmk)$ if we’d like to estimate every user-item pair. \n",
    "\n",
    "However, this approach is prohibitively expensive for most real-world datasets. A second (and more holistic) approach is to use the $x_u$ and $y_i$ as features in another learning algorithm, incorporating these features with others that are relevant to the prediction task."
   ]
  },
  {
   "cell_type": "markdown",
   "metadata": {},
   "source": [
    "### Further readings\n",
    "Other methods for matrix factorization include:\n",
    "\n",
    "* Low Rank Approximation and Regression in Input Sparsity Time, by Kenneth L. Clarkson, David P. Woodruff. http://arxiv.org/abs/1207.6365\n",
    "* Generalized Low Rank Models (GLRM), by Madeleine Udell, Corinne Horn, Reza Zadeh, Stephen Boyd. http://arxiv.org/abs/1410.0342\n",
    "* Matrix Completion and Low-Rank SVD via Fast Alternating Least Squares, by Trevor Hastie, Rahul Mazumder, Jason D. Lee, Reza Zadeh . Statistics Department and ICME, Stanford University, 2014. http://stanford.edu/~rezab/papers/fastals.pdf"
   ]
  },
  {
   "cell_type": "markdown",
   "metadata": {},
   "source": [
    "# 3. Usecase : Music recommender system\n",
    "\n",
    "In this usecase, we use the data of users and artists in the previous sections to build a statistical model to recommend artists for users.\n",
    " \n",
    "## 3.1 Requirements\n",
    "According to the properties of data, we need to choose a recommender algorithm that is suitable for this implicit feedback data. It means that the algorithm should learn without access to user or artist attributes such as age, genre,.... Therefore, an algorithm of type `collaborative filtering` is the best choice.\n",
    "\n",
    "Second, in the data, there are some users that have listened to only 1 artist. We need an algorithm that might provide decent recommendations to even these users. After all, at some point, every user starts out with just one play at some point! \n",
    "\n",
    "Third, we need an algorithm that scales, both in its ability to build large models, and to create recommendations quickly.\n",
    "\n",
    "From these requirement, we can choose using ALS algorithm in [Implicit](https://implicit.readthedocs.io/en/latest/)."
   ]
  },
  {
   "cell_type": "markdown",
   "metadata": {
    "slideshow": {
     "slide_type": "slide"
    }
   },
   "source": [
    "### Question 6\n",
    "\n",
    "The library choosen for implementing ALS has a strict requirement in terms of data format. In particular `userID` and `artistID` should be both incremetally assigned starting from 0 (e.g. the first valid `userID` is 90 and it has to correspond to 0). In these next questions we will try to fix this issue.\n",
    "\n",
    "#### Question 6.1\n",
    "\n",
    "<div class=\"alert alert-info\">\n",
    "Create a table with incremental ID for artists and print the first 15 entries.\n",
    "</div>"
   ]
  },
  {
   "cell_type": "code",
   "execution_count": 22,
   "metadata": {
    "slideshow": {
     "slide_type": "subslide"
    }
   },
   "outputs": [
    {
     "data": {
      "text/html": [
       "<div>\n",
       "<style scoped>\n",
       "    .dataframe tbody tr th:only-of-type {\n",
       "        vertical-align: middle;\n",
       "    }\n",
       "\n",
       "    .dataframe tbody tr th {\n",
       "        vertical-align: top;\n",
       "    }\n",
       "\n",
       "    .dataframe thead th {\n",
       "        text-align: right;\n",
       "    }\n",
       "</style>\n",
       "<table border=\"1\" class=\"dataframe\">\n",
       "  <thead>\n",
       "    <tr style=\"text-align: right;\">\n",
       "      <th></th>\n",
       "      <th>originalArtistID</th>\n",
       "      <th>incrementalArtistID</th>\n",
       "    </tr>\n",
       "  </thead>\n",
       "  <tbody>\n",
       "    <tr>\n",
       "      <th>0</th>\n",
       "      <td>1</td>\n",
       "      <td>0</td>\n",
       "    </tr>\n",
       "    <tr>\n",
       "      <th>1</th>\n",
       "      <td>2</td>\n",
       "      <td>1</td>\n",
       "    </tr>\n",
       "    <tr>\n",
       "      <th>2</th>\n",
       "      <td>3</td>\n",
       "      <td>2</td>\n",
       "    </tr>\n",
       "    <tr>\n",
       "      <th>3</th>\n",
       "      <td>4</td>\n",
       "      <td>3</td>\n",
       "    </tr>\n",
       "    <tr>\n",
       "      <th>4</th>\n",
       "      <td>5</td>\n",
       "      <td>4</td>\n",
       "    </tr>\n",
       "    <tr>\n",
       "      <th>5</th>\n",
       "      <td>6</td>\n",
       "      <td>5</td>\n",
       "    </tr>\n",
       "    <tr>\n",
       "      <th>6</th>\n",
       "      <td>7</td>\n",
       "      <td>6</td>\n",
       "    </tr>\n",
       "    <tr>\n",
       "      <th>7</th>\n",
       "      <td>8</td>\n",
       "      <td>7</td>\n",
       "    </tr>\n",
       "    <tr>\n",
       "      <th>8</th>\n",
       "      <td>9</td>\n",
       "      <td>8</td>\n",
       "    </tr>\n",
       "    <tr>\n",
       "      <th>9</th>\n",
       "      <td>11</td>\n",
       "      <td>9</td>\n",
       "    </tr>\n",
       "    <tr>\n",
       "      <th>10</th>\n",
       "      <td>13</td>\n",
       "      <td>10</td>\n",
       "    </tr>\n",
       "    <tr>\n",
       "      <th>11</th>\n",
       "      <td>14</td>\n",
       "      <td>11</td>\n",
       "    </tr>\n",
       "    <tr>\n",
       "      <th>12</th>\n",
       "      <td>15</td>\n",
       "      <td>12</td>\n",
       "    </tr>\n",
       "    <tr>\n",
       "      <th>13</th>\n",
       "      <td>16</td>\n",
       "      <td>13</td>\n",
       "    </tr>\n",
       "    <tr>\n",
       "      <th>14</th>\n",
       "      <td>17</td>\n",
       "      <td>14</td>\n",
       "    </tr>\n",
       "  </tbody>\n",
       "</table>\n",
       "</div>"
      ],
      "text/plain": [
       "    originalArtistID  incrementalArtistID\n",
       "0                  1                    0\n",
       "1                  2                    1\n",
       "2                  3                    2\n",
       "3                  4                    3\n",
       "4                  5                    4\n",
       "5                  6                    5\n",
       "6                  7                    6\n",
       "7                  8                    7\n",
       "8                  9                    8\n",
       "9                 11                    9\n",
       "10                13                   10\n",
       "11                14                   11\n",
       "12                15                   12\n",
       "13                16                   13\n",
       "14                17                   14"
      ]
     },
     "execution_count": 22,
     "metadata": {},
     "output_type": "execute_result"
    }
   ],
   "source": [
    "artistMappingDF = pd.DataFrame()\n",
    "artistMappingDF['originalArtistID']  = newUserArtistDF.sort_values('realArtistID').realArtistID.unique()\n",
    "artistMappingDF['incrementalArtistID'] = artistMappingDF.index\n",
    "artistMappingDF[:15]"
   ]
  },
  {
   "cell_type": "markdown",
   "metadata": {
    "slideshow": {
     "slide_type": "slide"
    }
   },
   "source": [
    "#### Question 6.2 \n",
    "\n",
    "<div class=\"alert alert-info\">\n",
    "Create a table with incremental ID for users and print the first 15 entries.\n",
    "</div>"
   ]
  },
  {
   "cell_type": "code",
   "execution_count": 23,
   "metadata": {
    "slideshow": {
     "slide_type": "subslide"
    }
   },
   "outputs": [
    {
     "data": {
      "text/html": [
       "<div>\n",
       "<style scoped>\n",
       "    .dataframe tbody tr th:only-of-type {\n",
       "        vertical-align: middle;\n",
       "    }\n",
       "\n",
       "    .dataframe tbody tr th {\n",
       "        vertical-align: top;\n",
       "    }\n",
       "\n",
       "    .dataframe thead th {\n",
       "        text-align: right;\n",
       "    }\n",
       "</style>\n",
       "<table border=\"1\" class=\"dataframe\">\n",
       "  <thead>\n",
       "    <tr style=\"text-align: right;\">\n",
       "      <th></th>\n",
       "      <th>originalUserID</th>\n",
       "      <th>incrementalUserID</th>\n",
       "    </tr>\n",
       "  </thead>\n",
       "  <tbody>\n",
       "    <tr>\n",
       "      <th>0</th>\n",
       "      <td>90</td>\n",
       "      <td>0</td>\n",
       "    </tr>\n",
       "    <tr>\n",
       "      <th>1</th>\n",
       "      <td>98</td>\n",
       "      <td>1</td>\n",
       "    </tr>\n",
       "    <tr>\n",
       "      <th>2</th>\n",
       "      <td>116</td>\n",
       "      <td>2</td>\n",
       "    </tr>\n",
       "    <tr>\n",
       "      <th>3</th>\n",
       "      <td>120</td>\n",
       "      <td>3</td>\n",
       "    </tr>\n",
       "    <tr>\n",
       "      <th>4</th>\n",
       "      <td>128</td>\n",
       "      <td>4</td>\n",
       "    </tr>\n",
       "    <tr>\n",
       "      <th>5</th>\n",
       "      <td>139</td>\n",
       "      <td>5</td>\n",
       "    </tr>\n",
       "    <tr>\n",
       "      <th>6</th>\n",
       "      <td>277</td>\n",
       "      <td>6</td>\n",
       "    </tr>\n",
       "    <tr>\n",
       "      <th>7</th>\n",
       "      <td>321</td>\n",
       "      <td>7</td>\n",
       "    </tr>\n",
       "    <tr>\n",
       "      <th>8</th>\n",
       "      <td>340</td>\n",
       "      <td>8</td>\n",
       "    </tr>\n",
       "    <tr>\n",
       "      <th>9</th>\n",
       "      <td>350</td>\n",
       "      <td>9</td>\n",
       "    </tr>\n",
       "    <tr>\n",
       "      <th>10</th>\n",
       "      <td>384</td>\n",
       "      <td>10</td>\n",
       "    </tr>\n",
       "    <tr>\n",
       "      <th>11</th>\n",
       "      <td>519</td>\n",
       "      <td>11</td>\n",
       "    </tr>\n",
       "    <tr>\n",
       "      <th>12</th>\n",
       "      <td>521</td>\n",
       "      <td>12</td>\n",
       "    </tr>\n",
       "    <tr>\n",
       "      <th>13</th>\n",
       "      <td>536</td>\n",
       "      <td>13</td>\n",
       "    </tr>\n",
       "    <tr>\n",
       "      <th>14</th>\n",
       "      <td>581</td>\n",
       "      <td>14</td>\n",
       "    </tr>\n",
       "  </tbody>\n",
       "</table>\n",
       "</div>"
      ],
      "text/plain": [
       "    originalUserID  incrementalUserID\n",
       "0               90                  0\n",
       "1               98                  1\n",
       "2              116                  2\n",
       "3              120                  3\n",
       "4              128                  4\n",
       "5              139                  5\n",
       "6              277                  6\n",
       "7              321                  7\n",
       "8              340                  8\n",
       "9              350                  9\n",
       "10             384                 10\n",
       "11             519                 11\n",
       "12             521                 12\n",
       "13             536                 13\n",
       "14             581                 14"
      ]
     },
     "execution_count": 23,
     "metadata": {},
     "output_type": "execute_result"
    }
   ],
   "source": [
    "userMappingDF = pd.DataFrame()\n",
    "userMappingDF['originalUserID'] = newUserArtistDF.sort_values('userID').userID.unique()\n",
    "userMappingDF['incrementalUserID'] = userMappingDF.index\n",
    "\n",
    "userMappingDF[:15]"
   ]
  },
  {
   "cell_type": "markdown",
   "metadata": {
    "slideshow": {
     "slide_type": "slide"
    }
   },
   "source": [
    "#### Question 6.3 \n",
    "\n",
    "<div class=\"alert alert-info\">\n",
    "Starting from the clean dataset that we already have, find a way to replace the original IDs with the new ones. Print the first 15 entries in this new table.\n",
    "</div>"
   ]
  },
  {
   "cell_type": "code",
   "execution_count": 29,
   "metadata": {
    "slideshow": {
     "slide_type": "subslide"
    }
   },
   "outputs": [
    {
     "ename": "NameError",
     "evalue": "name 'newUserArtistDF' is not defined",
     "output_type": "error",
     "traceback": [
      "\u001b[0;31m---------------------------------------------------------------------------\u001b[0m",
      "\u001b[0;31mNameError\u001b[0m                                 Traceback (most recent call last)",
      "\u001b[0;32m<ipython-input-29-6c0ad1e9a62a>\u001b[0m in \u001b[0;36m<module>\u001b[0;34m()\u001b[0m\n\u001b[0;32m----> 1\u001b[0;31m rescaledUserArtistDF = pd.merge(newUserArtistDF, artistMappingDF, \n\u001b[0m\u001b[1;32m      2\u001b[0m                                 \u001b[0mleft_on\u001b[0m \u001b[0;34m=\u001b[0m \u001b[0;34m'realArtistID'\u001b[0m\u001b[0;34m,\u001b[0m\u001b[0;34m\u001b[0m\u001b[0m\n\u001b[1;32m      3\u001b[0m                                 right_on = 'originalArtistID').drop(['realArtistID', 'originalArtistID'], axis=1)\n\u001b[1;32m      4\u001b[0m \u001b[0;34m\u001b[0m\u001b[0m\n\u001b[1;32m      5\u001b[0m rescaledUserArtistDF = pd.merge(rescaledUserArtistDF, userMappingDF, \n",
      "\u001b[0;31mNameError\u001b[0m: name 'newUserArtistDF' is not defined"
     ]
    }
   ],
   "source": [
    "rescaledUserArtistDF = pd.merge(newUserArtistDF, artistMappingDF, \n",
    "                                left_on = 'realArtistID', \n",
    "                                right_on = 'originalArtistID').drop(['realArtistID', 'originalArtistID'], axis=1)\n",
    "\n",
    "rescaledUserArtistDF = pd.merge(rescaledUserArtistDF, userMappingDF, \n",
    "                                left_on = 'userID',\n",
    "                                right_on = 'originalUserID').drop(['userID', 'originalUserID'], axis=1)\n",
    "rescaledUserArtistDF[:5]"
   ]
  },
  {
   "cell_type": "markdown",
   "metadata": {},
   "source": [
    "Now, we don't need no more `userArtistDF` and `newUserArtistDF`. We can delete them and free some memory"
   ]
  },
  {
   "cell_type": "code",
   "execution_count": 28,
   "metadata": {},
   "outputs": [
    {
     "ename": "NameError",
     "evalue": "name 'newUserArtistDF' is not defined",
     "output_type": "error",
     "traceback": [
      "\u001b[0;31m---------------------------------------------------------------------------\u001b[0m",
      "\u001b[0;31mNameError\u001b[0m                                 Traceback (most recent call last)",
      "\u001b[0;32m<ipython-input-28-ee65fed426b1>\u001b[0m in \u001b[0;36m<module>\u001b[0;34m()\u001b[0m\n\u001b[1;32m      1\u001b[0m \u001b[0;31m#del userArtistDF\u001b[0m\u001b[0;34m\u001b[0m\u001b[0;34m\u001b[0m\u001b[0m\n\u001b[0;32m----> 2\u001b[0;31m \u001b[0;32mdel\u001b[0m \u001b[0mnewUserArtistDF\u001b[0m\u001b[0;34m\u001b[0m\u001b[0m\n\u001b[0m",
      "\u001b[0;31mNameError\u001b[0m: name 'newUserArtistDF' is not defined"
     ]
    }
   ],
   "source": [
    "del userArtistDF\n",
    "del newUserArtistDF"
   ]
  },
  {
   "cell_type": "markdown",
   "metadata": {
    "slideshow": {
     "slide_type": "slide"
    }
   },
   "source": [
    "## 3.4 Training our statistical model\n",
    "To train a model using ALS, we must use a sparse matrix as an input. Implicit uses the class sparse matrix to support the construction of a distributed preference matrix."
   ]
  },
  {
   "cell_type": "markdown",
   "metadata": {},
   "source": [
    "### Question 7\n",
    "\n",
    "The implicit library expects data as a item-user sparse matrix. Now we create two matricies, one for fitting the model (item-user) and one for recommendations (the transpose of item-user -- user-item)."
   ]
  },
  {
   "cell_type": "code",
   "execution_count": 30,
   "metadata": {
    "collapsed": false,
    "slideshow": {
     "slide_type": "fragment"
    }
   },
   "outputs": [],
   "source": [
    "import scipy.sparse as sparse\n",
    "import implicit\n",
    "\n",
    "def to_sparse(userArtistDF):\n",
    "    playCount = userArtistDF['playCount'].astype(float)\n",
    "    artistID = userArtistDF['incrementalArtistID']\n",
    "    userID = userArtistDF['incrementalUserID']\n",
    "    sparse_item_user = sparse.csr_matrix((playCount, (artistID, userID)))\n",
    "\n",
    "    return sparse_item_user\n",
    "\n",
    "sparse_item_user = to_sparse(rescaledUserArtistDF)\n",
    "sparse_user_item = sparse_item_user.T"
   ]
  },
  {
   "cell_type": "markdown",
   "metadata": {
    "slideshow": {
     "slide_type": "slide"
    }
   },
   "source": [
    "#### Question 7.1\n",
    "<div class=\"alert alert-info\">\n",
    "Train a model trained by using `implicit.als.AlternatingLeastSquares()`.\n",
    "</div>\n",
    "\n",
    "Read **carefully** the documentation of this class."
   ]
  },
  {
   "cell_type": "markdown",
   "metadata": {},
   "source": [
    "We can also use some additional parameters to adjust the quality of the model. For now, let's set \n",
    "\n",
    "- `factors = 10`\n",
    "- `iterations = 5`\n",
    "- `regularization = 0.01`\n",
    "- `alpha = 1.0`\n",
    "\n",
    "to build the model."
   ]
  },
  {
   "cell_type": "code",
   "execution_count": 33,
   "metadata": {
    "slideshow": {
     "slide_type": "subslide"
    }
   },
   "outputs": [
    {
     "name": "stderr",
     "output_type": "stream",
     "text": [
      "100%|██████████| 5.0/5 [02:15<00:00, 28.74s/it]\n"
     ]
    }
   ],
   "source": [
    "factors = 10\n",
    "iterations = 5\n",
    "regularization = 0.01\n",
    "alpha = 1.0\n",
    "\n",
    "# https://implicit.readthedocs.io/en/latest/als.html\n",
    "# https://medium.com/radon-dev/als-implicit-collaborative-filtering-5ed653ba39fe\n",
    "# http://yifanhu.net/PUB/cf.pdf\n",
    "\n",
    "# Calculate the confidence matrix by multiplying the item/user matrix by our alpha value.\n",
    "data_conf = (sparse_item_user * alpha).astype('double')\n",
    "\n",
    "# Create the model\n",
    "model = implicit.als.AlternatingLeastSquares(factors = factors, regularization = regularization, iterations = iterations)\n",
    "#Fit the model\n",
    "model.fit(data_conf)"
   ]
  },
  {
   "cell_type": "markdown",
   "metadata": {
    "slideshow": {
     "slide_type": "slide"
    }
   },
   "source": [
    "#### Question 7.5\n",
    "<div class=\"alert alert-info\">\n",
    "Print the user features for the first user\n",
    "</div>"
   ]
  },
  {
   "cell_type": "code",
   "execution_count": 34,
   "metadata": {
    "slideshow": {
     "slide_type": "subslide"
    }
   },
   "outputs": [
    {
     "name": "stdout",
     "output_type": "stream",
     "text": [
      "[ 0.43851694  0.15645115 -0.2719624  -0.23378421 -0.0155201  -0.07266878\n",
      " -0.09329277  0.29359406  0.07574014  0.26015207]\n"
     ]
    }
   ],
   "source": [
    "print(model.user_factors[0])"
   ]
  },
  {
   "cell_type": "markdown",
   "metadata": {
    "slideshow": {
     "slide_type": "slide"
    }
   },
   "source": [
    "### Question 8\n",
    "<div class=\"alert alert-info\">\n",
    "Show the top-5 artist names recommendated for a given user, for example: `2093760` (please, try also with different users!).\n",
    "</div>\n",
    "\n",
    "**HINT**: The recommendations can be given by function `recommend()`. These recommendations are only artist ids. You have to map them to artist names by using data in `artist_data.txt`. Remember that we have transformed our IDs, so what you need to do is `userID -> incrementalUserID -> recommend() -> incrementalArtistID -> artistID -> name`"
   ]
  },
  {
   "cell_type": "code",
   "execution_count": 35,
   "metadata": {
    "slideshow": {
     "slide_type": "subslide"
    }
   },
   "outputs": [
    {
     "name": "stdout",
     "output_type": "stream",
     "text": [
      "Reccomendations for test user ID: \n",
      "        Artist     Score\n",
      "0     50 Cent  0.023474\n",
      "1        2Pac  0.022525\n",
      "2    The Game  0.022457\n",
      "3  Snoop Dogg  0.022004\n",
      "4       Jay-Z  0.021643\n",
      "5         Nas  0.021500\n",
      "6    Ludacris  0.021407\n",
      "7     Dr. Dre  0.020942\n",
      "8  Kanye West  0.020686\n",
      "9      Eminem  0.020470 \n",
      "\n",
      "Reccomendations for user with biggest artist repartoire: \n",
      "             Artist     Score\n",
      "0             Toto  1.518210\n",
      "1             ABBA  1.478640\n",
      "2         Bee Gees  1.467005\n",
      "3  Various Artists  1.420314\n",
      "4        The Corrs  1.406689\n",
      "5             a-ha  1.402316\n",
      "6             UB40  1.400274\n",
      "7      Hans Zimmer  1.396622\n",
      "8          Roxette  1.392557\n",
      "9    Mark Knopfler  1.392137 \n",
      "\n",
      "Reccomendations for user with highest play_count: \n",
      "                Artist      Score\n",
      "0               Phish  12.216616\n",
      "1  The Tragically Hip  10.595213\n",
      "2       Soul Coughing  10.548330\n",
      "3     Collective Soul  10.542864\n",
      "4                 311  10.517452\n",
      "5       Grateful Dead  10.095150\n",
      "6            Dispatch  10.059819\n",
      "7            MC Chris   9.743200\n",
      "8       Dave Matthews   9.678582\n",
      "9       Jimmy Buffett   9.668773 \n",
      "\n"
     ]
    }
   ],
   "source": [
    "# Retrieve the incrementalUserID from a userID\n",
    "def get_incrementalUserID(userID):\n",
    "    return int(userMappingDF.loc[userMappingDF.originalUserID == userID].incrementalUserID)\n",
    "\n",
    "# Retrieve the original userID from an incrementalUserID\n",
    "def get_userID(incrementalUserID):\n",
    "    return userMappingDF.loc[userMappingDF.incrementalUserID == incrementalUserID].originalUserID.values[0]\n",
    "\n",
    "# Retrieve the incrementalArtistID from an artistID\n",
    "def get_incrementalArtistID(artistID):\n",
    "    return artistMappingDF.loc[artistMappingDF.originalArtistID == artistID].incrementalArtistID.values[0]\n",
    "\n",
    "# Retrieve the original artistID from an incrementalArtistID\n",
    "def get_artistID(incrementalArtistID):\n",
    "    return artistMappingDF.loc[artistMappingDF.incrementalArtistID == incrementalArtistID].originalArtistID.values[0]\n",
    "\n",
    "# Retrive the artist name\n",
    "def get_artist_name(artistID):\n",
    "    return artistDF.loc[artistDF.artistID == artistID].name.values[0]\n",
    "\n",
    "# Retrive the recommendations\n",
    "#recommendations = model.recommend(...)\n",
    "def printRecArt(originaluserID):\n",
    "    recommendations = model.recommend(get_incrementalUserID(originaluserID), sparse_item_user)\n",
    "    artists = []\n",
    "    scores = []\n",
    "    for items in recommendations:\n",
    "        incremental_artist_ID, score = items\n",
    "        artists.append(get_artist_name(get_artistID(incremental_artist_ID)))\n",
    "        scores.append(score)\n",
    "    pR = pd.DataFrame({'Artist': artists, 'Score': scores})\n",
    "    return pR\n",
    "\n",
    "# Print the recommended artists\n",
    "test_user_id = 2093760\n",
    "user_biggest_artist_repartoire = 2030067\n",
    "user_highest_play_count = 1059637\n",
    "\n",
    "print('Reccomendations for test user ID: \\n', printRecArt(test_user_id), '\\n')\n",
    "print('Reccomendations for user with biggest artist repartoire: \\n', printRecArt(user_biggest_artist_repartoire), '\\n')\n",
    "print('Reccomendations for user with highest play_count: \\n', printRecArt(user_highest_play_count), '\\n')\n"
   ]
  },
  {
   "cell_type": "markdown",
   "metadata": {
    "slideshow": {
     "slide_type": "slide"
    }
   },
   "source": [
    "## 3.5 Evaluating Recommendation Quality \n",
    "\n",
    "In this section, we study how to evaluate the quality of our model. It's hard to say how good the recommendations are.\n",
    "One of serveral methods approach to evaluate  a recommender based on its ability to rank good items (artists) high in a list of recommendations. The problem is how to define \"good artists\". Currently, by training all data, \"good artists\" is defined as \"artists the user has listened to\", and the recommender system has already received all of this information as input. It could trivially return the users previously-listened artists as top recommendations and score perfectly. Indeed, this is not useful, because the recommender's is used to recommend artists that the user has **never** listened to. \n",
    "\n",
    "To overcome that problem, we can hide the some of the artist play data and only use the rest to train model. Then, this held-out data can be interpreted as a collection of \"good\" recommendations for each user. The recommender is asked to rank all items in the model, and the rank of the held-out artists are examined. Ideally the recommender places all of them at or near the top of the list.\n",
    "\n",
    "The recommender's score can then be computed by comparing all held-out artists' ranks to the rest.  The fraction of pairs where the held-out artist is ranked higher is its score. 1.0 is perfect, 0.0 is the worst possible score, and 0.5 is the expected value achieved from randomly ranking artists. \n",
    "\n",
    "AUC(Area Under the Curve) can be used as a metric to evaluate model. It is also viewed as the probability that a randomly-chosen \"good\" artist ranks above a randomly-chosen \"bad\" artist.\n",
    "\n",
    "Next, we split the training data into 2 parts: `trainData` and `cvData` with ratio 0.9:0.1 respectively, where `trainData` is the dataset that will be used to train model. Then we write a function to calculate AUC to evaluate the quality of our model.\n"
   ]
  },
  {
   "cell_type": "markdown",
   "metadata": {},
   "source": [
    "### Question 9\n",
    "\n",
    "#### Question 9.1\n",
    "<div class=\"alert alert-info\">\n",
    "Split the data into `trainData` and `cvData` with ratio 0.9:0.1 and use the first part to train a statistic model with:\n",
    "<ul>\n",
    "<li>`rank`=10</li>\n",
    "<li>`iterations`=5</li>\n",
    "<li>`lambda_`=0.01</li>\n",
    "<li>`alpha`=1.0</li>\n",
    "</ul>\n",
    "</div>\n",
    "\n",
    "***Hint***: have a look to `train_test_split()` in `sklearn.model_selection`"
   ]
  },
  {
   "cell_type": "code",
   "execution_count": 49,
   "metadata": {
    "slideshow": {
     "slide_type": "subslide"
    }
   },
   "outputs": [
    {
     "name": "stderr",
     "output_type": "stream",
     "text": [
      "100%|██████████| 5.0/5 [01:56<00:00, 30.37s/it]\n"
     ]
    }
   ],
   "source": [
    "# https://scikit-learn.org/stable/modules/generated/sklearn.model_selection.train_test_split.html\n",
    "from sklearn.model_selection import train_test_split\n",
    "\n",
    "# Create train/test split\n",
    "trainUserArtistDF, testUserArtistDF = train_test_split(rescaledUserArtistDF, \n",
    "                                                       train_size = 0.9, \n",
    "                                                       test_size = 0.1)\n",
    "\n",
    "# Transform to sparse matrix\n",
    "train_sparse_item_user = to_sparse(trainUserArtistDF)\n",
    "train_sparse_user_item = train_sparse_item_user.T\n",
    "\n",
    "# Compute the confidence matrix\n",
    "data_conf = (train_sparse_item_user * alpha).astype('double')\n",
    "\n",
    "# Create the model\n",
    "model = implicit.als.AlternatingLeastSquares(factors = factors, regularization = regularization, iterations = iterations)\n",
    "\n",
    "# Train\n",
    "model.fit(data_conf)"
   ]
  },
  {
   "cell_type": "markdown",
   "metadata": {},
   "source": [
    "#### Area under the ROC curve: a function to compute it"
   ]
  },
  {
   "cell_type": "code",
   "execution_count": 38,
   "metadata": {
    "slideshow": {
     "slide_type": "slide"
    }
   },
   "outputs": [],
   "source": [
    "from multiprocessing import Pool\n",
    "import warnings\n",
    "from sklearn.metrics import roc_auc_score\n",
    "import random\n",
    "from tqdm import tqdm\n",
    "\n",
    "\n",
    "def findNumElementsSmallerThan(arr, x, start=0):\n",
    "        left = start\n",
    "        right = len(arr) -1\n",
    "        # if x is bigger than the biggest element in arr\n",
    "        if start > right or x > arr[right]:\n",
    "            return right + 1\n",
    "        mid = -1\n",
    "        while left <= right:\n",
    "            mid = (left + right) // 2\n",
    "            if arr[mid] < x:\n",
    "                left = mid + 1\n",
    "            elif arr[mid] > x:\n",
    "                right = mid - 1\n",
    "            else:\n",
    "                while mid-1 >= start and arr[mid-1] == x:\n",
    "                    mid -= 1\n",
    "                return mid\n",
    "        return mid if arr[mid] > x else mid + 1\n",
    "\n",
    "def _compute_auc(incremental_user_id):\n",
    "    positive_products = testUserArtistDF[testUserArtistDF['incrementalUserID'] == incremental_user_id]['incrementalArtistID'].values\n",
    "    positive_ranking = model.rank_items(incremental_user_id, \n",
    "                                        train_sparse_user_item, \n",
    "                                        positive_products)\n",
    "    positive_ranking = list(map(lambda x: x[1], positive_ranking))\n",
    "    if len(positive_products) <= 1: return \n",
    "        \n",
    "    train_data_user = trainUserArtistDF[trainUserArtistDF['incrementalUserID'] == incremental_user_id]['incrementalArtistID'].values\n",
    "    \n",
    "    if len(train_data_user) < 1: return\n",
    "    negative_products = np.random.choice(train_data_user, len(positive_products))  \n",
    "    if len(negative_products) <= 1: return\n",
    "        \n",
    "    if len(negative_products) != len(positive_products): return \n",
    "    \n",
    "    negative_ranking = model.rank_items(incremental_user_id, \n",
    "                                        train_sparse_user_item, \n",
    "                                        negative_products)\n",
    "    \n",
    "    negative_ranking = list(map(lambda x: x[1], negative_ranking))\n",
    "   \n",
    "    correct = 0\n",
    "    total = len(positive_ranking)*len(negative_ranking)\n",
    "\n",
    "    for positive in positive_ranking:\n",
    "        correct += findNumElementsSmallerThan(negative_ranking, positive)\n",
    "    return float(correct) / total\n",
    "\n",
    "def compute_auc(test_users_ratio=1, parallelism=4):  \n",
    "    \"\"\"\n",
    "        Computes the AUC of a train/test split\n",
    "        Note:\n",
    "            It assumes `trainUserArtistDF`, `testUserArtistDf` and `model` to be defined \n",
    "            globally\n",
    "        Arguments:\n",
    "            test_users_ratio (float): Ratio of users to be tested (0, 1]\n",
    "    \"\"\"\n",
    "    if test_users_ratio <=0 or test_users_ratio > 1:\n",
    "        warnings.warn('Parameter test_users_ratio has to be in (0, 1]. Setting test_users_ratio=1...')\n",
    "        test_users_ratio = 1\n",
    "    \n",
    "    pool = Pool(parallelism)\n",
    "    roc_auc = []\n",
    "    list_of_users = testUserArtistDF['incrementalUserID'].unique()[::int(1/test_users_ratio)]\n",
    "    for res in tqdm(pool.imap_unordered(_compute_auc, list_of_users, 64), total=len(list_of_users)):\n",
    "        roc_auc.append(res)\n",
    "    \n",
    "    pool.close()\n",
    "    pool.join()\n",
    "\n",
    "    return np.array(list(filter(None.__ne__, roc_auc)))"
   ]
  },
  {
   "cell_type": "markdown",
   "metadata": {},
   "source": [
    "####  Question 9.2\n",
    "<div class=\"alert alert-info\">\n",
    "Using `compute_auc()`, compute the AUC of the trained model.\n",
    "</div>\n",
    "\n",
    "***Note***: `compute_auc()` is computational expensive. To test if everything works, try to first compute the AUC for a small subset of users (10%) and than move to the entire set."
   ]
  },
  {
   "cell_type": "code",
   "execution_count": 50,
   "metadata": {
    "slideshow": {
     "slide_type": "subslide"
    }
   },
   "outputs": [
    {
     "name": "stderr",
     "output_type": "stream",
     "text": [
      "100%|██████████| 13455/13455 [02:08<00:00, 104.39it/s]\n"
     ]
    },
    {
     "name": "stdout",
     "output_type": "stream",
     "text": [
      "Average AUC = 0.8622\n"
     ]
    }
   ],
   "source": [
    "roc_auc_small = compute_auc(test_users_ratio = 0.1)\n",
    "print('Average AUC = %.4f' % roc_auc_small.mean())"
   ]
  },
  {
   "cell_type": "code",
   "execution_count": 51,
   "metadata": {},
   "outputs": [],
   "source": [
    "roc_auc = roc_auc_small"
   ]
  },
  {
   "cell_type": "code",
   "execution_count": 52,
   "metadata": {},
   "outputs": [
    {
     "data": {
      "image/png": "[encoded data removed]",
      "text/plain": [
       "<Figure size 432x288 with 2 Axes>"
      ]
     },
     "metadata": {},
     "output_type": "display_data"
    }
   ],
   "source": [
    "fig, (ax0, ax1) = plt.subplots(2,1)\n",
    "fig.tight_layout()\n",
    "# Plot distribution\n",
    "ax0.hist(roc_auc, bins='auto', density=True, log=True) # Should add extra options here\n",
    "\n",
    "# Plot cumulative distribution\n",
    "ax1.hist(roc_auc, bins='auto', density=True, cumulative=True, log=True) # Should add extra options here\n",
    "\n",
    "# Plot a vertical line on the average (distribution plot)\n",
    "ax0.axvline(roc_auc.mean(), label='Average AUC = %.3f' % roc_auc.mean(), color = 'red')\n",
    "\n",
    "# Plot some percentile on the cumulative distribution\n",
    "for i, quantile in enumerate([.05, 0.25, .5, .75, .95]):\n",
    "    ax1.axvline(np.percentile(roc_auc, quantile*100), label = '%.0fth perc.' % (quantile*100), color = 'red')\n",
    "\n",
    "    \n",
    "ax0.set_title('Distribution of AUC for all the users')\n",
    "ax1.set_title('Cumulative distribution of AUC for all the users')\n",
    "    \n",
    "ax0.legend()\n",
    "ax1.legend()\n",
    "plt.show()"
   ]
  },
  {
   "cell_type": "code",
   "execution_count": 53,
   "metadata": {},
   "outputs": [
    {
     "name": "stderr",
     "output_type": "stream",
     "text": [
      "100%|██████████| 134549/134549 [21:55<00:00, 102.24it/s]\n"
     ]
    },
    {
     "name": "stdout",
     "output_type": "stream",
     "text": [
      "Average AUC = 0.8646\n"
     ]
    }
   ],
   "source": [
    "roc_auc = compute_auc(test_users_ratio = 1)\n",
    "print('Average AUC = %.4f' % roc_auc.mean())"
   ]
  },
  {
   "cell_type": "markdown",
   "metadata": {
    "slideshow": {
     "slide_type": "slide"
    }
   },
   "source": [
    "#### Question 9.3 \n",
    "\n",
    "The average AUC doesn't give the full picture here. Try to plot the distribution and the cumulative distribution of the AUC for all the users. Can you comment on these plots? "
   ]
  },
  {
   "cell_type": "code",
   "execution_count": 54,
   "metadata": {
    "slideshow": {
     "slide_type": "subslide"
    }
   },
   "outputs": [
    {
     "data": {
      "image/png": "[encoded data removed]",
      "text/plain": [
       "<Figure size 432x288 with 2 Axes>"
      ]
     },
     "metadata": {},
     "output_type": "display_data"
    }
   ],
   "source": [
    "fig, (ax0, ax1) = plt.subplots(2,1)\n",
    "fig.tight_layout()\n",
    "# Plot distribution\n",
    "ax0.hist(roc_auc, bins='auto', density=True, log=True) # Should add extra options here\n",
    "\n",
    "# Plot cumulative distribution\n",
    "ax1.hist(roc_auc, bins='auto', density=True, cumulative=True, log=True) # Should add extra options here\n",
    "\n",
    "# Plot a vertical line on the average (distribution plot)\n",
    "ax0.axvline(roc_auc.mean(), label='Average AUC = %.3f' % roc_auc.mean(), color = 'red')\n",
    "\n",
    "# Plot some percentile on the cumulative distribution\n",
    "for i, quantile in enumerate([.05, 0.25, .5, .75, .95]):\n",
    "    ax1.axvline(np.percentile(roc_auc, quantile*100), label = '%.0fth perc.' % (quantile*100), color = 'red')\n",
    "\n",
    "    \n",
    "ax0.set_title('Distribution of AUC for all the users')\n",
    "ax1.set_title('Cumulative distribution of AUC for all the users')\n",
    "    \n",
    "ax0.legend()\n",
    "ax1.legend()\n",
    "plt.show()"
   ]
  },
  {
   "cell_type": "markdown",
   "metadata": {},
   "source": [
    "**COMMENT ON THESE PLOTS**\n",
    "\n",
    "From the **first histogram** showing the **Distribution of AUC for all the users**, the AUC-scores are on the x-axis and the amount of users that got one specific AUC-score on the y-axis. In the **second histogram** showing the **Cumulative distribution of AUC for all users** we see the AUC-score on the x-axis, and the total number of users that got this specific AUC-score or less on the y-axis.\n",
    "\n",
    "An AUC-score of 1 indicates that the reccomendation algorithm was able to reccomend all the artists in the test data and an AUC score of 0.5 is obtained by randomly reccomending artists. From the second histogram we can see that 5% of users had an AUC-score of 0.5 or below, and conversely 95% of users had an AUC-score of 0.5 and above. In addition, we can see that 75% of users experienced an AUC-score of approximately 0.82 and above, and 50% of users had an AUC score very close to 1. "
   ]
  },
  {
   "cell_type": "markdown",
   "metadata": {
    "slideshow": {
     "slide_type": "slide"
    }
   },
   "source": [
    "## 3.6 Personalized recommendations with ALS\n",
    "\n",
    "In the previous section, we build our models with some given paramters without any knowledge about them. Actually, choosing the best parameters' values is very important. It can significantly affect the quality of models. Especially, with the current implementation of ALS in MLLIB, these parameters are not learned by the algorithm, and must be chosen by the caller. The following parameters should get consideration before training models:\n",
    "\n",
    "* `rank = 10`: the number of latent factors in the model, or equivalently, the number of columns $k$ in the user-feature and product-feature matrices. In non-trivial cases, this is also their rank. \n",
    "\n",
    "* `iterations = 5`: the number of iterations that the factorization runs. Instead of runing the algorithm until RMSE converged which actually takes very long time to finish with large datasets, we only let it run in a given number of iterations. More iterations take more time but may produce a better factorization.\n",
    "\n",
    "* `lambda_ = 0.01`: a standard overfitting parameter. Higher values resist overfitting, but values that are too high hurt the factorization's accuracy.\n",
    "\n",
    "*  `alpha = 1.0`: controls the relative weight of observed versus unobserved userproduct interactions in the factorization. \n",
    "\n",
    "Although all of them have impact on the models' quality, `iterations` is more of a constraint on resources used in the factorization. So, `rank`, `lambda_` and `alpha` can be considered hyperparameters to the model. \n",
    "We will try to find \"good\" values for them. Indeed, the values of hyperparameter are not necessarily optimal. Choosing good hyperparameter values is a common problem in machine learning. The most basic way to choose values is to simply try combinations of values and evaluate a metric for each of them, and choose the combination that produces the best value of the metric. \n"
   ]
  },
  {
   "cell_type": "markdown",
   "metadata": {
    "slideshow": {
     "slide_type": "slide"
    }
   },
   "source": [
    "### Question 10\n",
    "\n",
    "#### Question 10.1\n",
    "<div class=\"alert alert-info\">\n",
    "For simplicity, assume that we want to explore the following parameter space: $ rank \\in \\{10, 50\\}$, $lambda\\_ \\in \\{1.0, 0.0001\\}$ and $alpha \\in \\{1.0, 40.0\\}$.\n",
    "\n",
    "Find the best combination of them in terms of the highest AUC value.\n",
    "</div>\n",
    "\n",
    "***Hint***: have a look to `ParameterGrid()` in `sklearn.model_selection` "
   ]
  },
  {
   "cell_type": "code",
   "execution_count": 48,
   "metadata": {
    "slideshow": {
     "slide_type": "subslide"
    }
   },
   "outputs": [
    {
     "name": "stderr",
     "output_type": "stream",
     "text": [
      "100%|██████████| 5.0/5 [02:14<00:00, 28.58s/it]\n",
      "100%|██████████| 1347/1347 [00:17<00:00, 75.65it/s]\n",
      "100%|██████████| 5.0/5 [02:17<00:00, 30.23s/it]\n",
      "100%|██████████| 1347/1347 [00:12<00:00, 107.13it/s]\n",
      " 50%|█████     | 2.5/5 [02:36<02:11, 52.71s/it]\n"
     ]
    },
    {
     "ename": "KeyboardInterrupt",
     "evalue": "",
     "output_type": "error",
     "traceback": [
      "\u001b[0;31m---------------------------------------------------------------------------\u001b[0m",
      "\u001b[0;31mKeyboardInterrupt\u001b[0m                         Traceback (most recent call last)",
      "\u001b[0;32m<ipython-input-48-9a25fff02452>\u001b[0m in \u001b[0;36m<module>\u001b[0;34m()\u001b[0m\n\u001b[1;32m     19\u001b[0m     \u001b[0mtrain_data_conf\u001b[0m \u001b[0;34m=\u001b[0m \u001b[0;34m(\u001b[0m\u001b[0msparse_item_user\u001b[0m \u001b[0;34m*\u001b[0m \u001b[0malpha\u001b[0m\u001b[0;34m)\u001b[0m\u001b[0;34m.\u001b[0m\u001b[0mastype\u001b[0m\u001b[0;34m(\u001b[0m\u001b[0;34m'double'\u001b[0m\u001b[0;34m)\u001b[0m\u001b[0;34m\u001b[0m\u001b[0m\n\u001b[1;32m     20\u001b[0m \u001b[0;34m\u001b[0m\u001b[0m\n\u001b[0;32m---> 21\u001b[0;31m     \u001b[0mmodel\u001b[0m\u001b[0;34m.\u001b[0m\u001b[0mfit\u001b[0m\u001b[0;34m(\u001b[0m\u001b[0mtrain_data_conf\u001b[0m\u001b[0;34m)\u001b[0m\u001b[0;34m\u001b[0m\u001b[0m\n\u001b[0m\u001b[1;32m     22\u001b[0m \u001b[0;34m\u001b[0m\u001b[0m\n\u001b[1;32m     23\u001b[0m     \u001b[0mauc\u001b[0m \u001b[0;34m=\u001b[0m \u001b[0mcompute_auc\u001b[0m\u001b[0;34m(\u001b[0m\u001b[0mtest_users_ratio\u001b[0m \u001b[0;34m=\u001b[0m \u001b[0;36m0.01\u001b[0m\u001b[0;34m)\u001b[0m\u001b[0;34m\u001b[0m\u001b[0m\n",
      "\u001b[0;32m~/.local/lib/python3.5/site-packages/implicit/als.py\u001b[0m in \u001b[0;36mfit\u001b[0;34m(self, item_users, show_progress)\u001b[0m\n\u001b[1;32m    161\u001b[0m \u001b[0;34m\u001b[0m\u001b[0m\n\u001b[1;32m    162\u001b[0m                 solver(Ciu, self.item_factors, self.user_factors, self.regularization,\n\u001b[0;32m--> 163\u001b[0;31m                        num_threads=self.num_threads)\n\u001b[0m\u001b[1;32m    164\u001b[0m                 \u001b[0mprogress\u001b[0m\u001b[0;34m.\u001b[0m\u001b[0mupdate\u001b[0m\u001b[0;34m(\u001b[0m\u001b[0;36m.5\u001b[0m\u001b[0;34m)\u001b[0m\u001b[0;34m\u001b[0m\u001b[0m\n\u001b[1;32m    165\u001b[0m \u001b[0;34m\u001b[0m\u001b[0m\n",
      "\u001b[0;31mKeyboardInterrupt\u001b[0m: "
     ]
    }
   ],
   "source": [
    "from sklearn.model_selection import ParameterGrid\n",
    "# Define the hyperparameters\n",
    "hyperparameters = {\n",
    "    'factors': [10, 25, 50], \n",
    "    'regularization' : [0.0001, 1], \n",
    "    'alpha' : [1.0, 40]}\n",
    "\n",
    "# Compute all combinations\n",
    "parameter_grid = list(ParameterGrid(hyperparameters))\n",
    "\n",
    "# Just a table to save the results\n",
    "resultsDF = pd.DataFrame(columns=['factors', 'regularization', 'alpha', 'auc'])\n",
    "for parameter_combination in parameter_grid:\n",
    "    factors = parameter_combination.get('factors')\n",
    "    regularization = parameter_combination.get('regularization')\n",
    "    alpha = parameter_combination.get('alpha')\n",
    "    model = implicit.als.AlternatingLeastSquares(factors = factors, regularization = regularization, iterations = iterations)\n",
    "    \n",
    "    train_data_conf = (train_sparse_item_user * alpha).astype('double')\n",
    "\n",
    "    model.fit(train_data_conf)\n",
    "    \n",
    "    auc = compute_auc(test_users_ratio = 0.1)\n",
    "    \n",
    "    parameter_combination['auc'] = auc.mean()\n",
    "    resultsDF = resultsDF.append(parameter_combination, ignore_index=True)\n",
    "    \n",
    "resultsDF.sort_values('auc')"
   ]
  },
  {
   "cell_type": "markdown",
   "metadata": {
    "slideshow": {
     "slide_type": "slide"
    }
   },
   "source": [
    "### Question 10.2\n",
    "\n",
    "Sometimes an exhaustive search in the hyperparameter space is a waste of time and resources.\n",
    "There are a lot of research questions open that deal with automating the end-to-end process of applying machine learning to real-world problems (e.g. **AutoML**).\n",
    "\n",
    "Random sampling in the hyperparameter space is a possible -- very simple but yet quite powerfull -- technique.\n",
    "\n",
    "Implement a simple parameter sampler and try a bunch of different configurations.\n",
    "\n",
    "***Hint***: have a look to `ParameterSampler()` in `sklearn.model_selection` "
   ]
  },
  {
   "cell_type": "code",
   "execution_count": 46,
   "metadata": {
    "slideshow": {
     "slide_type": "subslide"
    }
   },
   "outputs": [
    {
     "name": "stderr",
     "output_type": "stream",
     "text": [
      "100%|██████████| 5.0/5 [06:12<00:00, 90.71s/it]\n",
      "100%|██████████| 13464/13464 [02:48<00:00, 79.98it/s] \n"
     ]
    },
    {
     "data": {
      "text/html": [
       "<div>\n",
       "<style scoped>\n",
       "    .dataframe tbody tr th:only-of-type {\n",
       "        vertical-align: middle;\n",
       "    }\n",
       "\n",
       "    .dataframe tbody tr th {\n",
       "        vertical-align: top;\n",
       "    }\n",
       "\n",
       "    .dataframe thead th {\n",
       "        text-align: right;\n",
       "    }\n",
       "</style>\n",
       "<table border=\"1\" class=\"dataframe\">\n",
       "  <thead>\n",
       "    <tr style=\"text-align: right;\">\n",
       "      <th></th>\n",
       "      <th>factors</th>\n",
       "      <th>regularization</th>\n",
       "      <th>alpha</th>\n",
       "      <th>auc</th>\n",
       "    </tr>\n",
       "  </thead>\n",
       "  <tbody>\n",
       "    <tr>\n",
       "      <th>0</th>\n",
       "      <td>30.0</td>\n",
       "      <td>0.708773</td>\n",
       "      <td>40.563650</td>\n",
       "      <td>0.886586</td>\n",
       "    </tr>\n",
       "    <tr>\n",
       "      <th>1</th>\n",
       "      <td>16.0</td>\n",
       "      <td>0.335104</td>\n",
       "      <td>37.156357</td>\n",
       "      <td>0.886905</td>\n",
       "    </tr>\n",
       "    <tr>\n",
       "      <th>2</th>\n",
       "      <td>36.0</td>\n",
       "      <td>0.200258</td>\n",
       "      <td>22.649884</td>\n",
       "      <td>0.887941</td>\n",
       "    </tr>\n",
       "  </tbody>\n",
       "</table>\n",
       "</div>"
      ],
      "text/plain": [
       "   factors  regularization      alpha       auc\n",
       "0     30.0        0.708773  40.563650  0.886586\n",
       "1     16.0        0.335104  37.156357  0.886905\n",
       "2     36.0        0.200258  22.649884  0.887941"
      ]
     },
     "execution_count": 46,
     "metadata": {},
     "output_type": "execute_result"
    }
   ],
   "source": [
    "import scipy.stats \n",
    "from sklearn.model_selection import ParameterSampler\n",
    "# https://scikit-learn.org/stable/modules/generated/sklearn.model_selection.ParameterSampler.html\n",
    "# Hyperparameters are now definded by probability densities\n",
    "hyperparameters = {\n",
    "    'factors': scipy.stats.randint(10, 50), \n",
    "    'regularization' : scipy.stats.uniform(0.0001, 1.), \n",
    "    'alpha' : scipy.stats.uniform(1., 40.)}\n",
    "\n",
    "parameter_grid = list(ParameterSampler(hyperparameters, n_iter = 6))\n",
    "\n",
    "# You can either append the results to the previous table or create a new one\n",
    "resultsDF_random = pd.DataFrame(columns=['factors', 'regularization', 'alpha', 'auc'])\n",
    "\n",
    "for parameter_combination in parameter_grid:    \n",
    "\n",
    "    factors = parameter_combination.get('factors')\n",
    "    regularization = parameter_combination.get('regularization')\n",
    "    alpha = parameter_combination.get('alpha')\n",
    "    model = implicit.als.AlternatingLeastSquares(factors = factors,\n",
    "                                                 regularization = regularization,\n",
    "                                                 iterations = iterations)\n",
    "    \n",
    "    train_data_conf = (train_sparse_item_user * alpha).astype('double')\n",
    "\n",
    "    model.fit(train_data_conf)\n",
    "    \n",
    "    auc = compute_auc(test_users_ratio = 0.1)\n",
    "    \n",
    "    parameter_combination['auc'] = auc.mean()\n",
    "    resultsDF_random = resultsDF_random.append(parameter_combination, ignore_index=True)\n",
    "    \n",
    "resultsDF_random.sort_values('auc')"
   ]
  },
  {
   "cell_type": "markdown",
   "metadata": {
    "slideshow": {
     "slide_type": "slide"
    }
   },
   "source": [
    "#### Question 10.2 \n",
    "<div class=\"alert alert-info\">\n",
    "Using \"optimal\" hyper-parameters in question 10.1, re-train the model and show top-5 artist names recommendated for user `2093760`.\n",
    "</div>"
   ]
  },
  {
   "cell_type": "code",
   "execution_count": null,
   "metadata": {
    "slideshow": {
     "slide_type": "subslide"
    }
   },
   "outputs": [],
   "source": [
    "factors = 1\n",
    "regularization = 1\n",
    "alpha = 1\n",
    "model = implicit.als.AlternatingLeastSquares(factors = factors,\n",
    "                                             regularization = regularization,\n",
    "                                             iterations = 5)\n",
    "                                             \n",
    "\n",
    "\n",
    "train_data_conf = (sparse_item_user * alpha).astype('double')\n",
    "model.fit(...)\n",
    "\n",
    "user_id = 2093760\n",
    "for incremental_artist_id, score in model.recommend(...):\n",
    "    print(...)\n"
   ]
  },
  {
   "cell_type": "markdown",
   "metadata": {
    "slideshow": {
     "slide_type": "slide"
    }
   },
   "source": [
    "# Summary\n",
    "\n",
    "In this notebook, we introduce an algorithm to do matrix factorization and the way of using it to make recommendation. Further more, we studied how to build a large-scale recommender system using ALS algorithm and evaluate its quality. Finally, a simple approach to choose good parameters is mentioned."
   ]
  },
  {
   "cell_type": "markdown",
   "metadata": {},
   "source": [
    "# References\n",
    "\n",
    "- The example in section 2 is taken from [Recommender system](infolab.stanford.edu/~ullman/mmds/ch9.pdf)"
   ]
  },
  {
   "cell_type": "code",
   "execution_count": null,
   "metadata": {},
   "outputs": [],
   "source": []
  }
 ],
 "metadata": {
  "kernelspec": {
   "display_name": "Python 3",
   "language": "python",
   "name": "python3"
  },
  "language_info": {
   "codemirror_mode": {
    "name": "ipython",
    "version": 3
   },
   "file_extension": ".py",
   "mimetype": "text/x-python",
   "name": "python",
   "nbconvert_exporter": "python",
   "pygments_lexer": "ipython3",
   "version": "3.5.2"
  },
  "rise": {
   "scroll": true,
   "theme": "white",
   "transition": "zoom"
  }
 },
 "nbformat": 4,
 "nbformat_minor": 2
}
