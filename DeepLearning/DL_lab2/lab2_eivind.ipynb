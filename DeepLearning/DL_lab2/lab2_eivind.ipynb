{
 "cells": [
  {
   "cell_type": "markdown",
   "metadata": {},
   "source": [
    "<h1 style=\"text-align:center\">Deep Learning   </h1>\n",
    "<h1 style=\"text-align:center\"> Lab Session 2 - 1.5 Hours </h1>\n",
    "<h1 style=\"text-align:center\"> Convolutional Neural Network (CNN) for Handwritten Digits Recognition</h1>"
   ]
  },
  {
   "cell_type": "markdown",
   "metadata": {},
   "source": [
    "The aim of this session is to practice with Convolutional Neural Networks. Each group should fill and run appropriate notebook cells. \n",
    "\n",
    "Follow instructions step by step until the end and submit your complete notebook as an archive (tar -cf groupXnotebook.tar DL_lab2/).\n",
    "\n",
    "Do not forget to run all your cells before generating your final report and do not forget to include the names of all participants in the group. The lab session should be completed by May 29th 2019 (23:59:59 CET)."
   ]
  },
  {
   "cell_type": "markdown",
   "metadata": {},
   "source": [
    "# Introduction"
   ]
  },
  {
   "cell_type": "markdown",
   "metadata": {},
   "source": [
    "In the last Lab Session, you built a Multilayer Perceptron for recognizing hand-written digits from the MNIST data-set. The best achieved accuracy on testing data was about 97%.  Can  you do better than these results using a deep CNN ?\n",
    "In this Lab Session, you will build, train and optimize in TensorFlow one of the early Convolutional Neural Networks,  **LeNet-5**, to go to  more than 99% of accuracy. \n",
    "\n",
    "\n",
    "\n",
    "\n"
   ]
  },
  {
   "cell_type": "markdown",
   "metadata": {},
   "source": [
    "# Load MNIST Data in TensorFlow\n",
    "Run the cell below to load the MNIST data that comes with TensorFlow. You will use this data in **Section 1** and **Section 2**."
   ]
  },
  {
   "cell_type": "code",
   "execution_count": 1,
   "metadata": {},
   "outputs": [
    {
     "name": "stdout",
     "output_type": "stream",
     "text": [
      "WARNING:tensorflow:From <ipython-input-1-125611d31b4c>:6: read_data_sets (from tensorflow.contrib.learn.python.learn.datasets.mnist) is deprecated and will be removed in a future version.\n",
      "Instructions for updating:\n",
      "Please use alternatives such as official/mnist/dataset.py from tensorflow/models.\n",
      "WARNING:tensorflow:From /usr/local/lib/python3.5/dist-packages/tensorflow/contrib/learn/python/learn/datasets/mnist.py:260: maybe_download (from tensorflow.contrib.learn.python.learn.datasets.base) is deprecated and will be removed in a future version.\n",
      "Instructions for updating:\n",
      "Please write your own downloading logic.\n",
      "WARNING:tensorflow:From /usr/local/lib/python3.5/dist-packages/tensorflow/contrib/learn/python/learn/datasets/mnist.py:262: extract_images (from tensorflow.contrib.learn.python.learn.datasets.mnist) is deprecated and will be removed in a future version.\n",
      "Instructions for updating:\n",
      "Please use tf.data to implement this functionality.\n",
      "Extracting MNIST_data/train-images-idx3-ubyte.gz\n",
      "WARNING:tensorflow:From /usr/local/lib/python3.5/dist-packages/tensorflow/contrib/learn/python/learn/datasets/mnist.py:267: extract_labels (from tensorflow.contrib.learn.python.learn.datasets.mnist) is deprecated and will be removed in a future version.\n",
      "Instructions for updating:\n",
      "Please use tf.data to implement this functionality.\n",
      "Extracting MNIST_data/train-labels-idx1-ubyte.gz\n",
      "WARNING:tensorflow:From /usr/local/lib/python3.5/dist-packages/tensorflow/contrib/learn/python/learn/datasets/mnist.py:110: dense_to_one_hot (from tensorflow.contrib.learn.python.learn.datasets.mnist) is deprecated and will be removed in a future version.\n",
      "Instructions for updating:\n",
      "Please use tf.one_hot on tensors.\n",
      "Extracting MNIST_data/t10k-images-idx3-ubyte.gz\n",
      "Extracting MNIST_data/t10k-labels-idx1-ubyte.gz\n",
      "WARNING:tensorflow:From /usr/local/lib/python3.5/dist-packages/tensorflow/contrib/learn/python/learn/datasets/mnist.py:290: DataSet.__init__ (from tensorflow.contrib.learn.python.learn.datasets.mnist) is deprecated and will be removed in a future version.\n",
      "Instructions for updating:\n",
      "Please use alternatives such as official/mnist/dataset.py from tensorflow/models.\n",
      "Image Shape: (784,)\n",
      "Training Set:   55000 samples\n",
      "Validation Set: 5000 samples\n",
      "Test Set:       10000 samples\n"
     ]
    }
   ],
   "source": [
    "import time\n",
    "import tensorflow as tf\n",
    "import numpy as np\n",
    "from tensorflow.examples.tutorials.mnist import input_data\n",
    "\n",
    "mnist = input_data.read_data_sets(\"MNIST_data/\", one_hot=True)\n",
    "X_train, y_train           = mnist.train.images, mnist.train.labels\n",
    "X_validation, y_validation = mnist.validation.images, mnist.validation.labels\n",
    "X_test, y_test             = mnist.test.images, mnist.test.labels\n",
    "print(\"Image Shape: {}\".format(X_train[0].shape))\n",
    "print(\"Training Set:   {} samples\".format(len(X_train)))\n",
    "print(\"Validation Set: {} samples\".format(len(X_validation)))\n",
    "print(\"Test Set:       {} samples\".format(len(X_test)))\n",
    "\n",
    "epsilon = 1e-10 # this is a parameter you will use later"
   ]
  },
  {
   "cell_type": "markdown",
   "metadata": {},
   "source": [
    "# Section 1 : My First Model in TensorFlow"
   ]
  },
  {
   "cell_type": "markdown",
   "metadata": {},
   "source": [
    "Before starting with CNN, let's train and test in TensorFlow the example\n",
    "**y=softmax(Wx+b)** seen in the first lab. \n",
    "\n",
    "This model reaches an accuracy of about 92 %.\n",
    "You will also learn how to launch the TensorBoard https://www.tensorflow.org/get_started/summaries_and_tensorboard to visualize the computation graph, statistics and learning curves. "
   ]
  },
  {
   "cell_type": "markdown",
   "metadata": {},
   "source": [
    "<b> Part 1 </b> : Read carefully the code in the cell below. Run it to perform training. "
   ]
  },
  {
   "cell_type": "code",
   "execution_count": 2,
   "metadata": {},
   "outputs": [
    {
     "name": "stdout",
     "output_type": "stream",
     "text": [
      "Epoch:  01   =====> Loss= 1.289298997\n",
      "Epoch:  02   =====> Loss= 0.732756380\n",
      "Epoch:  03   =====> Loss= 0.600347622\n",
      "Epoch:  04   =====> Loss= 0.536745013\n",
      "Epoch:  05   =====> Loss= 0.497608382\n",
      "Epoch:  06   =====> Loss= 0.471106851\n",
      "Epoch:  07   =====> Loss= 0.451347441\n",
      "Epoch:  08   =====> Loss= 0.435999985\n",
      "Epoch:  09   =====> Loss= 0.423343228\n",
      "Epoch:  10   =====> Loss= 0.413096836\n",
      "Epoch:  11   =====> Loss= 0.404289811\n",
      "Epoch:  12   =====> Loss= 0.396821112\n",
      "Epoch:  13   =====> Loss= 0.390351894\n",
      "Epoch:  14   =====> Loss= 0.384550843\n",
      "Epoch:  15   =====> Loss= 0.379129375\n",
      "Epoch:  16   =====> Loss= 0.374624557\n",
      "Epoch:  17   =====> Loss= 0.370322947\n",
      "Epoch:  18   =====> Loss= 0.366417585\n",
      "Epoch:  19   =====> Loss= 0.362977679\n",
      "Epoch:  20   =====> Loss= 0.359699997\n",
      "Epoch:  21   =====> Loss= 0.356695764\n",
      "Epoch:  22   =====> Loss= 0.353759692\n",
      "Epoch:  23   =====> Loss= 0.351149373\n",
      "Epoch:  24   =====> Loss= 0.348944717\n",
      "Epoch:  25   =====> Loss= 0.346499803\n",
      "Epoch:  26   =====> Loss= 0.344164736\n",
      "Epoch:  27   =====> Loss= 0.342216787\n",
      "Epoch:  28   =====> Loss= 0.340340735\n",
      "Epoch:  29   =====> Loss= 0.338706604\n",
      "Epoch:  30   =====> Loss= 0.336781766\n",
      "Epoch:  31   =====> Loss= 0.334791712\n",
      "Epoch:  32   =====> Loss= 0.333439315\n",
      "Epoch:  33   =====> Loss= 0.331927313\n",
      "Epoch:  34   =====> Loss= 0.330592188\n",
      "Epoch:  35   =====> Loss= 0.329154746\n",
      "Epoch:  36   =====> Loss= 0.327768217\n",
      "Epoch:  37   =====> Loss= 0.326386673\n",
      "Epoch:  38   =====> Loss= 0.325284245\n",
      "Epoch:  39   =====> Loss= 0.324059402\n",
      "Epoch:  40   =====> Loss= 0.323222495\n",
      "Optimization Finished!\n",
      "Accuracy: 0.9165\n"
     ]
    }
   ],
   "source": [
    "#STEP 1\n",
    "\n",
    "# Parameters\n",
    "learning_rate = 0.01\n",
    "training_epochs = 40\n",
    "batch_size = 128\n",
    "display_step = 1\n",
    "logs_path = 'log_files/'  # useful for tensorboard\n",
    "\n",
    "# tf Graph Input:  mnist data image of shape 28*28=784\n",
    "x = tf.placeholder(tf.float32, [None, 784], name='InputData')\n",
    "# 0-9 digits recognition,  10 classes\n",
    "y = tf.placeholder(tf.float32, [None, 10], name='LabelData')\n",
    "\n",
    "# Set model weights\n",
    "W = tf.Variable(tf.zeros([784, 10]), name='Weights')\n",
    "b = tf.Variable(tf.zeros([10]), name='Bias')\n",
    "\n",
    "# Construct model and encapsulating all ops into scopes, making Tensorboard's Graph visualization more convenient\n",
    "with tf.name_scope('Model'):\n",
    "    # Model\n",
    "    pred = tf.nn.softmax(tf.matmul(x, W) + b) # Softmax\n",
    "with tf.name_scope('Loss'):\n",
    "    # Minimize error using cross entropy\n",
    "    # We use tf.clip_by_value to avoid having too low numbers in the log function\n",
    "    cost = tf.reduce_mean(-tf.reduce_sum(y*tf.log(tf.clip_by_value(pred, epsilon, 1.0)), reduction_indices=1))\n",
    "with tf.name_scope('SGD'):\n",
    "    # Gradient Descent\n",
    "    optimizer = tf.train.GradientDescentOptimizer(learning_rate).minimize(cost)\n",
    "with tf.name_scope('Accuracy'):\n",
    "    # Accuracy\n",
    "    acc = tf.equal(tf.argmax(pred, 1), tf.argmax(y, 1))\n",
    "    acc = tf.reduce_mean(tf.cast(acc, tf.float32))\n",
    "\n",
    "# Initializing the variables\n",
    "init = tf.global_variables_initializer()\n",
    "# Create a summary to monitor cost tensor\n",
    "tf.summary.scalar(\"Loss\", cost)\n",
    "# Create a summary to monitor accuracy tensor\n",
    "tf.summary.scalar(\"Accuracy\", acc)\n",
    "# Merge all summaries into a single op\n",
    "merged_summary_op = tf.summary.merge_all()\n",
    "\n",
    "#STEP 2 \n",
    "\n",
    "# Launch the graph for training\n",
    "with tf.Session() as sess:\n",
    "    sess.run(init)\n",
    "    # op to write logs to Tensorboard\n",
    "    summary_writer = tf.summary.FileWriter(logs_path, graph=tf.get_default_graph())\n",
    "    # Training cycle\n",
    "    for epoch in range(training_epochs):\n",
    "        avg_cost = 0.\n",
    "        total_batch = int(mnist.train.num_examples/batch_size)\n",
    "        # Loop over all batches\n",
    "        for i in range(total_batch):\n",
    "            batch_xs, batch_ys = mnist.train.next_batch(batch_size, shuffle=(i==0))\n",
    "            # Run optimization op (backprop), cost op (to get loss value)\n",
    "            # and summary nodes\n",
    "            _, c, summary = sess.run([optimizer, cost, merged_summary_op],\n",
    "                                     feed_dict={x: batch_xs, y: batch_ys})\n",
    "            # Write logs at every iteration\n",
    "            summary_writer.add_summary(summary, epoch * total_batch + i)\n",
    "            # Compute average loss\n",
    "            avg_cost += c / total_batch\n",
    "        # Display logs per epoch step\n",
    "        if (epoch+1) % display_step == 0:\n",
    "            print(\"Epoch: \", '%02d' % (epoch+1), \"  =====> Loss=\", \"{:.9f}\".format(avg_cost))\n",
    "\n",
    "    print(\"Optimization Finished!\")\n",
    "    summary_writer.flush()\n",
    "\n",
    "    # Test model\n",
    "    # Calculate accuracy\n",
    "    print(\"Accuracy:\", acc.eval({x: mnist.test.images, y: mnist.test.labels}))"
   ]
  },
  {
   "cell_type": "markdown",
   "metadata": {},
   "source": [
    "<b> Part 2  </b>: Using Tensorboard, we can  now visualize the created graph, giving you an overview of your architecture and how all of the major components  are connected. You can also see and analyse the learning curves. \n",
    "\n",
    "To launch tensorBoard: \n",
    "- Open a Terminal and run the command line **\"tensorboard --logdir=lab_2/log_files/\"**\n",
    "- Click on \"Tensorboard web interface\" in Zoe  \n",
    "\n",
    "\n",
    "Enjoy It !! \n"
   ]
  },
  {
   "cell_type": "markdown",
   "metadata": {},
   "source": [
    "# Section 2 : The 99% MNIST Challenge !"
   ]
  },
  {
   "cell_type": "markdown",
   "metadata": {},
   "source": [
    "<b> Part 1 </b> : LeNet5 implementation"
   ]
  },
  {
   "cell_type": "markdown",
   "metadata": {},
   "source": [
    "You are now familar with **TensorFlow** and **TensorBoard**. In this section, you are to build, train and test the baseline [LeNet-5](http://yann.lecun.com/exdb/lenet/)  model for the MNIST digits recognition problem.  \n",
    "\n",
    "Then, you will make some optimizations to get more than 99% of accuracy.\n",
    "\n",
    "For more informations, have a look at this list of results: http://rodrigob.github.io/are_we_there_yet/build/classification_datasets_results.html"
   ]
  },
  {
   "cell_type": "markdown",
   "metadata": {},
   "source": [
    "\n",
    "<img src=\"lenet.png\" width=\"800\" height=\"600\" align=\"center\">\n",
    "\n",
    "\n",
    "\n",
    "\n",
    "\n",
    "The LeNet architecture takes a 28x28xC image as input, where C is the number of color channels. Since MNIST images are grayscale, C is 1 in this case.\n",
    "\n",
    "--------------------------\n",
    "**Layer 1 - Convolution (5x5):** The output shape should be 28x28x6. **Activation:** ReLU. **MaxPooling:** The output shape should be 14x14x6.\n",
    "\n",
    "**Layer 2 - Convolution (5x5):** The output shape should be 10x10x16. **Activation:** ReLU. **MaxPooling:** The output shape should be 5x5x16.\n",
    "\n",
    "**Flatten:** Flatten the output shape of the final pooling layer such that it's 1D instead of 3D.  You may need to use tf.reshape.\n",
    "\n",
    "**Layer 3 - Fully Connected:** This should have 120 outputs. **Activation:** ReLU.\n",
    "\n",
    "**Layer 4 - Fully Connected:** This should have 84 outputs. **Activation:** ReLU.\n",
    "\n",
    "**Layer 5 - Fully Connected:** This should have 10 outputs. **Activation:** softmax.\n"
   ]
  },
  {
   "cell_type": "markdown",
   "metadata": {},
   "source": [
    "<b> Question 2.1.1 </b>  Implement the Neural Network architecture described above.\n",
    "For that, your will use classes and functions from  https://www.tensorflow.org/api_docs/python/tf/nn. \n",
    "\n",
    "We give you some helper functions for weigths and bias initilization. Also you can refer to section 1. \n"
   ]
  },
  {
   "cell_type": "code",
   "execution_count": 2,
   "metadata": {},
   "outputs": [],
   "source": [
    "# Functions for weigths and bias initilization \n",
    "def weight_variable(shape):\n",
    "  initial = tf.truncated_normal(shape, stddev=0.1)\n",
    "  return tf.Variable(initial)\n",
    "\n",
    "def bias_variable(shape):\n",
    "  initial = tf.constant(0., shape=shape)\n",
    "  return tf.Variable(initial)"
   ]
  },
  {
   "cell_type": "code",
   "execution_count": 3,
   "metadata": {},
   "outputs": [],
   "source": [
    "# functions for the different layers. Inspired by: \n",
    "# https://github.com/aymericdamien/TensorFlow-Examples/blob/master/notebooks/3_NeuralNetworks/convolutional_network_raw.ipynb\n",
    "# https://github.com/mari-linhares/mnist-tensorflow/blob/master/04-convnet.ipynb\n",
    "\n",
    "def max_pool_2x2(x, k=2):\n",
    "    return tf.nn.max_pool(x, \n",
    "                          ksize=[1, k, k, 1], strides=[1, k, k, 1], \n",
    "                          padding='SAME')\n",
    "\n",
    "\n",
    "def conv2d_layer(input, num_input_channels, filter_size, num_filters):\n",
    "    shape = [filter_size, filter_size, num_input_channels, num_filters]\n",
    "    weights = weight_variable(shape)\n",
    "    biases = bias_variable([num_filters])\n",
    "    \n",
    "    layer = tf.nn.conv2d(input=input, \n",
    "                         filter=weights,\n",
    "                         strides=[1, 1, 1, 1],\n",
    "                         padding='SAME')\n",
    "    \n",
    "    layer = tf.nn.bias_add(layer, biases)\n",
    "    layer = tf.nn.relu(layer)\n",
    "    return layer\n",
    "\n",
    "\n",
    "def fully_connected(input, num_inputs, num_outputs, use_relu): \n",
    "    weights = weight_variable([num_inputs, num_outputs])\n",
    "    biases = bias_variable([num_outputs])\n",
    " \n",
    "    layer = tf.matmul(input, weights) + biases\n",
    "    if use_relu:\n",
    "        layer = tf.nn.relu(layer)\n",
    "    return layer\n",
    "\n",
    "\n",
    "def flatten_layer(layer):\n",
    "    layer_shape = layer.get_shape()\n",
    "    num_features = layer_shape[1:4].num_elements()\n",
    "    layer_flat = tf.reshape(layer, [-1, num_features])\n",
    "    return layer_flat, num_features\n"
   ]
  },
  {
   "cell_type": "code",
   "execution_count": 4,
   "metadata": {},
   "outputs": [],
   "source": [
    "# Layer 1 - Convolution (5x5): The output shape: 28x28x6. Activation: ReLU. MaxPooling: The output: 14x14x6.\n",
    "# Layer 2 - Convolution (5x5): The output shape: 10x10x16. Activation: ReLU. MaxPooling: The output: 5x5x16.\n",
    "# Flatten: Flatten the output shape of the final pooling layer such that it's 1D instead of 3D.\n",
    "# Layer 3 - Fully Connected: 120 outputs. Activation: ReLU.\n",
    "# Layer 4 - Fully Connected: 84 outputs. Activation: ReLU.\n",
    "# Layer 5 - Fully Connected: 10 outputs. Activation: softmax.\n",
    "\n",
    "\n",
    "\n",
    "def LeNet5_Model(image):  \n",
    "    # reshape the input for the first layer\n",
    "    x = tf.reshape(image, [-1, 28, 28, 1])\n",
    "    # layer 1\n",
    "    layer1 = conv2d_layer(input=x, \n",
    "                          num_input_channels=1, \n",
    "                          filter_size=5, \n",
    "                          num_filters=6\n",
    "                         )\n",
    "    layer1 = max_pool_2x2(layer1)\n",
    "    # layer 2\n",
    "    layer2 = conv2d_layer(input=layer1, \n",
    "                          num_input_channels=6, \n",
    "                          filter_size=5, \n",
    "                          num_filters=16\n",
    "                         )\n",
    "    layer2 = max_pool_2x2(layer2)\n",
    "    \n",
    "    # flatten \n",
    "    flatten, number_features = flatten_layer(layer2)\n",
    "    # layer 3 (fully connected)\n",
    "    layer3 = fully_connected(flatten, number_features, 120, use_relu=True)\n",
    "    # layer 4 (fully connected)\n",
    "    layer4 = fully_connected(layer3, 120, 84, use_relu=True)\n",
    "    # final layer\n",
    "    final = fully_connected(layer4, 84, 10, use_relu=False)\n",
    "    # return final output before softmax activation\n",
    "    return final"
   ]
  },
  {
   "cell_type": "markdown",
   "metadata": {},
   "source": [
    "<b> Question 2.1.2. </b>  Calculate the number of parameters of this model "
   ]
  },
  {
   "cell_type": "markdown",
   "metadata": {},
   "source": [
    "Your answer goes here in details \n",
    "\n",
    "| Layer | Type   | Calculation | Parameters |\n",
    "|-------|--------|-------------|------------|\n",
    "| 1     | Conv2D | -           | 156        |\n",
    "| 2     | Conv2D | -           | 2416       |\n",
    "| 3     | FC     | -           | 48120      |\n",
    "| 4     | FC     | -           | 10164      |\n",
    "| 5     | FC     | -           | 850        |\n",
    "| Total | -      | -           | 61708      |"
   ]
  },
  {
   "cell_type": "markdown",
   "metadata": {},
   "source": [
    "<b> Question 2.1.3. </b>  Define your model, its accuracy and the loss function according to the following parameters (you can look at Section 1 to see what is expected):\n",
    "\n",
    "     Learning rate: 0.001\n",
    "     Loss Fucntion: Cross-entropy\n",
    "     Optimizer: tf.train.GradientDescentOptimizer\n",
    "     Number of epochs: 40\n",
    "     Batch size: 128"
   ]
  },
  {
   "cell_type": "code",
   "execution_count": 7,
   "metadata": {},
   "outputs": [],
   "source": [
    "tf.reset_default_graph() # reset the default graph before defining a new model\n",
    "\n",
    "# Parameters\n",
    "learning_rate = 0.001\n",
    "training_epochs = 40\n",
    "batch_size = 128\n",
    "display_step = 1\n",
    "logs_path = 'log_files/'\n",
    "\n",
    "\n",
    "# tf Graph Input:  mnist data image of shape 28*28=784\n",
    "x = tf.placeholder(tf.float32, [None, 784], name='InputData')\n",
    "# 0-9 digits recognition,  10 classes\n",
    "y = tf.placeholder(tf.int64, [None, 10], name='LabelData')\n",
    "# Model, loss function and accuracy\n",
    "\n",
    "with tf.name_scope('Model'):\n",
    "    # Model\n",
    "    pred = LeNet5_Model(x)\n",
    "    \n",
    "with tf.name_scope('Loss'):\n",
    "    # Minimize error using cross entropy\n",
    "    # We use tf.clip_by_value to avoid having too low numbers in the log function\n",
    "    loss = tf.reduce_mean(tf.nn.softmax_cross_entropy_with_logits(labels=y, logits=pred))\n",
    "    \n",
    "with tf.name_scope('Accuracy'):\n",
    "    # Accuracy\n",
    "    acc = evaluate(pred, y)\n",
    "    \n",
    "with tf.name_scope('SGD'):\n",
    "    # Gradient Descent\n",
    "    optimizer = tf.train.GradientDescentOptimizer(learning_rate).minimize(loss)"
   ]
  },
  {
   "cell_type": "markdown",
   "metadata": {},
   "source": [
    "<b> Question 2.1.4. </b>  Implement the evaluation function for accuracy computation "
   ]
  },
  {
   "cell_type": "code",
   "execution_count": 6,
   "metadata": {},
   "outputs": [],
   "source": [
    "def evaluate(logits, labels):\n",
    "    # logits will be the outputs of your model, labels will be one-hot vectors corresponding to the actual labels\n",
    "    # logits and labels are numpy arrays\n",
    "    # this function should return the accuracy of your model\n",
    "    correct_pred = tf.equal(tf.argmax(logits, 1), tf.argmax(labels, 1))\n",
    "    accuracy = tf.reduce_mean(tf.cast(correct_pred, tf.float32))\n",
    "    return accuracy"
   ]
  },
  {
   "cell_type": "markdown",
   "metadata": {},
   "source": [
    "<b> Question 2.1.5. </b>  Implement training pipeline and run the training data through it to train the model.\n",
    "\n",
    "- Before each epoch, shuffle the training set. \n",
    "- Print the loss per mini batch and the training/validation accuracy per epoch. (Display results every 100 epochs)\n",
    "- Save the model after training\n",
    "- Print after training the final testing accuracy \n",
    "\n",
    "Save and load models\n",
    "- https://cv-tricks.com/tensorflow-tutorial/save-restore-tensorflow-models-quick-complete-tutorial/\n"
   ]
  },
  {
   "cell_type": "code",
   "execution_count": 8,
   "metadata": {},
   "outputs": [
    {
     "name": "stdout",
     "output_type": "stream",
     "text": [
      "Epoch:  01   =====> Loss:  2.2769282 | Accuracy on validation data: 0.1476\n",
      "Epoch:  02   =====> Loss:  2.2273226 | Accuracy on validation data: 0.2714\n",
      "Epoch:  03   =====> Loss:  2.1262850 | Accuracy on validation data: 0.4338\n",
      "Epoch:  04   =====> Loss:  1.8490478 | Accuracy on validation data: 0.6180\n",
      "Epoch:  05   =====> Loss:  1.2792969 | Accuracy on validation data: 0.7596\n",
      "Epoch:  06   =====> Loss:  0.8102018 | Accuracy on validation data: 0.8216\n",
      "Epoch:  07   =====> Loss:  0.6091494 | Accuracy on validation data: 0.8500\n",
      "Epoch:  08   =====> Loss:  0.5130991 | Accuracy on validation data: 0.8722\n",
      "Epoch:  09   =====> Loss:  0.4557163 | Accuracy on validation data: 0.8856\n",
      "Epoch:  10   =====> Loss:  0.4163755 | Accuracy on validation data: 0.8954\n",
      "Epoch:  11   =====> Loss:  0.3870032 | Accuracy on validation data: 0.9020\n",
      "Epoch:  12   =====> Loss:  0.3637412 | Accuracy on validation data: 0.9084\n",
      "Epoch:  13   =====> Loss:  0.3449885 | Accuracy on validation data: 0.9118\n",
      "Epoch:  14   =====> Loss:  0.3291043 | Accuracy on validation data: 0.9156\n",
      "Epoch:  15   =====> Loss:  0.3149428 | Accuracy on validation data: 0.9182\n",
      "Epoch:  16   =====> Loss:  0.3028832 | Accuracy on validation data: 0.9206\n",
      "Epoch:  17   =====> Loss:  0.2920767 | Accuracy on validation data: 0.9236\n",
      "Epoch:  18   =====> Loss:  0.2819465 | Accuracy on validation data: 0.9252\n",
      "Epoch:  19   =====> Loss:  0.2727741 | Accuracy on validation data: 0.9284\n",
      "Epoch:  20   =====> Loss:  0.2642611 | Accuracy on validation data: 0.9290\n",
      "Epoch:  21   =====> Loss:  0.2564892 | Accuracy on validation data: 0.9300\n",
      "Epoch:  22   =====> Loss:  0.2494843 | Accuracy on validation data: 0.9318\n",
      "Epoch:  23   =====> Loss:  0.2426815 | Accuracy on validation data: 0.9328\n",
      "Epoch:  24   =====> Loss:  0.2364871 | Accuracy on validation data: 0.9348\n",
      "Epoch:  25   =====> Loss:  0.2305037 | Accuracy on validation data: 0.9370\n",
      "Epoch:  26   =====> Loss:  0.2248635 | Accuracy on validation data: 0.9384\n",
      "Epoch:  27   =====> Loss:  0.2196086 | Accuracy on validation data: 0.9398\n",
      "Epoch:  28   =====> Loss:  0.2147091 | Accuracy on validation data: 0.9422\n",
      "Epoch:  29   =====> Loss:  0.2096733 | Accuracy on validation data: 0.9432\n",
      "Epoch:  30   =====> Loss:  0.2054765 | Accuracy on validation data: 0.9442\n",
      "Epoch:  31   =====> Loss:  0.2011360 | Accuracy on validation data: 0.9454\n",
      "Epoch:  32   =====> Loss:  0.1972061 | Accuracy on validation data: 0.9466\n",
      "Epoch:  33   =====> Loss:  0.1933756 | Accuracy on validation data: 0.9476\n",
      "Epoch:  34   =====> Loss:  0.1896728 | Accuracy on validation data: 0.9476\n",
      "Epoch:  35   =====> Loss:  0.1860958 | Accuracy on validation data: 0.9498\n",
      "Epoch:  36   =====> Loss:  0.1827038 | Accuracy on validation data: 0.9508\n",
      "Epoch:  37   =====> Loss:  0.1797406 | Accuracy on validation data: 0.9522\n",
      "Epoch:  38   =====> Loss:  0.1765029 | Accuracy on validation data: 0.9538\n",
      "Epoch:  39   =====> Loss:  0.1736497 | Accuracy on validation data: 0.9538\n",
      "Epoch:  40   =====> Loss:  0.1709728 | Accuracy on validation data: 0.9542\n",
      "Optimization Finished!\n",
      "Final accuracy on test data: 0.9524\n"
     ]
    },
    {
     "ename": "NameError",
     "evalue": "name 'score' is not defined",
     "output_type": "error",
     "traceback": [
      "\u001b[0;31m---------------------------------------------------------------------------\u001b[0m",
      "\u001b[0;31mNameError\u001b[0m                                 Traceback (most recent call last)",
      "\u001b[0;32m<ipython-input-8-125342fcced0>\u001b[0m in \u001b[0;36m<module>\u001b[0;34m()\u001b[0m\n\u001b[1;32m     50\u001b[0m \u001b[0mstart_time\u001b[0m \u001b[0;34m=\u001b[0m \u001b[0mtime\u001b[0m\u001b[0;34m.\u001b[0m\u001b[0mtime\u001b[0m\u001b[0;34m(\u001b[0m\u001b[0;34m)\u001b[0m\u001b[0;34m\u001b[0m\u001b[0m\n\u001b[1;32m     51\u001b[0m \u001b[0;32mwith\u001b[0m \u001b[0mtf\u001b[0m\u001b[0;34m.\u001b[0m\u001b[0mSession\u001b[0m\u001b[0;34m(\u001b[0m\u001b[0;34m)\u001b[0m \u001b[0;32mas\u001b[0m \u001b[0msess\u001b[0m\u001b[0;34m:\u001b[0m\u001b[0;34m\u001b[0m\u001b[0m\n\u001b[0;32m---> 52\u001b[0;31m     \u001b[0mtrain\u001b[0m\u001b[0;34m(\u001b[0m\u001b[0minit\u001b[0m\u001b[0;34m,\u001b[0m \u001b[0msess\u001b[0m\u001b[0;34m,\u001b[0m \u001b[0mlogs_path\u001b[0m\u001b[0;34m,\u001b[0m \u001b[0mtraining_epochs\u001b[0m\u001b[0;34m,\u001b[0m \u001b[0mbatch_size\u001b[0m\u001b[0;34m,\u001b[0m \u001b[0moptimizer\u001b[0m\u001b[0;34m,\u001b[0m \u001b[0mloss\u001b[0m\u001b[0;34m,\u001b[0m \u001b[0mmerged_summary_op\u001b[0m\u001b[0;34m)\u001b[0m\u001b[0;34m\u001b[0m\u001b[0m\n\u001b[0m\u001b[1;32m     53\u001b[0m     \u001b[0mprint\u001b[0m\u001b[0;34m(\u001b[0m\u001b[0;34m\"--- %s seconds ---\"\u001b[0m \u001b[0;34m%\u001b[0m \u001b[0;34m(\u001b[0m\u001b[0mtime\u001b[0m\u001b[0;34m.\u001b[0m\u001b[0mtime\u001b[0m\u001b[0;34m(\u001b[0m\u001b[0;34m)\u001b[0m \u001b[0;34m-\u001b[0m \u001b[0mstart_time\u001b[0m\u001b[0;34m)\u001b[0m\u001b[0;34m)\u001b[0m\u001b[0;34m\u001b[0m\u001b[0m\n",
      "\u001b[0;32m<ipython-input-8-125342fcced0>\u001b[0m in \u001b[0;36mtrain\u001b[0;34m(init, sess, logs_path, n_epochs, batch_size, optimizer, loss, merged_summary_op)\u001b[0m\n\u001b[1;32m     42\u001b[0m     \u001b[0;31m# TODO Print after training the final testing accuracy\u001b[0m\u001b[0;34m\u001b[0m\u001b[0;34m\u001b[0m\u001b[0m\n\u001b[1;32m     43\u001b[0m     \u001b[0mprint\u001b[0m\u001b[0;34m(\u001b[0m\u001b[0;34m\"Final accuracy on test data:\"\u001b[0m\u001b[0;34m,\u001b[0m \u001b[0macc\u001b[0m\u001b[0;34m.\u001b[0m\u001b[0meval\u001b[0m\u001b[0;34m(\u001b[0m\u001b[0;34m{\u001b[0m\u001b[0mx\u001b[0m\u001b[0;34m:\u001b[0m \u001b[0mmnist\u001b[0m\u001b[0;34m.\u001b[0m\u001b[0mtest\u001b[0m\u001b[0;34m.\u001b[0m\u001b[0mimages\u001b[0m\u001b[0;34m,\u001b[0m \u001b[0my\u001b[0m\u001b[0;34m:\u001b[0m \u001b[0mmnist\u001b[0m\u001b[0;34m.\u001b[0m\u001b[0mtest\u001b[0m\u001b[0;34m.\u001b[0m\u001b[0mlabels\u001b[0m\u001b[0;34m}\u001b[0m\u001b[0;34m)\u001b[0m\u001b[0;34m)\u001b[0m\u001b[0;34m\u001b[0m\u001b[0m\n\u001b[0;32m---> 44\u001b[0;31m     \u001b[0mprint\u001b[0m\u001b[0;34m(\u001b[0m\u001b[0;34m\"The final score is: \"\u001b[0m\u001b[0;34m,\u001b[0m \u001b[0msess\u001b[0m\u001b[0;34m.\u001b[0m\u001b[0mrun\u001b[0m\u001b[0;34m(\u001b[0m\u001b[0mscore\u001b[0m\u001b[0;34m)\u001b[0m\u001b[0;34m)\u001b[0m\u001b[0;34m\u001b[0m\u001b[0m\n\u001b[0m\u001b[1;32m     45\u001b[0m \u001b[0;34m\u001b[0m\u001b[0m\n\u001b[1;32m     46\u001b[0m     \u001b[0;31m# TODO\u001b[0m\u001b[0;34m\u001b[0m\u001b[0;34m\u001b[0m\u001b[0m\n",
      "\u001b[0;31mNameError\u001b[0m: name 'score' is not defined"
     ]
    }
   ],
   "source": [
    "# Initializing the variables\n",
    "init = tf.global_variables_initializer()\n",
    "# Create a summary to monitor cost tensor\n",
    "tf.summary.scalar(\"Loss_LeNet-5_SGD\", loss)\n",
    "# Create a summary to monitor accuracy tensor\n",
    "tf.summary.scalar(\"Accuracy_LeNet-5_SGD\", acc)\n",
    "# Merge all summaries into a single op\n",
    "merged_summary_op = tf.summary.merge_all()\n",
    "\n",
    "# Initializing the variables\n",
    "def train(init, sess, logs_path, n_epochs, batch_size, optimizer, loss, merged_summary_op):\n",
    "    # optimizer and cost are the same kinds of objects as in Section 1\n",
    "    # Train your model\n",
    "    saver = tf.train.Saver()\n",
    "    sess.run(init)\n",
    "    summary_writer = tf.summary.FileWriter(logs_path, graph=tf.get_default_graph())\n",
    "    \n",
    "    for epoch in range(n_epochs):\n",
    "        avg_cost = 0.\n",
    "        total_batch = int(mnist.train.num_examples/batch_size)\n",
    "        # Loop over all batches\n",
    "        for i in range(total_batch):\n",
    "            # shuffels at the start of each epoch\n",
    "            batch_xs, batch_ys = mnist.train.next_batch(batch_size, shuffle=(i==0))\n",
    "            # Run optimization op (backprop), cost op (to get loss value)\n",
    "            # and summary nodes\n",
    "            _, c, summary = sess.run([optimizer, loss, merged_summary_op],\n",
    "                                     feed_dict={x: batch_xs, y: batch_ys})\n",
    "            # Write logs at every iteration\n",
    "            summary_writer.add_summary(summary, epoch * total_batch + i)\n",
    "            # Compute average loss\n",
    "            avg_cost += c / total_batch\n",
    "        # \n",
    "        if (epoch+1) % display_step == 0:\n",
    "            val_acc = acc.eval({x: mnist.validation.images, y: mnist.validation.labels})\n",
    "            print(\"Epoch: \", '%02d' % (epoch+1), \"  =====> Loss: \", \"{:.7f}\".format(avg_cost), \n",
    "                  \"| Accuracy on validation data:\", \"{:.4f}\".format(val_acc))\n",
    "    print(\"Optimization Finished!\")\n",
    "    summary_writer.flush()\n",
    "    \n",
    "    # TODO Print after training the final testing accuracy \n",
    "    print(\"Final accuracy on test data:\", acc.eval({x: mnist.test.images, y: mnist.test.labels}))\n",
    "    \n",
    "    # TODO Model should be saved\n",
    "    saver.save(sess, 'SGD_MNIST_model')\n",
    "    \n",
    "start_time = time.time()\n",
    "with tf.Session() as sess:\n",
    "    train(init, sess, logs_path, training_epochs, batch_size, optimizer, loss, merged_summary_op)\n",
    "    print(\"--- %s seconds ---\" % (time.time() - start_time))"
   ]
  },
  {
   "cell_type": "markdown",
   "metadata": {},
   "source": [
    "<b> Question 2.1.6 </b> : Use TensorBoard to visualise and save loss and accuracy curves. \n",
    "You will save figures in the folder **\"lab_2/MNIST_figures\"** and display them in your notebook."
   ]
  },
  {
   "cell_type": "markdown",
   "metadata": {},
   "source": [
    "Please put your loss and accuracy curves here."
   ]
  },
  {
   "cell_type": "markdown",
   "metadata": {},
   "source": [
    "<b> Part 2 </b> : LeNET 5 Optimization"
   ]
  },
  {
   "cell_type": "markdown",
   "metadata": {},
   "source": [
    "\n",
    "<b> Question 2.2.1 </b>\n",
    "\n",
    "- Retrain your network with AdamOptimizer and then fill the table above:\n",
    "\n",
    "\n",
    "| Optimizer            |  Gradient Descent  |    AdamOptimizer    |\n",
    "|----------------------|--------------------|---------------------|\n",
    "| Testing Accuracy     |      97.41%        |        99.19%       |       \n",
    "| Training Time        |      114.67s       |        ???          |  \n",
    "\n",
    "- Which optimizer gives the best accuracy on test data?\n",
    "\n",
    "**Your answer:** <br>\n",
    "**NOTE:** All tests where run in Google Colabaratory to reduce running time by using GPUs. The code used was the exact same as used in this Notebook. <br>\n",
    "We ran 100 epochs on both tests. \n"
   ]
  },
  {
   "cell_type": "code",
   "execution_count": null,
   "metadata": {},
   "outputs": [],
   "source": [
    "tf.reset_default_graph()\n",
    "\n",
    "\n",
    "with tf.name_scope('ADAM'):\n",
    "    # Gradient Descent\n",
    "    optimizer = tf.train.AdamOptimizer(learning_rate).minimize(loss)\n",
    "    \n",
    "start_time = time.time()\n",
    "with tf.Session() as sess:\n",
    "    train(init, sess, logs_path, training_epochs, batch_size, optimizer, loss, merged_summary_op)\n",
    "    print(\"--- %s seconds ---\" % (time.time() - start_time))"
   ]
  },
  {
   "cell_type": "markdown",
   "metadata": {},
   "source": [
    "<b> Question 2.2.2</b> Try to add dropout (keep_prob = 0.75) before the first fully connected layer. You will use tf.nn.dropout for that purpose. What accuracy do you achieve on testing data?\n",
    "\n",
    "**Accuracy achieved on testing data:** ..."
   ]
  },
  {
   "cell_type": "code",
   "execution_count": null,
   "metadata": {},
   "outputs": [],
   "source": [
    "def LeNet5_Model_Dropout(image):    \n",
    "    # reshape the input for the first layer\n",
    "    x = tf.reshape(image, [-1, 28, 28, 1])\n",
    "    # layer 1\n",
    "    layer1 = conv2d_layer(input=x, num_input_channels=1, filter_size=5, num_filters=6)\n",
    "    layer1 = max_pool_2x2(layer1)\n",
    "    # layer 2\n",
    "    layer2 = conv2d_layer(input=layer1, num_input_channels=6, filter_size=5, num_filters=16)\n",
    "    layer2 = max_pool_2x2(layer2)\n",
    "    # flatten \n",
    "    flatten, number_features = flatten_layer(layer2)\n",
    "    #dropout\n",
    "    keep_prob = 0.75\n",
    "    drop_layer = tf.nn.dropout(flatten, keep_prob)\n",
    "    # layer 3 (fully connected)\n",
    "    layer3 = fully_connected(drop_layer, number_features, 120, use_relu=True)\n",
    "    # layer 4 (fully connected)\n",
    "    layer4 = fully_connected(layer3, 120, 84, use_relu=True)\n",
    "    # final layer\n",
    "    final = fully_connected(layer4, 84, 10, use_relu=False)\n",
    "    # return final output before softmax activation\n",
    "    return final\n",
    "\n",
    "tf.reset_default_graph()\n",
    "\n",
    "# Parameters\n",
    "learning_rate = 0.001\n",
    "training_epochs = 40\n",
    "batch_size = 128\n",
    "display_step = 1\n",
    "logs_path = 'log_files/'\n",
    "\n",
    "\n",
    "# tf Graph Input:  mnist data image of shape 28*28=784\n",
    "x = tf.placeholder(tf.float32, [None, 784], name='InputData')\n",
    "# 0-9 digits recognition,  10 classes\n",
    "y = tf.placeholder(tf.int64, [None, 10], name='LabelData')\n",
    "# Model, loss function and accuracy\n",
    "\n",
    "with tf.name_scope('Model'):\n",
    "    # Model\n",
    "    pred = LeNet5_Model(x)\n",
    "    \n",
    "with tf.name_scope('Loss'):\n",
    "    # Minimize error using cross entropy\n",
    "    # We use tf.clip_by_value to avoid having too low numbers in the log function\n",
    "    loss = tf.reduce_mean(tf.nn.softmax_cross_entropy_with_logits(labels=y, logits=pred))\n",
    "    \n",
    "with tf.name_scope('Accuracy'):\n",
    "    # Accuracy\n",
    "    acc = tf.equal(tf.argmax(pred, 1), tf.argmax(y, 1))\n",
    "    acc = tf.reduce_mean(tf.cast(acc, tf.float32))\n",
    "    \n",
    "with tf.name_scope('SGD'):\n",
    "    # Gradient Descent\n",
    "    optimizer = tf.train.GradientDescentOptimizer(learning_rate).minimize(loss)\n",
    "\n",
    "    \n",
    "# Initializing the variables\n",
    "init = tf.global_variables_initializer()\n",
    "# Create a summary to monitor cost tensor\n",
    "tf.summary.scalar(\"Loss_LeNet-5_SGD\", loss)\n",
    "# Create a summary to monitor accuracy tensor\n",
    "tf.summary.scalar(\"Accuracy_LeNet-5_SGD\", acc)\n",
    "# Merge all summaries into a single op\n",
    "merged_summary_op = tf.summary.merge_all()\n",
    "\n",
    "\n",
    "start_time = time.time()\n",
    "with tf.Session() as sess:\n",
    "    train(init, sess, logs_path, training_epochs, batch_size, optimizer, loss, merged_summary_op)\n",
    "    print(\"--- %s seconds ---\" % (time.time() - start_time))"
   ]
  }
 ],
 "metadata": {
  "anaconda-cloud": {},
  "kernelspec": {
   "display_name": "Python 3",
   "language": "python",
   "name": "python3"
  },
  "language_info": {
   "codemirror_mode": {
    "name": "ipython",
    "version": 3
   },
   "file_extension": ".py",
   "mimetype": "text/x-python",
   "name": "python",
   "nbconvert_exporter": "python",
   "pygments_lexer": "ipython3",
   "version": "3.5.2"
  },
  "widgets": {
   "state": {},
   "version": "1.1.2"
  }
 },
 "nbformat": 4,
 "nbformat_minor": 2
}
