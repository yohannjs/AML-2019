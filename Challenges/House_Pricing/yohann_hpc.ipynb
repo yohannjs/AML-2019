{
 "cells": [
  {
   "cell_type": "markdown",
   "metadata": {},
   "source": [
    "# Useful articles\n",
    "\n",
    "- [Dealing with categorical features](https://medium.com/hugo-ferreiras-blog/dealing-with-categorical-features-in-machine-learning-1bb70f07262d)\n",
    "\n",
    "- ['statsmodels' library](https://www.statsmodels.org/stable/index.html)\n",
    "\n",
    "- [some potentially useful packages](https://medium.com/activewizards-machine-learning-company/top-15-python-libraries-for-data-science-in-in-2017-ab61b4f9b4a7)\n",
    "\n",
    "- [other pot. useful packages](https://www.kdnuggets.com/2018/06/top-20-python-libraries-data-science-2018.html/2)\n",
    "\n",
    "- ['seaborn' library (visualization)](https://seaborn.pydata.org/tutorial.html)\n",
    "\n",
    "- [Nyttig eksempel](https://becominghuman.ai/linear-regression-in-python-with-pandas-scikit-learn-72574a2ec1a5)\n",
    "\n",
    "- [Eksempel med gradient boost regression på boston housing](https://scikit-learn.org/stable/auto_examples/ensemble/plot_gradient_boosting_regression.html#sphx-glr-auto-examples-ensemble-plot-gradient-boosting-regression-py)"
   ]
  },
  {
   "cell_type": "markdown",
   "metadata": {},
   "source": [
    "# Small tasks yet to be done\n",
    "\n",
    "Yohann\n",
    "- Legge inn skrivefeil-fiksing\n",
    "- Forklare hvorfor vi logtransformerer SalePrice\n",
    "- Skrive litt om hvorfor vi vurderer så mange ulike modeller, og kort forklaring på hvorfor de scorer som de gjør\n",
    "\n",
    "Eivind\n",
    "- Bytte på akser i performance plots (actual vs predicted)\n",
    "- Sammenligne GBR, XGB eller begge før, og etter HP optimalisering\n",
    "- Legge til bildetekst på performance plots med RMSE og legends (pluss endre farge, linje grønn prikker røde)\n",
    "- Legge inn alle referanser vi kommer på (sckitlearn for learning curve)\n",
    "- subplot med xgb etter preliminary results\n",
    "- Konklusjon\n",
    "- Innledning\n",
    "- Vedlegg\n",
    "- Sammendrag\n",
    "- Innholdsfortegnelse\n",
    "- Lese over"
   ]
  },
  {
   "cell_type": "markdown",
   "metadata": {},
   "source": [
    "### Declaring libraries"
   ]
  },
  {
   "cell_type": "code",
   "execution_count": 20,
   "metadata": {},
   "outputs": [],
   "source": [
    "%matplotlib inline\n",
    "# For configuration and jupiter\n",
    "import os\n",
    "import sys\n",
    "import re\n",
    "import random\n",
    "import matplotlib\n",
    "import implicit\n",
    "import warnings\n",
    "# For data manipulation and processing\n",
    "import pandas as pd\n",
    "import numpy as np\n",
    "from scipy import stats\n",
    "# For visualization\n",
    "import matplotlib.pyplot as plt\n",
    "import seaborn as sns\n",
    "# For performance evaluation\n",
    "from time import time\n",
    "from tqdm import tqdm\n",
    "\n",
    "os.environ[\"OPENBLAS_NUM_THREADS\"] = \"1\"   # Required by implicit\n",
    "base = \"/mnt/workspace/AML-2019/Challenges/House_Pricing/challenge_data/\"\n",
    "# Display\n",
    "pd.set_option('display.max_columns', None)\n",
    "warnings.filterwarnings('ignore')"
   ]
  },
  {
   "cell_type": "markdown",
   "metadata": {},
   "source": [
    "# Data exploration\n",
    "### Fetching data"
   ]
  },
  {
   "cell_type": "code",
   "execution_count": 21,
   "metadata": {},
   "outputs": [
    {
     "data": {
      "text/plain": [
       "PoolQC          1196\n",
       "MiscFeature     1153\n",
       "Alley           1125\n",
       "Fence            973\n",
       "FireplaceQu      564\n",
       "LotFrontage      210\n",
       "GarageType        67\n",
       "GarageCond        67\n",
       "GarageYrBlt       67\n",
       "GarageFinish      67\n",
       "GarageQual        67\n",
       "BsmtExposure      33\n",
       "BsmtFinType2      33\n",
       "BsmtFinType1      32\n",
       "BsmtCond          32\n",
       "BsmtQual          32\n",
       "MasVnrArea         6\n",
       "MasVnrType         6\n",
       "Exterior2nd        0\n",
       "Exterior1st        0\n",
       "dtype: int64"
      ]
     },
     "execution_count": 21,
     "metadata": {},
     "output_type": "execute_result"
    }
   ],
   "source": [
    "#pricesRawDF = pd.read_csv(base + 'train.csv', keep_default_na = False)\n",
    "pricesRawDF = pd.read_csv(base + 'train.csv')\n",
    "null_values = pricesRawDF.isnull().sum().sort_values(ascending = False)\n",
    "null_values[:20]\n",
    "#print(null_values.index)"
   ]
  },
  {
   "cell_type": "markdown",
   "metadata": {},
   "source": [
    "Notably many values missing in many of the columns. In the case all the categories this is because the category \"NA\" has been interpreted as NaN by the \"read_csv\" function. So first we correct for this. "
   ]
  },
  {
   "cell_type": "code",
   "execution_count": 22,
   "metadata": {},
   "outputs": [
    {
     "data": {
      "text/plain": [
       "False"
      ]
     },
     "execution_count": 22,
     "metadata": {},
     "output_type": "execute_result"
    }
   ],
   "source": [
    "columns_with_NaN = ['PoolQC', 'MiscFeature', 'Alley', 'Fence', 'FireplaceQu',\n",
    "       'GarageType', 'GarageCond', 'GarageFinish', 'GarageQual',\n",
    "       'BsmtExposure', 'BsmtFinType2', 'BsmtFinType1', 'BsmtCond', 'BsmtQual',\n",
    "       'MasVnrType']\n",
    "for col in columns_with_NaN:\n",
    "    pricesRawDF[col] = pricesRawDF[col].fillna('NA')\n",
    "\n",
    "pricesRawDF['MasVnrArea'] = pricesRawDF['MasVnrArea'].fillna(0)\n",
    "pricesRawDF['LotFrontage'] = pricesRawDF['LotFrontage'].fillna(0)\n",
    "pricesRawDF['GarageYrBlt'] = pricesRawDF['GarageYrBlt'].fillna(0)\n",
    "\n",
    "pricesRawDF.isnull().sum().any()"
   ]
  },
  {
   "cell_type": "markdown",
   "metadata": {},
   "source": [
    "## Reformatting data\n",
    "In a statistical model or machine learning model, it is much easier to use numerical data rather than categorical data. For categorical columns, we can either make them numerical directly or split them into individual boolean columns by one-hot encoding. Of the categorical columns in the dataset, we have chosen to one-hot encode som columns and make some numerical. First let us check if all the possible categories that a column can take, are represented in the data we have."
   ]
  },
  {
   "cell_type": "code",
   "execution_count": 23,
   "metadata": {},
   "outputs": [
    {
     "name": "stdout",
     "output_type": "stream",
     "text": [
      "('Id', 1200)\n",
      "('MSSubClass', 15)\n",
      "('MSZoning', 5)\n",
      "('LotFrontage', 107)\n",
      "('LotArea', 913)\n",
      "('Street', 2)\n",
      "('Alley', 3)\n",
      "('LotShape', 4)\n",
      "('LandContour', 4)\n",
      "('Utilities', 2)\n"
     ]
    }
   ],
   "source": [
    "# To check if number of unique elements in coloumn exceeds number of types in data description\n",
    "# Only useful for columns with categorical data \n",
    "nr_column_categories = []\n",
    "\n",
    "for column in pricesRawDF:\n",
    "    nr_column_categories.append((column, pricesRawDF[column].nunique()))\n",
    "\n",
    "for elements in nr_column_categories[:10]:\n",
    "    print(elements)"
   ]
  },
  {
   "cell_type": "markdown",
   "metadata": {},
   "source": [
    "After inspecting \"Data Description.rtf\" we can see that some of the columns containing categorical data do not contain all the possible categories. For example an element of the column \"MSSubClass\" can take 16 unique values but only 15 are represented. This means that transforming the values in categorical columns to numerical values, or one-hot-encoding will be a bit cumbersome. "
   ]
  },
  {
   "cell_type": "code",
   "execution_count": 24,
   "metadata": {},
   "outputs": [],
   "source": [
    "# Transforming the categories we want to be numeric, to numeric values\n",
    "from variables import cats_split, cats_num\n",
    "\n",
    "# The categories we want to split\n",
    "categorical_to_split = ['MSSubClass', 'MSZoning', 'Alley', 'LotConfig', 'Utilities',\n",
    "                       'Neighborhood', 'Condition1', 'Condition2', 'BldgType', 'HouseStyle',\n",
    "                       'RoofStyle', 'RoofMatl', 'Exterior1st', 'Exterior2nd', 'MasVnrType',\n",
    "                       'Foundation', 'Heating', 'Electrical', 'GarageType', 'PavedDrive', \n",
    "                       'MiscFeature', 'SaleType', 'SaleCondition']\n",
    "\n",
    "# Casting the type of all columns we want to one-hot-key to strings\n",
    "for cat in categorical_to_split:\n",
    "    pricesRawDF[cat] = pricesRawDF[cat].astype(str, errors = 'ignore')\n",
    "\n",
    "# Categories to make numerical\n",
    "categorical_to_make_numerical = ['Street', 'LotShape', 'LandContour', 'LandSlope', 'CentralAir',\n",
    "                                'ExterQual', 'ExterCond', 'BsmtQual', 'BsmtCond', 'BsmtExposure',\n",
    "                                'BsmtFinType1', 'BsmtFinType2', 'HeatingQC', 'KitchenQual',\n",
    "                                'Functional', 'FireplaceQu', 'GarageFinish', 'GarageQual', 'GarageCond',\n",
    "                                'PoolQC', 'Fence']\n",
    "# Cast remaining columns to int64\n",
    "remaining_columns = [name for name in pricesRawDF.columns if name not in (categorical_to_split + categorical_to_make_numerical)]\n",
    "for column in remaining_columns:\n",
    "    pricesRawDF[column] = pricesRawDF[column].astype(np.float64, errors = 'ignore')\n",
    "\n",
    "# Function to make desired columns numerical\n",
    "def numerize(rawDF, complete_mapping_dictionary):\n",
    "    DF = rawDF.copy()\n",
    "    errors = []\n",
    "    for mapping_dictionary in complete_mapping_dictionary:\n",
    "        # Fetching column name\n",
    "        col_name = mapping_dictionary['name']\n",
    "        # Fetching column\n",
    "        column_to_numerize = DF[col_name].copy()\n",
    "        # Creating columns of same size, and correct type\n",
    "        numerized_column = pd.Series(np.zeros([column_to_numerize.size]), dtype=np.int8, name=col_name)\n",
    "        # Resetting error_counter\n",
    "        error_counter = 0\n",
    "        # Looping through elements of column\n",
    "        for index, value in column_to_numerize.iteritems():\n",
    "            if (value in mapping_dictionary):\n",
    "                numerized_column.at[index] = mapping_dictionary[value]\n",
    "            else:\n",
    "                error_counter += 1\n",
    "        # Merging numerized column into dataframe\n",
    "        DF.drop(labels=col_name, axis=1, inplace=True)\n",
    "        DF[col_name] = numerized_column\n",
    "        # Appending errors to error vector\n",
    "        errors.append((col_name, error_counter))\n",
    "    return errors, DF\n",
    "\n",
    "# Function for one-hot-encoding a single column, given the column and its possible categories\n",
    "def split_and_filter(col_name, DF, categories):\n",
    "    # Extracting column to split\n",
    "    column_to_split = DF[col_name].copy()\n",
    "    # Setting new names for columns\n",
    "    new_col_names = [(col_name + '_' + category) for category in categories]\n",
    "    # Creating expanded DF of zeros\n",
    "    splitDF = pd.DataFrame(np.zeros([column_to_split.size,len(categories)], dtype = np.int8), columns = categories)\n",
    "    # Resetting error_counter\n",
    "    error_counter = 0\n",
    "    # Looping through series and setting correct values in new DF\n",
    "    for index, value in column_to_split.iteritems():\n",
    "        # Checking if the value is valid, i.e exists in the set of possible categories for one column\n",
    "        if (value in categories):\n",
    "            splitDF.at[index, value] = 1\n",
    "        else:\n",
    "            error_counter += 1\n",
    "    # Renaming columns of new dataframe\n",
    "    splitDF.columns = new_col_names\n",
    "    # Merging expansion of one column with full DataFrame\n",
    "    newDF = pd.merge(DF, splitDF, left_index=True, right_index=True)\n",
    "    # Dropping original column\n",
    "    newDF.drop([col_name], axis=1, inplace=True)\n",
    "    # Deleting unused dataframe and series to conserve memory\n",
    "    del splitDF\n",
    "    del column_to_split\n",
    "    return error_counter, newDF\n",
    "\n",
    "# Function to one-hot encode the entire dataframe given a dataframe and list of names for new columns\n",
    "def category_splitting(rawDF, list_of_categories):\n",
    "    first_err, newDF = split_and_filter(list_of_categories[0][0], rawDF, list_of_categories[0][1:])\n",
    "    errors = [(list_of_categories[0][0], first_err)]\n",
    "    for column_to_split in list_of_categories[1:]:\n",
    "        nth_err, newDF = split_and_filter(column_to_split[0], newDF, column_to_split[1:])\n",
    "        errors.append((column_to_split[0], nth_err))\n",
    "    return errors, newDF\n",
    "\n",
    "# Function to reformat a dataset to our desired format\n",
    "def reformat_dataset(rawDF):\n",
    "    num_errors, numerizedDF = numerize(rawDF, cats_num)\n",
    "    split_errors, reformattedDF = category_splitting(numerizedDF, cats_split)\n",
    "    errors = num_errors + split_errors\n",
    "    return errors, reformattedDF\n",
    "\n",
    "errors, rfmtDF = reformat_dataset(pricesRawDF)"
   ]
  },
  {
   "cell_type": "markdown",
   "metadata": {},
   "source": [
    "# Pre-processing \n",
    "## Error processing\n",
    "Apart from missing values, we found some errors when reformatting the categorical columns. Now let as look at what errors we have got."
   ]
  },
  {
   "cell_type": "code",
   "execution_count": 25,
   "metadata": {},
   "outputs": [
    {
     "name": "stdout",
     "output_type": "stream",
     "text": [
      "('BldgType', 106)\n",
      "('Exterior2nd', 85)\n",
      "('MasVnrType', 6)\n"
     ]
    }
   ],
   "source": [
    "for columns in errors:\n",
    "    if(columns[1] > 0):\n",
    "        print(columns)"
   ]
  },
  {
   "cell_type": "markdown",
   "metadata": {},
   "source": [
    "Here we can see that we have some errors. How we have classified \"errors\" in this sense, is that there has been an cell that did not contain one of the predefined elements in the \"Data description\" file. Now we inspect the values that give errors."
   ]
  },
  {
   "cell_type": "code",
   "execution_count": 26,
   "metadata": {},
   "outputs": [
    {
     "name": "stdout",
     "output_type": "stream",
     "text": [
      "Errors in BldgType\n",
      "{'2fmCon', 'Twnhs', 'Duplex'}\n",
      "Errors in Exterior2nd\n",
      "{'Brk Cmn', 'Wd Shng', 'CmentBd'}\n",
      "Errors in MasVnrType\n",
      "{'NA'}\n"
     ]
    }
   ],
   "source": [
    "from variables import error_detect # This is a dictionary with the columns where we have found errors. \n",
    "\n",
    "error_values = []\n",
    "for defect_col_name in error_detect:\n",
    "    err = []\n",
    "    defect_col = pricesRawDF[defect_col_name[0]]\n",
    "    categories = defect_col_name[1:]\n",
    "    for index, value in defect_col.iteritems():\n",
    "        if value not in categories:\n",
    "            err.append(value)\n",
    "    error_values.append(set(err))\n",
    "\n",
    "for index in range(len(error_values)):\n",
    "    print('Errors in', error_detect[index][0])\n",
    "    print(error_values[index])"
   ]
  },
  {
   "cell_type": "markdown",
   "metadata": {},
   "source": [
    "Now we can see that the errors are due to the following reasons:\n",
    "    \n",
    "* BldgType:  \n",
    " * Spelling error: \"2fmCon\" instead of \"2FmCon\"\n",
    " * Spelling error: \"Duplex\" instead of \"Duplx\"\n",
    " * Spelling error: Many elements have been spelled as \"Twnhs\". the problem now is that it is impossible to discern whether they have ment the category \"TwnhsI\" or \"TwnhsE\"\n",
    " * Correcting function (that fixes spelling errors and combines the two \"Twnhs\" categories to one)\n",
    "* Exterior2nd:  \n",
    " * Spelling error: \"Wd Shng\" instead of \"Wd Sdng\"\n",
    " * Spelling error: \"CmentBd\" instead of \"CemntBd\"\n",
    " * Spelling error: \"Brk Cmn\" instead of \"BrkComm\"\n",
    " * Correcting function\n",
    "* MasVnrType:  \n",
    " * Six elements where this category is not applicable\n",
    " * No correction is required, these values can remain zero."
   ]
  },
  {
   "cell_type": "code",
   "execution_count": 27,
   "metadata": {},
   "outputs": [
    {
     "name": "stdout",
     "output_type": "stream",
     "text": [
      "Nr. of errors corrected:  154\n"
     ]
    }
   ],
   "source": [
    "# Spelling-error-correcting function\n",
    "def correct_known_spelling_errors(rawDF, reformattedDF):\n",
    "    toReturnDF = reformattedDF.copy()\n",
    "    cols_to_correct = ['BldgType', 'Exterior2nd']\n",
    "    error_fix_count = 0\n",
    "    ################## BldgType\n",
    "    col = rawDF['BldgType']\n",
    "    for index, value in col.iteritems():\n",
    "        if value == '2fmCon':\n",
    "            toReturnDF.at[index, 'BldgType_2FmCon'] = 1\n",
    "            error_fix_count += 1\n",
    "        elif value == 'Duplex':\n",
    "            toReturnDF.at[index, 'BldgType_Duplx'] = 1\n",
    "            error_fix_count += 1\n",
    "     ################## Exterior2nd\n",
    "    col = rawDF['Exterior2nd']\n",
    "    for index, value in col.iteritems():\n",
    "        if value == 'Wd Shng':\n",
    "            toReturnDF.at[index, 'Exterior2nd_Wd Sdng'] = 1\n",
    "            error_fix_count += 1\n",
    "        elif value == 'CmentBd':\n",
    "            toReturnDF.at[index, 'Exterior2nd_CemntBd'] = 1\n",
    "            error_fix_count += 1\n",
    "        elif value == 'Brk Cmn':\n",
    "            toReturnDF.at[index, 'Exterior2nd_BrkComm'] = 1\n",
    "            error_fix_count += 1\n",
    "    print('Nr. of errors corrected: ', error_fix_count)\n",
    "    return toReturnDF\n",
    "\n",
    "rfmtDF = correct_known_spelling_errors(pricesRawDF, rfmtDF)"
   ]
  },
  {
   "cell_type": "code",
   "execution_count": 28,
   "metadata": {},
   "outputs": [
    {
     "name": "stdout",
     "output_type": "stream",
     "text": [
      "Nr. of errors corrected:  37\n"
     ]
    }
   ],
   "source": [
    "# Function to compensate for \"Twnhs\" spelling erorr\n",
    "def twnhs_combiner(rawDF, reformattedDF):\n",
    "    toReturnDF = reformattedDF.copy()\n",
    "    error_fix_count = 0\n",
    "    toReturnDF['BldgType_Twnhs'] = toReturnDF['BldgType_TwnhsI'] + toReturnDF['BldgType_TwnhsE']\n",
    "    toReturnDF.drop(['BldgType_TwnhsI', 'BldgType_TwnhsE'], axis=1, inplace=True)\n",
    "    BldgType_col = rawDF['BldgType']\n",
    "    for index, value in BldgType_col.iteritems():\n",
    "        if value == 'Twnhs':\n",
    "            toReturnDF.at[index, 'BldgType_Twnhs'] = 1 \n",
    "            error_fix_count += 1\n",
    "    print('Nr. of errors corrected: ', error_fix_count)\n",
    "    return toReturnDF\n",
    "\n",
    "correctedDF = twnhs_combiner(pricesRawDF, rfmtDF)"
   ]
  },
  {
   "cell_type": "markdown",
   "metadata": {},
   "source": [
    "## Error processing on test-data\n"
   ]
  },
  {
   "cell_type": "code",
   "execution_count": 29,
   "metadata": {},
   "outputs": [
    {
     "data": {
      "text/plain": [
       "PoolQC          257\n",
       "MiscFeature     253\n",
       "Alley           244\n",
       "Fence           206\n",
       "FireplaceQu     126\n",
       "LotFrontage      49\n",
       "GarageCond       14\n",
       "GarageType       14\n",
       "GarageYrBlt      14\n",
       "GarageFinish     14\n",
       "GarageQual       14\n",
       "BsmtExposure      5\n",
       "BsmtCond          5\n",
       "BsmtQual          5\n",
       "BsmtFinType1      5\n",
       "BsmtFinType2      5\n",
       "MasVnrArea        2\n",
       "MasVnrType        2\n",
       "Electrical        1\n",
       "LotConfig         0\n",
       "dtype: int64"
      ]
     },
     "execution_count": 29,
     "metadata": {},
     "output_type": "execute_result"
    }
   ],
   "source": [
    "testDataRawDF = pd.read_csv(base + 'test.csv')\n",
    "null_values = testDataRawDF.isnull().sum().sort_values(ascending = False)\n",
    "null_values[:20]"
   ]
  },
  {
   "cell_type": "markdown",
   "metadata": {},
   "source": [
    "Here we have all the same errors as before, with the exception of one \"NA\" in Electrical. But, this can be treated as the others"
   ]
  },
  {
   "cell_type": "code",
   "execution_count": 30,
   "metadata": {},
   "outputs": [
    {
     "data": {
      "text/plain": [
       "False"
      ]
     },
     "execution_count": 30,
     "metadata": {},
     "output_type": "execute_result"
    }
   ],
   "source": [
    "columns_with_NaN = ['PoolQC', 'MiscFeature', 'Alley', 'Fence', 'FireplaceQu',\n",
    "       'GarageType', 'GarageCond', 'GarageFinish', 'GarageQual',\n",
    "       'BsmtExposure', 'BsmtFinType2', 'BsmtFinType1', 'BsmtCond', 'BsmtQual',\n",
    "       'MasVnrType', 'Electrical']\n",
    "for col in columns_with_NaN:\n",
    "    testDataRawDF[col] = testDataRawDF[col].fillna('NA')\n",
    "\n",
    "testDataRawDF['MasVnrArea'] = testDataRawDF['MasVnrArea'].fillna(0)\n",
    "testDataRawDF['LotFrontage'] = testDataRawDF['LotFrontage'].fillna(0)\n",
    "testDataRawDF['GarageYrBlt'] = testDataRawDF['GarageYrBlt'].fillna(0)\n",
    "\n",
    "testDataRawDF.isnull().sum().any()"
   ]
  },
  {
   "cell_type": "code",
   "execution_count": 31,
   "metadata": {},
   "outputs": [
    {
     "name": "stdout",
     "output_type": "stream",
     "text": [
      "('BldgType', 20)\n",
      "('Exterior2nd', 20)\n",
      "('MasVnrType', 2)\n",
      "('Electrical', 1)\n"
     ]
    }
   ],
   "source": [
    "for cat in categorical_to_split:\n",
    "    testDataRawDF[cat] = testDataRawDF[cat].astype(str, errors = 'ignore')\n",
    "\n",
    "errors, rfmtTestDF = reformat_dataset(testDataRawDF)\n",
    "\n",
    "for columns in errors:\n",
    "    if(columns[1] > 0):\n",
    "        print(columns)"
   ]
  },
  {
   "cell_type": "code",
   "execution_count": 32,
   "metadata": {},
   "outputs": [
    {
     "name": "stdout",
     "output_type": "stream",
     "text": [
      "Nr. of errors corrected:  34\n",
      "Nr. of errors corrected:  6\n"
     ]
    }
   ],
   "source": [
    "rfmtTestDF = correct_known_spelling_errors(testDataRawDF, rfmtTestDF)\n",
    "correctedTestDF = twnhs_combiner(testDataRawDF, rfmtTestDF)"
   ]
  },
  {
   "cell_type": "markdown",
   "metadata": {},
   "source": [
    "## Feature combining"
   ]
  },
  {
   "cell_type": "code",
   "execution_count": 33,
   "metadata": {},
   "outputs": [],
   "source": [
    "correctedDF['HouseSF'] = correctedDF['TotalBsmtSF'] + correctedDF['1stFlrSF'] + correctedDF['2ndFlrSF']"
   ]
  },
  {
   "cell_type": "markdown",
   "metadata": {},
   "source": [
    "## Feature selection"
   ]
  },
  {
   "cell_type": "markdown",
   "metadata": {},
   "source": [
    "Many of the models we will be testing are linear models, or are made up of linear models. One of the basic assumptions in linear models is that the covariates that make up the design matrix are independant i.e. that the are not correlated. The higher the correlation between to covariates, the less \"new information\" they contribute with, and the more noise they add to the dataset. \n",
    "\n",
    "However, covariance is only a measure of linear dependance between to variables. For example, if one has two random variables $X$ and $Y$, and $Y$ is given by the equation below.\n",
    "\n",
    "\\begin{equation}\n",
    "Y = X^2\n",
    "\\end{equation}\n",
    "\n",
    "The correlation between $Y$ and $X$ will be zero, even though Y obviously is dependent of $X$. That is why it is risky to remove all parameters that are uncorrelated with SalePrice, because one risks loosing a lot of information. However, it is still expedient to remove coloumns that are highly correlated. "
   ]
  },
  {
   "cell_type": "code",
   "execution_count": 69,
   "metadata": {},
   "outputs": [
    {
     "name": "stdout",
     "output_type": "stream",
     "text": [
      "Nr. of cols removed = 43\n"
     ]
    }
   ],
   "source": [
    "def remove_correlated_cols(trainDF, testDF, corr_limit):\n",
    "    # Extract columns we need for comparisons\n",
    "    paramsDF = trainDF.copy()\n",
    "    toReturnTrainDF = trainDF.copy()\n",
    "    toReturnTestDF = testDF.copy()\n",
    "    paramsDF.drop(['Id', 'SalePrice'], axis=1, inplace=True)\n",
    "    priceCorr = trainDF.corr().abs()['SalePrice']\n",
    "    corrDF = paramsDF.corr(method=\"pearson\").abs()\n",
    "    \n",
    "    # Find index in covarience matrix of highly correlated columns \n",
    "    highly_correlated_columns = np.where(np.logical_and((corrDF > corr_limit),(corrDF < 1.0)))\n",
    "    \n",
    "    # Make lists and dataframes to check for redundancy\n",
    "    param_col_names = corrDF.columns\n",
    "    redundant_cols = []\n",
    "    correlatd_cols = []\n",
    "    \n",
    "    # Loop through list of indexes and check remove redundant pairs\n",
    "    for index in range(len(highly_correlated_columns[0])):\n",
    "        # Find column names from index\n",
    "        col_name1 = param_col_names[highly_correlated_columns[0][index]]\n",
    "        col_name2 = param_col_names[highly_correlated_columns[1][index]]\n",
    "        # Check if the pair is redundant\n",
    "        if (col_name1 not in redundant_cols) and (col_name2 not in redundant_cols):\n",
    "            # Find correlation of new pair\n",
    "            correlation = corrDF.iloc[highly_correlated_columns[0][index]][col_name2]\n",
    "            # Append pair to relevant lists/dataframes\n",
    "            correlatd_cols.append([col_name1, col_name2, correlation])\n",
    "            redundant_cols.append(col_name1)\n",
    "            redundant_cols.append(col_name2)\n",
    "        \n",
    "    \n",
    "    # Check which of the highly correlated columns to remove, by removing the one with lowest correlation with SalePrice\n",
    "    cols_to_remove = []\n",
    "    for row in correlatd_cols:\n",
    "        correlation1 = priceCorr[row[0]]\n",
    "        correlation2 = priceCorr[row[1]]\n",
    "        if correlation1 > correlation2:\n",
    "            cols_to_remove.append(row[1])\n",
    "        else:\n",
    "            cols_to_remove.append(row[0])\n",
    "    # Drop respective columns from training and test data\n",
    "    toReturnTrainDF.drop(cols_to_remove, axis=1, inplace=True)\n",
    "    toReturnTestDF.drop(cols_to_remove, axis=1, inplace=True)\n",
    "    return toReturnTrainDF, toReturnTestDF\n",
    "\n",
    "featureReducedTrainDF, featureReducedTestDF = remove_correlated_cols(correctedDF, correctedTestDF, 0.7)\n",
    "print('Nr. of cols removed = %i' %(correctedDF.shape[1] - featureReducedTrainDF.shape[1]))"
   ]
  },
  {
   "cell_type": "markdown",
   "metadata": {},
   "source": [
    "## Visualization"
   ]
  },
  {
   "cell_type": "code",
   "execution_count": 41,
   "metadata": {},
   "outputs": [
    {
     "data": {
      "image/png": "[encoded data removed]",
      "text/plain": [
       "<Figure size 936x720 with 6 Axes>"
      ]
     },
     "metadata": {},
     "output_type": "display_data"
    }
   ],
   "source": [
    "toPlot = correctedDF[['OverallQual','GrLivArea','ExterQual','KitchenQual','TotalBsmtSF','GarageCars','SalePrice']].copy()\n",
    "\n",
    "plt.figure(figsize=(13,10))\n",
    "plt.subplot(321)\n",
    "sns.boxplot(data=correctedDF, x='OverallQual', y='SalePrice')\n",
    "plt.grid()\n",
    "\n",
    "plt.subplot(322)\n",
    "sns.scatterplot(data=correctedDF, x='GrLivArea', y='SalePrice')\n",
    "plt.grid()\n",
    "\n",
    "plt.subplot(323)\n",
    "sns.boxplot(data=correctedDF, x='ExterQual', y='SalePrice')\n",
    "plt.grid()\n",
    "\n",
    "plt.subplot(324)\n",
    "sns.boxplot(data=correctedDF, x='KitchenQual', y='SalePrice')\n",
    "plt.grid()\n",
    "\n",
    "plt.subplot(325)\n",
    "sns.scatterplot(data=correctedDF, x='TotalBsmtSF', y='SalePrice')\n",
    "plt.grid()\n",
    "\n",
    "plt.subplot(326)\n",
    "sns.boxplot(data=correctedDF, x='GarageCars', y='SalePrice')\n",
    "plt.grid()"
   ]
  },
  {
   "cell_type": "markdown",
   "metadata": {},
   "source": [
    "Common for all the factors we are looking at here, is that the variance in SalePrice increases as each factor increases. With exception of GarageCars, which is unexpected. Here the mean, and deviation in SalePrice drops drasticly as GarageCars increases from three to four. We will inspect that more closely later. \n",
    "\n",
    "We may also have identified som outliers, particularily the single element which has GrLivArea > 4000 square feet, but a SalePrice below 200000 USD. In addition there are two elements with TotalBsmtSF > 3000 square feet and SalePrice < 300000 USD. "
   ]
  },
  {
   "cell_type": "code",
   "execution_count": 49,
   "metadata": {},
   "outputs": [
    {
     "data": {
      "text/plain": [
       "GarageCars\n",
       "0.0     67\n",
       "1.0    303\n",
       "2.0    680\n",
       "3.0    147\n",
       "4.0      3\n",
       "Name: SalePrice, dtype: int64"
      ]
     },
     "execution_count": 49,
     "metadata": {},
     "output_type": "execute_result"
    }
   ],
   "source": [
    "pricesRawDF.groupby('GarageCars').count()['SalePrice']"
   ]
  },
  {
   "cell_type": "markdown",
   "metadata": {},
   "source": [
    "Here we see that there are only three elements with GaraCars equal to 4, so that is probably the reason for the unexpected drop in the SalePrice."
   ]
  },
  {
   "cell_type": "code",
   "execution_count": null,
   "metadata": {},
   "outputs": [],
   "source": []
  }
 ],
 "metadata": {
  "kernelspec": {
   "display_name": "Python 3",
   "language": "python",
   "name": "python3"
  },
  "language_info": {
   "codemirror_mode": {
    "name": "ipython",
    "version": 3
   },
   "file_extension": ".py",
   "mimetype": "text/x-python",
   "name": "python",
   "nbconvert_exporter": "python",
   "pygments_lexer": "ipython3",
   "version": "3.5.2"
  }
 },
 "nbformat": 4,
 "nbformat_minor": 2
}
