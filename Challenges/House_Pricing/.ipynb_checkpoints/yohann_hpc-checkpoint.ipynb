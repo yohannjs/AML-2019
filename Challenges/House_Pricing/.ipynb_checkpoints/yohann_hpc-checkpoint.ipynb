{
 "cells": [
  {
   "cell_type": "markdown",
   "metadata": {},
   "source": [
    "<b>AML2019</b>"
   ]
  },
  {
   "cell_type": "markdown",
   "metadata": {},
   "source": [
    "## Useful articles\n",
    "\n",
    "- [Dealing with categorical features](https://medium.com/hugo-ferreiras-blog/dealing-with-categorical-features-in-machine-learning-1bb70f07262d)\n",
    "\n",
    "- ['statsmodels' library](https://www.statsmodels.org/stable/index.html)\n",
    "\n",
    "- [some potentially useful packages](https://medium.com/activewizards-machine-learning-company/top-15-python-libraries-for-data-science-in-in-2017-ab61b4f9b4a7)\n",
    "\n",
    "- [other pot. useful packages](https://www.kdnuggets.com/2018/06/top-20-python-libraries-data-science-2018.html/2)\n",
    "\n",
    "- ['seaborn' library (visualization)](https://seaborn.pydata.org/tutorial.html)\n",
    "\n",
    "- [Nyttig eksempel](https://becominghuman.ai/linear-regression-in-python-with-pandas-scikit-learn-72574a2ec1a5)"
   ]
  },
  {
   "cell_type": "markdown",
   "metadata": {},
   "source": [
    "## Declaring libraries and importing data"
   ]
  },
  {
   "cell_type": "code",
   "execution_count": 1,
   "metadata": {},
   "outputs": [
    {
     "data": {
      "text/html": [
       "<div>\n",
       "<style scoped>\n",
       "    .dataframe tbody tr th:only-of-type {\n",
       "        vertical-align: middle;\n",
       "    }\n",
       "\n",
       "    .dataframe tbody tr th {\n",
       "        vertical-align: top;\n",
       "    }\n",
       "\n",
       "    .dataframe thead th {\n",
       "        text-align: right;\n",
       "    }\n",
       "</style>\n",
       "<table border=\"1\" class=\"dataframe\">\n",
       "  <thead>\n",
       "    <tr style=\"text-align: right;\">\n",
       "      <th></th>\n",
       "      <th>Id</th>\n",
       "      <th>MSSubClass</th>\n",
       "      <th>MSZoning</th>\n",
       "      <th>LotFrontage</th>\n",
       "      <th>LotArea</th>\n",
       "      <th>Street</th>\n",
       "      <th>Alley</th>\n",
       "      <th>LotShape</th>\n",
       "      <th>LandContour</th>\n",
       "      <th>Utilities</th>\n",
       "      <th>...</th>\n",
       "      <th>PoolArea</th>\n",
       "      <th>PoolQC</th>\n",
       "      <th>Fence</th>\n",
       "      <th>MiscFeature</th>\n",
       "      <th>MiscVal</th>\n",
       "      <th>MoSold</th>\n",
       "      <th>YrSold</th>\n",
       "      <th>SaleType</th>\n",
       "      <th>SaleCondition</th>\n",
       "      <th>SalePrice</th>\n",
       "    </tr>\n",
       "  </thead>\n",
       "  <tbody>\n",
       "    <tr>\n",
       "      <th>20</th>\n",
       "      <td>21</td>\n",
       "      <td>60</td>\n",
       "      <td>RL</td>\n",
       "      <td>101</td>\n",
       "      <td>14215</td>\n",
       "      <td>Pave</td>\n",
       "      <td>NA</td>\n",
       "      <td>IR1</td>\n",
       "      <td>Lvl</td>\n",
       "      <td>AllPub</td>\n",
       "      <td>...</td>\n",
       "      <td>0</td>\n",
       "      <td>NA</td>\n",
       "      <td>NA</td>\n",
       "      <td>NA</td>\n",
       "      <td>0</td>\n",
       "      <td>11</td>\n",
       "      <td>2006</td>\n",
       "      <td>New</td>\n",
       "      <td>Partial</td>\n",
       "      <td>325300</td>\n",
       "    </tr>\n",
       "    <tr>\n",
       "      <th>21</th>\n",
       "      <td>22</td>\n",
       "      <td>45</td>\n",
       "      <td>RM</td>\n",
       "      <td>57</td>\n",
       "      <td>7449</td>\n",
       "      <td>Pave</td>\n",
       "      <td>Grvl</td>\n",
       "      <td>Reg</td>\n",
       "      <td>Bnk</td>\n",
       "      <td>AllPub</td>\n",
       "      <td>...</td>\n",
       "      <td>0</td>\n",
       "      <td>NA</td>\n",
       "      <td>GdPrv</td>\n",
       "      <td>NA</td>\n",
       "      <td>0</td>\n",
       "      <td>6</td>\n",
       "      <td>2007</td>\n",
       "      <td>WD</td>\n",
       "      <td>Normal</td>\n",
       "      <td>139400</td>\n",
       "    </tr>\n",
       "    <tr>\n",
       "      <th>22</th>\n",
       "      <td>23</td>\n",
       "      <td>20</td>\n",
       "      <td>RL</td>\n",
       "      <td>75</td>\n",
       "      <td>9742</td>\n",
       "      <td>Pave</td>\n",
       "      <td>NA</td>\n",
       "      <td>Reg</td>\n",
       "      <td>Lvl</td>\n",
       "      <td>AllPub</td>\n",
       "      <td>...</td>\n",
       "      <td>0</td>\n",
       "      <td>NA</td>\n",
       "      <td>NA</td>\n",
       "      <td>NA</td>\n",
       "      <td>0</td>\n",
       "      <td>9</td>\n",
       "      <td>2008</td>\n",
       "      <td>WD</td>\n",
       "      <td>Normal</td>\n",
       "      <td>230000</td>\n",
       "    </tr>\n",
       "    <tr>\n",
       "      <th>23</th>\n",
       "      <td>24</td>\n",
       "      <td>120</td>\n",
       "      <td>RM</td>\n",
       "      <td>44</td>\n",
       "      <td>4224</td>\n",
       "      <td>Pave</td>\n",
       "      <td>NA</td>\n",
       "      <td>Reg</td>\n",
       "      <td>Lvl</td>\n",
       "      <td>AllPub</td>\n",
       "      <td>...</td>\n",
       "      <td>0</td>\n",
       "      <td>NA</td>\n",
       "      <td>NA</td>\n",
       "      <td>NA</td>\n",
       "      <td>0</td>\n",
       "      <td>6</td>\n",
       "      <td>2007</td>\n",
       "      <td>WD</td>\n",
       "      <td>Normal</td>\n",
       "      <td>129900</td>\n",
       "    </tr>\n",
       "    <tr>\n",
       "      <th>24</th>\n",
       "      <td>25</td>\n",
       "      <td>20</td>\n",
       "      <td>RL</td>\n",
       "      <td>NA</td>\n",
       "      <td>8246</td>\n",
       "      <td>Pave</td>\n",
       "      <td>NA</td>\n",
       "      <td>IR1</td>\n",
       "      <td>Lvl</td>\n",
       "      <td>AllPub</td>\n",
       "      <td>...</td>\n",
       "      <td>0</td>\n",
       "      <td>NA</td>\n",
       "      <td>MnPrv</td>\n",
       "      <td>NA</td>\n",
       "      <td>0</td>\n",
       "      <td>5</td>\n",
       "      <td>2010</td>\n",
       "      <td>WD</td>\n",
       "      <td>Normal</td>\n",
       "      <td>154000</td>\n",
       "    </tr>\n",
       "  </tbody>\n",
       "</table>\n",
       "<p>5 rows × 81 columns</p>\n",
       "</div>"
      ],
      "text/plain": [
       "    Id  MSSubClass MSZoning LotFrontage  LotArea Street Alley LotShape  \\\n",
       "20  21          60       RL         101    14215   Pave    NA      IR1   \n",
       "21  22          45       RM          57     7449   Pave  Grvl      Reg   \n",
       "22  23          20       RL          75     9742   Pave    NA      Reg   \n",
       "23  24         120       RM          44     4224   Pave    NA      Reg   \n",
       "24  25          20       RL          NA     8246   Pave    NA      IR1   \n",
       "\n",
       "   LandContour Utilities    ...     PoolArea PoolQC  Fence MiscFeature  \\\n",
       "20         Lvl    AllPub    ...            0     NA     NA          NA   \n",
       "21         Bnk    AllPub    ...            0     NA  GdPrv          NA   \n",
       "22         Lvl    AllPub    ...            0     NA     NA          NA   \n",
       "23         Lvl    AllPub    ...            0     NA     NA          NA   \n",
       "24         Lvl    AllPub    ...            0     NA  MnPrv          NA   \n",
       "\n",
       "   MiscVal MoSold YrSold  SaleType  SaleCondition  SalePrice  \n",
       "20       0     11   2006       New        Partial     325300  \n",
       "21       0      6   2007        WD         Normal     139400  \n",
       "22       0      9   2008        WD         Normal     230000  \n",
       "23       0      6   2007        WD         Normal     129900  \n",
       "24       0      5   2010        WD         Normal     154000  \n",
       "\n",
       "[5 rows x 81 columns]"
      ]
     },
     "execution_count": 1,
     "metadata": {},
     "output_type": "execute_result"
    }
   ],
   "source": [
    "%matplotlib inline\n",
    "# For configuration and jupiter\n",
    "import os\n",
    "import sys\n",
    "import re\n",
    "import random\n",
    "import matplotlib\n",
    "import implicit\n",
    "# For data manipulation\n",
    "import pandas as pd\n",
    "import numpy as np\n",
    "# For visualization\n",
    "import matplotlib.pyplot as plt\n",
    "import seaborn as sns\n",
    "# For performance evaluation\n",
    "from time import time\n",
    "\n",
    "os.environ[\"OPENBLAS_NUM_THREADS\"] = \"1\"   # Required by implicit\n",
    "base = \"/mnt/workspace/AML-2019/Challenges/House_Pricing/challenge_data/\"\n",
    "\n",
    "pricesRawDF = pd.read_csv(base + 'train.csv', keep_default_na = False)\n",
    "#pricesRawDF['Alley'] = pricesRawDF['Alley'].astype(str, errors='ignore')\n",
    "pricesRawDF[20:25]"
   ]
  },
  {
   "cell_type": "markdown",
   "metadata": {},
   "source": [
    "## Data cleaning"
   ]
  },
  {
   "cell_type": "code",
   "execution_count": 2,
   "metadata": {},
   "outputs": [
    {
     "name": "stdout",
     "output_type": "stream",
     "text": [
      "('Id', 1200)\n",
      "('MSSubClass', 15)\n",
      "('MSZoning', 5)\n",
      "('LotFrontage', 107)\n",
      "('LotArea', 913)\n",
      "('Street', 2)\n",
      "('Alley', 3)\n",
      "('LotShape', 4)\n",
      "('LandContour', 4)\n",
      "('Utilities', 2)\n"
     ]
    }
   ],
   "source": [
    "# To check if number of unique elements in coloumn exceeds number of types in data description\n",
    "# Only useful for columns with categorical data \n",
    "nr_column_categories = []\n",
    "\n",
    "for column in pricesRawDF:\n",
    "    nr_column_categories.append((column, pricesRawDF[column].nunique()))\n",
    "\n",
    "for elements in nr_column_categories[:10]:\n",
    "    print(elements)"
   ]
  },
  {
   "cell_type": "markdown",
   "metadata": {},
   "source": [
    "What is worth noting here is that in some of the columns containing categorical data, not all the different categories are represented. For example the an element of the column \"MSSubClass\" can take 16 unique values based upon the its description in \"Data Description.rtf\". This means that transforming the values in categorical columns to numerical values, or one-hot-encoding will be a bit cumbersome. "
   ]
  },
  {
   "cell_type": "code",
   "execution_count": 3,
   "metadata": {},
   "outputs": [
    {
     "data": {
      "text/plain": [
       "False"
      ]
     },
     "execution_count": 3,
     "metadata": {},
     "output_type": "execute_result"
    }
   ],
   "source": [
    "# To check if there are any elements missing in a certain column\n",
    "pricesRawDF.isnull().values.any()\n",
    "# True if keep_default_na = True\n",
    "# False if keep_default_na = False"
   ]
  },
  {
   "cell_type": "code",
   "execution_count": 5,
   "metadata": {},
   "outputs": [
    {
     "data": {
      "text/html": [
       "<div>\n",
       "<style scoped>\n",
       "    .dataframe tbody tr th:only-of-type {\n",
       "        vertical-align: middle;\n",
       "    }\n",
       "\n",
       "    .dataframe tbody tr th {\n",
       "        vertical-align: top;\n",
       "    }\n",
       "\n",
       "    .dataframe thead th {\n",
       "        text-align: right;\n",
       "    }\n",
       "</style>\n",
       "<table border=\"1\" class=\"dataframe\">\n",
       "  <thead>\n",
       "    <tr style=\"text-align: right;\">\n",
       "      <th></th>\n",
       "      <th>MSSubClass</th>\n",
       "      <th>MSZoning</th>\n",
       "    </tr>\n",
       "  </thead>\n",
       "  <tbody>\n",
       "    <tr>\n",
       "      <th>0</th>\n",
       "      <td>60</td>\n",
       "      <td>RL</td>\n",
       "    </tr>\n",
       "    <tr>\n",
       "      <th>1</th>\n",
       "      <td>20</td>\n",
       "      <td>RL</td>\n",
       "    </tr>\n",
       "    <tr>\n",
       "      <th>2</th>\n",
       "      <td>60</td>\n",
       "      <td>RL</td>\n",
       "    </tr>\n",
       "    <tr>\n",
       "      <th>3</th>\n",
       "      <td>70</td>\n",
       "      <td>RL</td>\n",
       "    </tr>\n",
       "    <tr>\n",
       "      <th>4</th>\n",
       "      <td>60</td>\n",
       "      <td>RL</td>\n",
       "    </tr>\n",
       "  </tbody>\n",
       "</table>\n",
       "</div>"
      ],
      "text/plain": [
       "   MSSubClass MSZoning\n",
       "0          60       RL\n",
       "1          20       RL\n",
       "2          60       RL\n",
       "3          70       RL\n",
       "4          60       RL"
      ]
     },
     "execution_count": 5,
     "metadata": {},
     "output_type": "execute_result"
    }
   ],
   "source": [
    "# Trying to plot histograms of individual data columns to find the distribution of \n",
    "# of data with respect to specific coloumns. Such that we possibly can eliminate outliers \n",
    "pricesRaw1_5DF = pricesRawDF.iloc[:,1:3]\n",
    "pricesRaw1_5DF[:5]\n",
    "\n",
    "#plt.tight_layout\n"
   ]
  },
  {
   "cell_type": "code",
   "execution_count": 21,
   "metadata": {},
   "outputs": [
    {
     "data": {
      "text/plain": [
       "'for col_name in categorical_to_make_numerical:\\n    col = pricesNumericalDF[col_name]\\n    pricesNumericalDF[col_name] = LabelEncoder().fit_transform(col)'"
      ]
     },
     "execution_count": 21,
     "metadata": {},
     "output_type": "execute_result"
    }
   ],
   "source": [
    "# Transforming the categories we want to be numeric, to numeric values\n",
    "from sklearn.preprocessing import LabelEncoder\n",
    "from variables import * # cats_split and cats_num\n",
    "\n",
    "categorical_to_make_numerical = ['Street', 'LotShape', 'LandContour', 'LandSlope', 'CentralAir',\n",
    "                                'ExterQual', 'ExterCond', 'BsmtQual', 'BsmtCond', 'BsmtExposure',\n",
    "                                'BsmtFinType1', 'BsmtFinType2', 'HeatingQC', 'KitchenQual',\n",
    "                                'Functional', 'FireplaceQu', 'GarageFinish', 'GarageQual', 'GarageCond',\n",
    "                                'PoolQC', 'Fence']\n",
    "\n",
    "# First we transform all the categories in the coloumns we want to make numerical\n",
    "numDF = pricesRawDF.copy()\n",
    "for category in cats_num:\n",
    "    # Fetching column name\n",
    "    col_name = category['name']\n",
    "    # Fetching column\n",
    "    coloumn_to_numerize = numDF[col_name]\n",
    "    # DEtte er en endring\n",
    "    \n"
   ]
  },
  {
   "cell_type": "code",
   "execution_count": 9,
   "metadata": {},
   "outputs": [
    {
     "name": "stdout",
     "output_type": "stream",
     "text": [
      "Index(['Id', 'LotFrontage', 'LotArea', 'Street', 'LotShape', 'LandContour',\n",
      "       'LandSlope', 'OverallQual', 'OverallCond', 'YearBuilt',\n",
      "       ...\n",
      "       'SaleType_ConLw', 'SaleType_ConLI', 'SaleType_ConLD', 'SaleType_Oth',\n",
      "       'SaleCondition_Normal', 'SaleCondition_Abnorml',\n",
      "       'SaleCondition_AdjLand', 'SaleCondition_Alloca', 'SaleCondition_Family',\n",
      "       'SaleCondition_Partial'],\n",
      "      dtype='object', length=252)\n"
     ]
    }
   ],
   "source": [
    "from variables import * # cats_split\n",
    "# One-hot-encoding the categories we want to split\n",
    "categorical_to_split = ['MSSubClass', 'MSZoning', 'Alley', 'LotConfig', 'Utilities',\n",
    "                       'Neighborhood', 'Condition1', 'Condition2', 'BldgType', 'HouseStyle',\n",
    "                       'RoofStyle', 'RoofMatl', 'Exterior1st', 'Exterior2nd', 'MasVnrType',\n",
    "                       'Foundation', 'Heating', 'Electrical', 'GarageType', 'PavedDrive', \n",
    "                       'MiscFeature', 'SaleType', 'SaleCondition']\n",
    "\n",
    "# Casting the type of all columns we want to one-hot-key to strings\n",
    "for cat in categorical_to_split:\n",
    "    pricesRawDF[cat] = pricesRawDF[cat].astype(str, errors = 'ignore')\n",
    "    \n",
    "#pricesRawDF.dtypes\n",
    "\n",
    "# Test function for one-hot-encoding given the possible categories of each column\n",
    "colu_name = 'MSSubClass'\n",
    "cat = ['20','30','40','45','50','60','70','75','80','85', '90', '120', '150', '160', '180', '190']\n",
    "\n",
    "def split_and_filter(col_name, DF, categories):\n",
    "    # Extracting column to split\n",
    "    column_to_split = DF[col_name].copy()\n",
    "    # Setting new names for columns\n",
    "    new_col_names = [(col_name + '_' + category) for category in categories]\n",
    "    # Creating expanded DF of zeros\n",
    "    splitDF = pd.DataFrame(np.zeros([column_to_split.size,len(categories)], dtype = np.int8), columns = categories)\n",
    "    # Looping through series and setting correct values in new DF\n",
    "    for ind, val in column_to_split.iteritems():\n",
    "        # Checking if the value is valid, i.e exists in the set of possible categories for one column\n",
    "        if (val in categories):\n",
    "            splitDF.at[ind, val] = 1\n",
    "\n",
    "    # Renaming columns of new dataframe\n",
    "    splitDF.columns = new_col_names\n",
    "    '''# Following two lines used for debugging\n",
    "    newColDF = pd.merge(col.to_frame(), splitDF, left_index=True, right_index=True)\n",
    "    print(newColDF[:5])'''\n",
    "    # Merging expansion of one column with full DataFrame\n",
    "    newDF = pd.merge(DF, splitDF, left_index=True, right_index=True)\n",
    "    # Dropping original column\n",
    "    newDF.drop([col_name], axis=1, inplace=True)\n",
    "    # Deleting unused dataframe and series to conserve memory\n",
    "    del splitDF\n",
    "    del column_to_split\n",
    "    return newDF\n",
    "\n",
    "def category_splitting(rawDF, list_of_categories):\n",
    "    newDF = split_and_filter(list_of_categories[0][0], rawDF, list_of_categories[0][1:])\n",
    "    for column_to_split in list_of_categories[1:]:\n",
    "        newDF = split_and_filter(column_to_split[0], newDF, column_to_split[1:])\n",
    "    return newDF\n",
    "\n",
    "categorizedDF = category_splitting(pricesRawDF, cats_split)\n",
    "print(categorizedDF.columns)\n"
   ]
  },
  {
   "cell_type": "code",
   "execution_count": null,
   "metadata": {},
   "outputs": [],
   "source": []
  },
  {
   "cell_type": "markdown",
   "metadata": {},
   "source": [
    "## Playing around with seaborn"
   ]
  },
  {
   "cell_type": "code",
   "execution_count": 9,
   "metadata": {},
   "outputs": [
    {
     "data": {
      "image/png": "[encoded data removed]",
      "text/plain": [
       "<Figure size 360x360 with 1 Axes>"
      ]
     },
     "metadata": {},
     "output_type": "display_data"
    }
   ],
   "source": [
    "sns.catplot(x=\"MoSold\", y=\"SalePrice\", data=pricesRawDF);"
   ]
  },
  {
   "cell_type": "code",
   "execution_count": 11,
   "metadata": {},
   "outputs": [
    {
     "data": {
      "image/png": "[encoded data removed]",
      "text/plain": [
       "<Figure size 420.125x360 with 1 Axes>"
      ]
     },
     "metadata": {},
     "output_type": "display_data"
    }
   ],
   "source": [
    "sns.catplot(x=\"SalePrice\", y=\"SaleCondition\", hue=\"Street\",\n",
    "            kind=\"violin\", data=pricesRawDF);"
   ]
  },
  {
   "cell_type": "code",
   "execution_count": null,
   "metadata": {},
   "outputs": [],
   "source": []
  },
  {
   "cell_type": "code",
   "execution_count": null,
   "metadata": {},
   "outputs": [],
   "source": []
  }
 ],
 "metadata": {
  "kernelspec": {
   "display_name": "Python 3",
   "language": "python",
   "name": "python3"
  },
  "language_info": {
   "codemirror_mode": {
    "name": "ipython",
    "version": 3
   },
   "file_extension": ".py",
   "mimetype": "text/x-python",
   "name": "python",
   "nbconvert_exporter": "python",
   "pygments_lexer": "ipython3",
   "version": "3.5.2"
  }
 },
 "nbformat": 4,
 "nbformat_minor": 2
}
