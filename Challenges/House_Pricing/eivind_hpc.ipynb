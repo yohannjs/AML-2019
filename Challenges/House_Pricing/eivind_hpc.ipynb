{
 "cells": [
  {
   "cell_type": "markdown",
   "metadata": {},
   "source": [
    "<b>AML2019</b>"
   ]
  },
  {
   "cell_type": "markdown",
   "metadata": {},
   "source": [
    "<h3>Challenge 1</h3>\n",
    "<h1>House Pricing Prediction</h1>\n",
    "<hr style=\"height:2px;border:none;color:#333;background-color:#333;\"/>\n",
    "<i>22<sup>th</sup> March 2019</i>"
   ]
  },
  {
   "cell_type": "markdown",
   "metadata": {},
   "source": [
    "The first AML challenge for this year is adapted from the well-known '<i>Zillow's Home Value Prediction</i>' competition on Kaggle.\n",
    "In particular, given a dataset containing descriptions of homes on the US property market, your task is to make predictions on the selling price of as-yet unlisted properties. \n",
    "Developing a model which accurately fits the available training data while also generalising to unseen data-points is a multi-faceted challenge that involves a mixture of data exploration, pre-processing, model selection, and performance evaluation."
   ]
  },
  {
   "cell_type": "markdown",
   "metadata": {},
   "source": [
    "# Overview\n",
    "<hr style=\"height:1px;border:none;color:#333;background-color:#333;\" />    "
   ]
  },
  {
   "cell_type": "markdown",
   "metadata": {},
   "source": [
    "Beyond simply producing a well-performing model for making predictions, in this challenge we would like you to start developing your skills as a machine learning scientist.\n",
    "In this regard, your notebook should be structured in such a way as to explore the five following tasks that are expected to be carried out whenever undertaking such a project.\n",
    "The description below each aspect should serve as a guide for your work, but you are strongly encouraged to also explore alternative options and directions. \n",
    "Thinking outside the box will always be rewarded in these challenges."
   ]
  },
  {
   "cell_type": "markdown",
   "metadata": {},
   "source": [
    "<div class=\"\">\n",
    "    <h3>1. Data Exploration</h3>\n",
    "</div>"
   ]
  },
  {
   "cell_type": "markdown",
   "metadata": {},
   "source": [
    "The first broad component of your notebook should enable you to familiarise yourselves with the given data, an outline of which is given at the end of this challenge specification.\n",
    "Among others, this section should investigate:\n",
    "\n",
    "- Data cleaning, e.g. treatment of categorial variables;\n",
    "- Data visualisation;\n",
    "- Computing descriptive statistics, e.g. correlation.\n",
    "- etc."
   ]
  },
  {
   "cell_type": "markdown",
   "metadata": {},
   "source": [
    "<div class=\"\">\n",
    "    <h3>2. Data Pre-processing</h3>\n",
    "</div>"
   ]
  },
  {
   "cell_type": "markdown",
   "metadata": {},
   "source": [
    "The previous step should give you a better understanding of which pre-processing is required for the data.\n",
    "This may include:\n",
    "\n",
    "- Normalising and standardising the given data;\n",
    "- Removing outliers;\n",
    "- Carrying out feature selection, possibly using metrics derived from information theory;\n",
    "- Handling missing information in the dataset;\n",
    "- Augmenting the dataset with external information;\n",
    "- Combining existing features."
   ]
  },
  {
   "cell_type": "markdown",
   "metadata": {},
   "source": [
    "<div class=\"\">\n",
    "    <h3>3. Model Selection</h3>\n",
    "</div>"
   ]
  },
  {
   "cell_type": "markdown",
   "metadata": {},
   "source": [
    "Perhaps the most important segment of this challenge involves the selection of a model that can successfully handle the given data and yield sensible predictions.\n",
    "Instead of focusing exclusively on your final chosen model, it is also important to share your thought process in this notebook by additionally describing alternative candidate models.\n",
    "There is a wealth of models to choose from, such as <i>decision trees</i>, <i>random forests</i>, <i>(Bayesian) neural networks</i>, <i>Gaussian processes</i>, <i>LASSO regression</i>, and so on.\n",
    "There are several factors which may influence your decision:\n",
    "\n",
    "- What is the model's complexity?\n",
    "- Is the model interpretable?\n",
    "- Is the model capable of handling different data-types?\n",
    "- Does the model return uncertainty estimates along with predictions?\n",
    "\n",
    "An in-depth evaluation of competing models in view of this and other criteria will elevate the quality of your submission and earn you a higher grade.\n"
   ]
  },
  {
   "cell_type": "markdown",
   "metadata": {},
   "source": [
    "<div class=\"\">\n",
    "    <h3>4. Parameter Optimisation</h3>\n",
    "</div>"
   ]
  },
  {
   "cell_type": "markdown",
   "metadata": {},
   "source": [
    "Irrespective of your choice, it is highly likely that your model will have one or more parameters that require tuning.\n",
    "There are several techniques for carrying out such a procedure, including cross-validation, Bayesian optimisation, and several others.\n",
    "As before, an analysis into which parameter tuning technique best suits your model is expected before proceeding with the optimisation of your model."
   ]
  },
  {
   "cell_type": "markdown",
   "metadata": {},
   "source": [
    "<div class=\"\">\n",
    "    <h3>5. Model Evaluation</h3>\n",
    "</div>"
   ]
  },
  {
   "cell_type": "markdown",
   "metadata": {},
   "source": [
    "Some form of pre-evaluation will inevitably be required in the preceding sections in order to both select an appropriate model and configure its parameters appropriately.\n",
    "In this final section, you may evaluate other aspects of the model such as:\n",
    "\n",
    "- Assessing the running time of your model;\n",
    "- Determining whether some aspects can be parallelised;\n",
    "- Training the model with smaller subsets of the data.\n",
    "- etc."
   ]
  },
  {
   "cell_type": "markdown",
   "metadata": {},
   "source": [
    "<div class=\"alert alert-danger\">\n",
    "    <b>N.B.</b> Please note that the items listed under each heading are neither exhaustive, nor are you expected to explore every given suggestion.\n",
    "    Nonetheless, these should serve as a guideline for your work in both this and upcoming challenges.\n",
    "    As always, you should use your intuition and understanding in order to decide which analysis best suits the assigned task.\n",
    "</div>"
   ]
  },
  {
   "cell_type": "markdown",
   "metadata": {},
   "source": [
    "<div class=\"\">\n",
    "    <h2>Submission Instructions</h2>\n",
    "    <hr style=\"height:1px;border:none;color:#333;background-color:#333;\" />    \n",
    "</div>"
   ]
  },
  {
   "cell_type": "markdown",
   "metadata": {},
   "source": [
    "- The goal of this challenge is to construct a model for predicting house prices;\n",
    "<br><br>\n",
    "\n",
    "- Your submission will have two components:\n",
    "\n",
    "    1. An <b>HTML version of your notebook</b> exploring the various modelling aspects described above;\n",
    "    2. A CSV file containing your <b>final model's predictions on the given test data</b>. \n",
    "       This file should contain a header and have the following format:\n",
    "       \n",
    "        ```\n",
    "        Id,SalePrice\n",
    "        1461,169000.1\n",
    "        1462,187724.1233\n",
    "        1463,175221\n",
    "        etc.\n",
    "        ```\n",
    "        \n",
    "        An example submission file has been provided in the data directory of the repository.\n",
    "        A leaderboard for this challenge will be ranked using the root mean squared error between the logarithm of the predicted value and the logarithm of the observed sales price. \n",
    "        Taking logs ensures that errors in predicting expensive houses and cheap houses will have a similar impact on the overall result;\n",
    "<br><br>\n",
    "- This exercise is due on <b>04/04/2019</b>."
   ]
  },
  {
   "cell_type": "markdown",
   "metadata": {},
   "source": [
    "<div class=\"\">\n",
    "    <h2>Dataset Description</h2>\n",
    "    <hr style=\"height:1px;border:none;color:#333;background-color:#333;\"/>    \n",
    "</div>"
   ]
  },
  {
   "cell_type": "markdown",
   "metadata": {},
   "source": [
    "#### * Files\n",
    "\n",
    "* train.csv - The training dataset;\n",
    "* test.csv - The test dataset;\n",
    "* data_description.txt - Full description of each column.\n",
    "\n",
    "#### * Attributes\n",
    "\n",
    "A brief outline of the available attributes is given below:\n",
    "\n",
    "* <i>SalePrice</i>: The property's sale price in dollars. This is the target variable that your model is intended to predict;\n",
    "\n",
    "* <i>MSSubClass</i>: The building class;\n",
    "* <i>MSZoning</i>: The general zoning classification;\n",
    "* <i>LotFrontage</i>: Linear feet of street connected to property;\n",
    "* <i>LotArea</i>: Lot size in square feet;\n",
    "* <i>Street</i>: Type of road access;\n",
    "* <i>Alley</i>: Type of alley access;\n",
    "* <i>LotShape</i>: General shape of property;\n",
    "* <i>LandContour</i>: Flatness of the property;\n",
    "* <i>Utilities</i>: Type of utilities available;\n",
    "* <i>LotConfig</i>: Lot configuration;\n",
    "* <i>LandSlope</i>: Slope of property;\n",
    "* <i>Neighborhood</i>: Physical locations within Ames city limits;\n",
    "* <i>Condition1</i>: Proximity to main road or railroad;\n",
    "* <i>Condition2</i>: Proximity to main road or railroad (if a second is present);\n",
    "* <i>BldgType</i>: Type of dwelling;\n",
    "* <i>HouseStyle</i>: Style of dwelling;\n",
    "* <i>OverallQual</i>: Overall material and finish quality;\n",
    "* <i>OverallCond</i>: Overall condition rating;\n",
    "* <i>YearBuilt</i>: Original construction date;\n",
    "* <i>YearRemodAdd</i>: Remodel date;\n",
    "* <i>RoofStyle</i>: Type of roof;\n",
    "* <i>RoofMatl</i>: Roof material;\n",
    "* <i>Exterior1st</i>: Exterior covering on house;\n",
    "* <i>Exterior2nd</i>: Exterior covering on house (if more than one material);\n",
    "* <i>MasVnrType</i>: Masonry veneer type;\n",
    "* <i>MasVnrArea</i>: Masonry veneer area in square feet;\n",
    "* <i>ExterQualv</i>: Exterior material quality;\n",
    "* <i>ExterCond</i>: Present condition of the material on the exterior;\n",
    "* <i>Foundation</i>: Type of foundation;\n",
    "* <i>BsmtQual</i>: Height of the basement;\n",
    "* <i>BsmtCond</i>: General condition of the basement;\n",
    "* <i>BsmtExposure</i>: Walkout or garden level basement walls;\n",
    "* <i>BsmtFinType1</i>: Quality of basement finished area;\n",
    "* <i>BsmtFinSF1</i>: Type 1 finished square feet;\n",
    "* <i>BsmtFinType2</i>: Quality of second finished area (if present);\n",
    "* <i>BsmtFinSF2</i>: Type 2 finished square feet;\n",
    "* <i>BsmtUnfSF</i>: Unfinished square feet of basement area;\n",
    "* <i>TotalBsmtSF</i>: Total square feet of basement area;\n",
    "* <i>Heating</i>: Type of heating;\n",
    "* <i>HeatingQC</i>: Heating quality and condition;\n",
    "* <i>CentralAir</i>: Central air conditioning;\n",
    "* <i>Electrical</i>: Electrical system;\n",
    "* <i>1stFlrSF</i>: First Floor square feet;\n",
    "* <i>2ndFlrSF</i>: Second floor square feet;\n",
    "* <i>LowQualFinSF</i>: Low quality finished square feet (all floors);\n",
    "* <i>GrLivArea</i>: Above grade (ground) living area square feet;\n",
    "* <i>BsmtFullBath</i>: Basement full bathrooms;\n",
    "* <i>BsmtHalfBath</i>: Basement half bathrooms;\n",
    "* <i>FullBath</i>: Full bathrooms above grade;\n",
    "* <i>HalfBath</i>: Half baths above grade;\n",
    "* <i>Bedroom</i>: Number of bedrooms above basement level;\n",
    "* <i>Kitchen</i>: Number of kitchens;\n",
    "* <i>KitchenQual</i>: Kitchen quality;\n",
    "* <i>TotRmsAbvGrd</i>: Total rooms above grade (does not include bathrooms);\n",
    "* <i>Functional</i>: Home functionality rating;\n",
    "* <i>Fireplaces</i>: Number of fireplaces;\n",
    "* <i>FireplaceQu</i>: Fireplace quality;\n",
    "* <i>GarageType</i>: Garage location;\n",
    "* <i>GarageYrBlt</i>: Year garage was built;\n",
    "* <i>GarageFinish</i>: Interior finish of the garage;\n",
    "* <i>GarageCars</i>: Size of garage in car capacity;\n",
    "* <i>GarageArea</i>: Size of garage in square feet;\n",
    "* <i>GarageQual</i>: Garage quality;\n",
    "* <i>GarageCond</i>: Garage condition;\n",
    "* <i>PavedDrive</i>: Paved driveway;\n",
    "* <i>WoodDeckSF</i>: Wood deck area in square feet;\n",
    "* <i>OpenPorchSF</i>: Open porch area in square feet;\n",
    "* <i>EnclosedPorch</i>: Enclosed porch area in square feet;\n",
    "* <i>3SsnPorch</i>: Three season porch area in square feet;\n",
    "* <i>ScreenPorch</i>: Screen porch area in square feet;\n",
    "* <i>PoolArea</i>: Pool area in square feet;\n",
    "* <i>PoolQC</i>: Pool quality;\n",
    "* <i>Fence</i>: Fence quality;\n",
    "* <i>MiscFeature</i>: Miscellaneous feature not covered in other categories;\n",
    "* <i>MiscVal</i>: Value (in dollars) of miscellaneous feature;\n",
    "* <i>MoSold</i>: Month sold;\n",
    "* <i>YrSold</i>: Year sold;\n",
    "* <i>SaleType</i>: Type of sale;\n",
    "* <i>SaleCondition</i>: Condition of sale.\n"
   ]
  },
  {
   "cell_type": "markdown",
   "metadata": {},
   "source": [
    "### Useful links\n",
    "\n",
    "- [Lin reg on Boston Housing dataset](https://towardsdatascience.com/linear-regression-on-boston-housing-dataset-f409b7e4a155)\n",
    "- [Lin reg in sckit learn](https://bigdata-madesimple.com/how-to-run-linear-regression-in-python-scikit-learn/)\n",
    "- [Train test split and cross validation](https://towardsdatascience.com/train-test-split-and-cross-validation-in-python-80b61beca4b6)\n",
    "- [Ridge and Lasso regression](https://towardsdatascience.com/ridge-and-lasso-regression-a-complete-guide-with-python-scikit-learn-e20e34bcbf0b)\n",
    "- [Best article in Boston House Pricing](https://gogul09.github.io/software/regression-example-boston-housing-prices)"
   ]
  },
  {
   "cell_type": "code",
   "execution_count": 64,
   "metadata": {},
   "outputs": [],
   "source": [
    "import numpy as np # linear algebra\n",
    "import pandas as pd # data processing, CSV file I/O \n",
    "import seaborn as sns # plotting\n",
    "from matplotlib import pyplot as plt # plots \n",
    "\n",
    "from sklearn.metrics import mean_squared_error\n"
   ]
  },
  {
   "cell_type": "code",
   "execution_count": 65,
   "metadata": {},
   "outputs": [
    {
     "name": "stdout",
     "output_type": "stream",
     "text": [
      "Rows in dataset:  1200\n",
      "Colums in dataset:  81\n"
     ]
    },
    {
     "data": {
      "text/html": [
       "<div>\n",
       "<style scoped>\n",
       "    .dataframe tbody tr th:only-of-type {\n",
       "        vertical-align: middle;\n",
       "    }\n",
       "\n",
       "    .dataframe tbody tr th {\n",
       "        vertical-align: top;\n",
       "    }\n",
       "\n",
       "    .dataframe thead th {\n",
       "        text-align: right;\n",
       "    }\n",
       "</style>\n",
       "<table border=\"1\" class=\"dataframe\">\n",
       "  <thead>\n",
       "    <tr style=\"text-align: right;\">\n",
       "      <th></th>\n",
       "      <th>Id</th>\n",
       "      <th>MSSubClass</th>\n",
       "      <th>MSZoning</th>\n",
       "      <th>LotFrontage</th>\n",
       "      <th>LotArea</th>\n",
       "      <th>Street</th>\n",
       "      <th>Alley</th>\n",
       "      <th>LotShape</th>\n",
       "      <th>LandContour</th>\n",
       "      <th>Utilities</th>\n",
       "      <th>...</th>\n",
       "      <th>PoolArea</th>\n",
       "      <th>PoolQC</th>\n",
       "      <th>Fence</th>\n",
       "      <th>MiscFeature</th>\n",
       "      <th>MiscVal</th>\n",
       "      <th>MoSold</th>\n",
       "      <th>YrSold</th>\n",
       "      <th>SaleType</th>\n",
       "      <th>SaleCondition</th>\n",
       "      <th>SalePrice</th>\n",
       "    </tr>\n",
       "  </thead>\n",
       "  <tbody>\n",
       "    <tr>\n",
       "      <th>0</th>\n",
       "      <td>1</td>\n",
       "      <td>60</td>\n",
       "      <td>RL</td>\n",
       "      <td>65.0</td>\n",
       "      <td>8450</td>\n",
       "      <td>Pave</td>\n",
       "      <td>NaN</td>\n",
       "      <td>Reg</td>\n",
       "      <td>Lvl</td>\n",
       "      <td>AllPub</td>\n",
       "      <td>...</td>\n",
       "      <td>0</td>\n",
       "      <td>NaN</td>\n",
       "      <td>NaN</td>\n",
       "      <td>NaN</td>\n",
       "      <td>0</td>\n",
       "      <td>2</td>\n",
       "      <td>2008</td>\n",
       "      <td>WD</td>\n",
       "      <td>Normal</td>\n",
       "      <td>208500</td>\n",
       "    </tr>\n",
       "    <tr>\n",
       "      <th>1</th>\n",
       "      <td>2</td>\n",
       "      <td>20</td>\n",
       "      <td>RL</td>\n",
       "      <td>80.0</td>\n",
       "      <td>9600</td>\n",
       "      <td>Pave</td>\n",
       "      <td>NaN</td>\n",
       "      <td>Reg</td>\n",
       "      <td>Lvl</td>\n",
       "      <td>AllPub</td>\n",
       "      <td>...</td>\n",
       "      <td>0</td>\n",
       "      <td>NaN</td>\n",
       "      <td>NaN</td>\n",
       "      <td>NaN</td>\n",
       "      <td>0</td>\n",
       "      <td>5</td>\n",
       "      <td>2007</td>\n",
       "      <td>WD</td>\n",
       "      <td>Normal</td>\n",
       "      <td>181500</td>\n",
       "    </tr>\n",
       "    <tr>\n",
       "      <th>2</th>\n",
       "      <td>3</td>\n",
       "      <td>60</td>\n",
       "      <td>RL</td>\n",
       "      <td>68.0</td>\n",
       "      <td>11250</td>\n",
       "      <td>Pave</td>\n",
       "      <td>NaN</td>\n",
       "      <td>IR1</td>\n",
       "      <td>Lvl</td>\n",
       "      <td>AllPub</td>\n",
       "      <td>...</td>\n",
       "      <td>0</td>\n",
       "      <td>NaN</td>\n",
       "      <td>NaN</td>\n",
       "      <td>NaN</td>\n",
       "      <td>0</td>\n",
       "      <td>9</td>\n",
       "      <td>2008</td>\n",
       "      <td>WD</td>\n",
       "      <td>Normal</td>\n",
       "      <td>223500</td>\n",
       "    </tr>\n",
       "    <tr>\n",
       "      <th>3</th>\n",
       "      <td>4</td>\n",
       "      <td>70</td>\n",
       "      <td>RL</td>\n",
       "      <td>60.0</td>\n",
       "      <td>9550</td>\n",
       "      <td>Pave</td>\n",
       "      <td>NaN</td>\n",
       "      <td>IR1</td>\n",
       "      <td>Lvl</td>\n",
       "      <td>AllPub</td>\n",
       "      <td>...</td>\n",
       "      <td>0</td>\n",
       "      <td>NaN</td>\n",
       "      <td>NaN</td>\n",
       "      <td>NaN</td>\n",
       "      <td>0</td>\n",
       "      <td>2</td>\n",
       "      <td>2006</td>\n",
       "      <td>WD</td>\n",
       "      <td>Abnorml</td>\n",
       "      <td>140000</td>\n",
       "    </tr>\n",
       "    <tr>\n",
       "      <th>4</th>\n",
       "      <td>5</td>\n",
       "      <td>60</td>\n",
       "      <td>RL</td>\n",
       "      <td>84.0</td>\n",
       "      <td>14260</td>\n",
       "      <td>Pave</td>\n",
       "      <td>NaN</td>\n",
       "      <td>IR1</td>\n",
       "      <td>Lvl</td>\n",
       "      <td>AllPub</td>\n",
       "      <td>...</td>\n",
       "      <td>0</td>\n",
       "      <td>NaN</td>\n",
       "      <td>NaN</td>\n",
       "      <td>NaN</td>\n",
       "      <td>0</td>\n",
       "      <td>12</td>\n",
       "      <td>2008</td>\n",
       "      <td>WD</td>\n",
       "      <td>Normal</td>\n",
       "      <td>250000</td>\n",
       "    </tr>\n",
       "  </tbody>\n",
       "</table>\n",
       "<p>5 rows × 81 columns</p>\n",
       "</div>"
      ],
      "text/plain": [
       "   Id  MSSubClass MSZoning  LotFrontage  LotArea Street Alley LotShape  \\\n",
       "0   1          60       RL         65.0     8450   Pave   NaN      Reg   \n",
       "1   2          20       RL         80.0     9600   Pave   NaN      Reg   \n",
       "2   3          60       RL         68.0    11250   Pave   NaN      IR1   \n",
       "3   4          70       RL         60.0     9550   Pave   NaN      IR1   \n",
       "4   5          60       RL         84.0    14260   Pave   NaN      IR1   \n",
       "\n",
       "  LandContour Utilities    ...     PoolArea PoolQC Fence MiscFeature MiscVal  \\\n",
       "0         Lvl    AllPub    ...            0    NaN   NaN         NaN       0   \n",
       "1         Lvl    AllPub    ...            0    NaN   NaN         NaN       0   \n",
       "2         Lvl    AllPub    ...            0    NaN   NaN         NaN       0   \n",
       "3         Lvl    AllPub    ...            0    NaN   NaN         NaN       0   \n",
       "4         Lvl    AllPub    ...            0    NaN   NaN         NaN       0   \n",
       "\n",
       "  MoSold YrSold  SaleType  SaleCondition  SalePrice  \n",
       "0      2   2008        WD         Normal     208500  \n",
       "1      5   2007        WD         Normal     181500  \n",
       "2      9   2008        WD         Normal     223500  \n",
       "3      2   2006        WD        Abnorml     140000  \n",
       "4     12   2008        WD         Normal     250000  \n",
       "\n",
       "[5 rows x 81 columns]"
      ]
     },
     "execution_count": 65,
     "metadata": {},
     "output_type": "execute_result"
    }
   ],
   "source": [
    "traindataset = pd.read_csv(\"challenge_data/train.csv\")\n",
    "\n",
    "print(\"Rows in dataset: \", traindataset.shape[0])\n",
    "print(\"Colums in dataset: \",traindataset.shape[1])\n",
    "traindataset.head()\n"
   ]
  },
  {
   "cell_type": "code",
   "execution_count": 66,
   "metadata": {},
   "outputs": [
    {
     "name": "stdout",
     "output_type": "stream",
     "text": [
      "Null values in dataset:  False\n"
     ]
    }
   ],
   "source": [
    "allnum_train = traindataset.select_dtypes(include=['float64', 'number']) # drops all non-numerical data for simple testing of models\n",
    "allnum_prices = allnum_train['SalePrice']# copies SalePrice to a new dataframe\n",
    "allnum_train = allnum_train.drop(['LotFrontage', 'MasVnrArea','GarageYrBlt','SalePrice'], axis=1) # drops SalePrice from the training data. Also dropping LotFrontage and GarageYrBlt as they contain null values\n",
    "\n",
    "print(\"Null values in dataset: \", allnum_train.isnull().sum().any()) # checks for null values\n",
    "\n",
    "# allnum_prices = allnum_train['SalePrice'].copy() "
   ]
  },
  {
   "cell_type": "code",
   "execution_count": 67,
   "metadata": {},
   "outputs": [
    {
     "data": {
      "text/plain": [
       "'plt.subplots(figsize=(20,15))\\nsns.heatmap(allnum_train.corr(method=\"pearson\"))\\n\\nplt.subplots(figsize=(20,15))\\nsns.heatmap(traindataset.corr(method=\"spearman\"))\\n\\nplt.subplots(figsize=(20,15))\\nsns.heatmap(traindataset.corr(method=\"kendall\"))'"
      ]
     },
     "execution_count": 67,
     "metadata": {},
     "output_type": "execute_result"
    }
   ],
   "source": [
    "# Data correlation heatmaps\n",
    "\n",
    "'''plt.subplots(figsize=(20,15))\n",
    "sns.heatmap(allnum_train.corr(method=\"pearson\"))\n",
    "\n",
    "plt.subplots(figsize=(20,15))\n",
    "sns.heatmap(traindataset.corr(method=\"spearman\"))\n",
    "\n",
    "plt.subplots(figsize=(20,15))\n",
    "sns.heatmap(traindataset.corr(method=\"kendall\"))'''\n"
   ]
  },
  {
   "cell_type": "code",
   "execution_count": 68,
   "metadata": {},
   "outputs": [
    {
     "name": "stdout",
     "output_type": "stream",
     "text": [
      "(960, 34)\n",
      "(240, 34)\n",
      "(960,)\n",
      "(240,)\n"
     ]
    }
   ],
   "source": [
    "from sklearn.model_selection import train_test_split\n",
    "from sklearn.preprocessing import StandardScaler\n",
    "# Divide training set and use scaler\n",
    "\n",
    "scaler = StandardScaler().fit(allnum_train)\n",
    "scaled_X = scaler.transform(allnum_train)\n",
    "\n",
    "seed = 9\n",
    "test_size = 0.20\n",
    "\n",
    "X_train, X_test, Y_train, Y_test  = train_test_split(allnum_train, allnum_prices, test_size = test_size, random_state = seed)\n",
    "\n",
    "print(X_train.shape)\n",
    "print(X_test.shape)\n",
    "print(Y_train.shape)\n",
    "print(Y_test.shape)\n"
   ]
  },
  {
   "cell_type": "code",
   "execution_count": 72,
   "metadata": {},
   "outputs": [
    {
     "name": "stderr",
     "output_type": "stream",
     "text": [
      "/usr/local/lib/python3.5/dist-packages/sklearn/linear_model/coordinate_descent.py:491: ConvergenceWarning: Objective did not converge. You might want to increase the number of iterations. Fitting data with very small alpha may cause precision problems.\n",
      "  ConvergenceWarning)\n",
      "/usr/local/lib/python3.5/dist-packages/sklearn/linear_model/coordinate_descent.py:491: ConvergenceWarning: Objective did not converge. You might want to increase the number of iterations. Fitting data with very small alpha may cause precision problems.\n",
      "  ConvergenceWarning)\n",
      "/usr/local/lib/python3.5/dist-packages/sklearn/linear_model/coordinate_descent.py:491: ConvergenceWarning: Objective did not converge. You might want to increase the number of iterations. Fitting data with very small alpha may cause precision problems.\n",
      "  ConvergenceWarning)\n",
      "/usr/local/lib/python3.5/dist-packages/sklearn/linear_model/coordinate_descent.py:491: ConvergenceWarning: Objective did not converge. You might want to increase the number of iterations. Fitting data with very small alpha may cause precision problems.\n",
      "  ConvergenceWarning)\n",
      "/usr/local/lib/python3.5/dist-packages/sklearn/linear_model/coordinate_descent.py:491: ConvergenceWarning: Objective did not converge. You might want to increase the number of iterations. Fitting data with very small alpha may cause precision problems.\n",
      "  ConvergenceWarning)\n",
      "/usr/local/lib/python3.5/dist-packages/sklearn/linear_model/coordinate_descent.py:491: ConvergenceWarning: Objective did not converge. You might want to increase the number of iterations. Fitting data with very small alpha may cause precision problems.\n",
      "  ConvergenceWarning)\n",
      "/usr/local/lib/python3.5/dist-packages/sklearn/linear_model/coordinate_descent.py:491: ConvergenceWarning: Objective did not converge. You might want to increase the number of iterations. Fitting data with very small alpha may cause precision problems.\n",
      "  ConvergenceWarning)\n",
      "/usr/local/lib/python3.5/dist-packages/sklearn/linear_model/coordinate_descent.py:491: ConvergenceWarning: Objective did not converge. You might want to increase the number of iterations. Fitting data with very small alpha may cause precision problems.\n",
      "  ConvergenceWarning)\n",
      "/usr/local/lib/python3.5/dist-packages/sklearn/linear_model/coordinate_descent.py:491: ConvergenceWarning: Objective did not converge. You might want to increase the number of iterations. Fitting data with very small alpha may cause precision problems.\n",
      "  ConvergenceWarning)\n",
      "/usr/local/lib/python3.5/dist-packages/sklearn/linear_model/coordinate_descent.py:491: ConvergenceWarning: Objective did not converge. You might want to increase the number of iterations. Fitting data with very small alpha may cause precision problems.\n",
      "  ConvergenceWarning)\n"
     ]
    },
    {
     "name": "stdout",
     "output_type": "stream",
     "text": [
      "ElasticNet: -1242654559.984, 677105871.875\n",
      "AdaBoost: -1228428625.835, 440128908.337\n",
      "KNN: -2551035379.303, 598939750.972\n",
      "SVR: -6605797998.493, 1150777548.5\n",
      "Lasso: -1200678461.126, 655891003.07\n",
      "ExtraTrees: -991959652.646, 470496846.134\n",
      "GradientBoost: -874209692.07, 669995077.078\n",
      "RandomForest: -993494226.961, 567198354.579\n",
      "Linear: -1200762743.41, 655931909.792\n",
      "DecisionTree: -1847330391.162, 596201362.642\n"
     ]
    },
    {
     "data": {
      "image/png": "[encoded data removed]",
      "text/plain": [
       "<Figure size 432x288 with 1 Axes>"
      ]
     },
     "metadata": {},
     "output_type": "display_data"
    }
   ],
   "source": [
    "from sklearn.model_selection import KFold\n",
    "from sklearn.model_selection import cross_val_score\n",
    "from sklearn.linear_model import LinearRegression\n",
    "from sklearn.linear_model import Lasso\n",
    "from sklearn.linear_model import ElasticNet\n",
    "from sklearn.tree import DecisionTreeRegressor\n",
    "from sklearn.neighbors import KNeighborsRegressor\n",
    "from sklearn.svm import SVR\n",
    "from sklearn.ensemble import AdaBoostRegressor\n",
    "from sklearn.ensemble import GradientBoostingRegressor\n",
    "from sklearn.ensemble import RandomForestRegressor\n",
    "from sklearn.ensemble import ExtraTreesRegressor\n",
    "from sklearn.metrics import mean_squared_error\n",
    "\n",
    "# user variables to tune\n",
    "folds   = 10\n",
    "metric  = \"neg_mean_squared_error\"\n",
    "\n",
    "# hold different regression models in a single dictionary\n",
    "models = {}\n",
    "models[\"Linear\"]        = LinearRegression()\n",
    "models[\"Lasso\"]         = Lasso()\n",
    "models[\"ElasticNet\"]    = ElasticNet()\n",
    "models[\"KNN\"]           = KNeighborsRegressor()\n",
    "models[\"DecisionTree\"]  = DecisionTreeRegressor()\n",
    "models[\"SVR\"]           = SVR()\n",
    "models[\"AdaBoost\"]      = AdaBoostRegressor()\n",
    "models[\"GradientBoost\"] = GradientBoostingRegressor()\n",
    "models[\"RandomForest\"]  = RandomForestRegressor()\n",
    "models[\"ExtraTrees\"]    = ExtraTreesRegressor()\n",
    "\n",
    "# 10-fold cross validation for each model\n",
    "model_results = []\n",
    "model_names   = []\n",
    "for model_name in models:\n",
    "    model   = models[model_name]\n",
    "    k_fold  = KFold(n_splits=folds, random_state=seed)\n",
    "    results = cross_val_score(model, X_train, Y_train, cv=k_fold, scoring=metric)\n",
    "    \n",
    "    model_results.append(results)\n",
    "    model_names.append(model_name)\n",
    "    print(\"{}: {}, {}\".format(model_name, round(results.mean(), 3), round(results.std(), 3)))\n",
    "\n",
    "# box-whisker plot to compare regression models\n",
    "figure = plt.figure()\n",
    "figure.suptitle('Regression models comparison')\n",
    "axis = figure.add_subplot(111)\n",
    "plt.boxplot(model_results)\n",
    "axis.set_xticklabels(model_names, rotation = 45, ha=\"right\")\n",
    "axis.set_ylabel(\"Mean Squared Error (MSE)\")\n",
    "plt.margins(0.05, 0.1)\n",
    "plt.show()"
   ]
  },
  {
   "cell_type": "code",
   "execution_count": 77,
   "metadata": {},
   "outputs": [
    {
     "name": "stdout",
     "output_type": "stream",
     "text": [
      "[INFO] MSE : 888137514.409\n",
      "Score:  0.8848206991692744\n"
     ]
    },
    {
     "data": {
      "image/png": "[encoded data removed]",
      "text/plain": [
       "<Figure size 432x288 with 1 Axes>"
      ]
     },
     "metadata": {},
     "output_type": "display_data"
    }
   ],
   "source": [
    "# Best model \n",
    "best_model = GradientBoostingRegressor(random_state=seed)\n",
    "best_model.fit(X_train,Y_train)\n",
    "\n",
    "best_predictions = best_model.predict(X_test)\n",
    "print(\"[INFO] MSE : {}\".format(round(mean_squared_error(Y_test, best_predictions), 3)))\n",
    "print(\"Score: \", best_model.score(X_test, Y_test))\n",
    "\n",
    "plt.scatter(best_predictions, Y_test, alpha=0.5, c=['r','g'])\n",
    "plt.show()"
   ]
  },
  {
   "cell_type": "code",
   "execution_count": 57,
   "metadata": {},
   "outputs": [
    {
     "name": "stdout",
     "output_type": "stream",
     "text": [
      "lin reg train_score:  0.8439142827977939\n",
      "lin reg test_score 0.8096784602258376\n"
     ]
    },
    {
     "data": {
      "text/plain": [
       "\"\\nplt.scatter(predictions_on_train, predictions_on_train - Y_train, c='r', s=40, alpha=0.5)\\nplt.scatter(predictions_on_test, predictions_on_test - Y_test, c='b', s=40)\\nplt.hlines(y=0, xmin=0, xmax=50)\\n\""
      ]
     },
     "execution_count": 57,
     "metadata": {},
     "output_type": "execute_result"
    }
   ],
   "source": [
    "# Linear regression\n",
    "from sklearn.linear_model import LinearRegression\n",
    "# Create linear regression object\n",
    "lin_regr = LinearRegression()\n",
    "\n",
    "# Fit the training set\n",
    "lin_regr.fit(X_train, Y_train)\n",
    "\n",
    "predictions_on_train = lin_regr.predict(X_train)\n",
    "predictions_on_test = lin_regr.predict(X_test)\n",
    "\n",
    "# plots\n",
    "print(\"lin reg train_score: \" ,lin_regr.score(X_train, Y_train))\n",
    "print(\"lin reg test_score\" ,lin_regr.score(X_test, Y_test))\n",
    "\n",
    "'''\n",
    "plt.scatter(predictions_on_train, predictions_on_train - Y_train, c='r', s=40, alpha=0.5)\n",
    "plt.scatter(predictions_on_test, predictions_on_test - Y_test, c='b', s=40)\n",
    "plt.hlines(y=0, xmin=0, xmax=50)\n",
    "'''"
   ]
  },
  {
   "cell_type": "code",
   "execution_count": 58,
   "metadata": {},
   "outputs": [
    {
     "name": "stdout",
     "output_type": "stream",
     "text": [
      "Train Ridge_train_score0.01:  0.843914282549253\n",
      "Test Ridge_train_score0.01:  0.809681015387325\n",
      "Train Ridge_train_score100:  0.8413685622979042\n",
      "Test Ridge_test_score100:  0.8168851917194294\n"
     ]
    }
   ],
   "source": [
    "# Ridge regression\n",
    "from sklearn.linear_model import Ridge\n",
    "\n",
    "rr = Ridge(alpha = 0.01)\n",
    "rr.fit(X_train, Y_train)\n",
    "\n",
    "rr100 = Ridge(alpha=100) #  comparison with low alpha value\n",
    "rr100.fit(X_train, Y_train)\n",
    "\n",
    "print(\"Train Ridge_train_score0.01: \",rr.score(X_train,Y_train))\n",
    "print(\"Test Ridge_train_score0.01: \",rr.score(X_test, Y_test))\n",
    "\n",
    "print(\"Train Ridge_train_score100: \",rr100.score(X_train,Y_train))\n",
    "print(\"Test Ridge_test_score100: \",rr100.score(X_test, Y_test))"
   ]
  },
  {
   "cell_type": "code",
   "execution_count": 59,
   "metadata": {},
   "outputs": [
    {
     "name": "stdout",
     "output_type": "stream",
     "text": [
      "Train Lasso score:  0.8439142659488124\n",
      "Test Lasso score:  0.8097094842485083\n",
      "Coefficents used:  34\n",
      "Train Lasso001 score:  0.8439142827961092\n",
      "Test Lasso001 score:  0.8096787705771104\n",
      "Coefficents used:  34\n",
      "Train Lasso001 score:  0.8439142827977937\n",
      "Test Lasso001 score:  0.8096784633293382\n",
      "Coefficents used:  34\n"
     ]
    },
    {
     "data": {
      "text/plain": [
       "'print(lasso.coef_)\\nprint(lasso001.coef_)\\nprint(lasso00001.coef_)\\n'"
      ]
     },
     "execution_count": 59,
     "metadata": {},
     "output_type": "execute_result"
    }
   ],
   "source": [
    "# Lasso Regression for feature selection\n",
    "from sklearn.linear_model import Lasso\n",
    "\n",
    "\n",
    "lasso = Lasso()\n",
    "lasso.fit(X_train, Y_train)\n",
    "print(\"Train Lasso score: \",lasso.score(X_train,Y_train))\n",
    "print(\"Test Lasso score: \",lasso.score(X_test,Y_test))\n",
    "coeff_used = np.sum(lasso.coef_!=0)\n",
    "print(\"Coefficents used: \", coeff_used)\n",
    "\n",
    "\n",
    "lasso001 = Lasso(alpha=0.01, max_iter=10e5)\n",
    "lasso001.fit(X_train, Y_train)\n",
    "print(\"Train Lasso001 score: \",lasso001.score(X_train,Y_train))\n",
    "print(\"Test Lasso001 score: \",lasso001.score(X_test,Y_test))\n",
    "coeff_used001 = np.sum(lasso001.coef_!=0)\n",
    "print(\"Coefficents used: \", coeff_used001)\n",
    "\n",
    "lasso00001 = Lasso(alpha=0.0001, max_iter=10e5)\n",
    "lasso00001.fit(X_train, Y_train)\n",
    "print(\"Train Lasso001 score: \",lasso00001.score(X_train,Y_train))\n",
    "print(\"Test Lasso001 score: \",lasso00001.score(X_test,Y_test))\n",
    "coeff_used00001 = np.sum(lasso00001.coef_!=0)\n",
    "print(\"Coefficents used: \", coeff_used00001)\n",
    "\n",
    "'''print(lasso.coef_)\n",
    "print(lasso001.coef_)\n",
    "print(lasso00001.coef_)\n",
    "'''"
   ]
  },
  {
   "cell_type": "code",
   "execution_count": null,
   "metadata": {},
   "outputs": [],
   "source": []
  },
  {
   "cell_type": "code",
   "execution_count": null,
   "metadata": {},
   "outputs": [],
   "source": []
  }
 ],
 "metadata": {
  "kernelspec": {
   "display_name": "Python 3",
   "language": "python",
   "name": "python3"
  },
  "language_info": {
   "codemirror_mode": {
    "name": "ipython",
    "version": 3
   },
   "file_extension": ".py",
   "mimetype": "text/x-python",
   "name": "python",
   "nbconvert_exporter": "python",
   "pygments_lexer": "ipython3",
   "version": "3.5.2"
  }
 },
 "nbformat": 4,
 "nbformat_minor": 2
}
