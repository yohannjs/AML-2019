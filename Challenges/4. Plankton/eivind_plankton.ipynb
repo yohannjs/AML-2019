{
 "cells": [
  {
   "cell_type": "code",
   "execution_count": null,
   "metadata": {},
   "outputs": [],
   "source": []
  },
  {
   "cell_type": "code",
   "execution_count": 75,
   "metadata": {},
   "outputs": [
    {
     "name": "stderr",
     "output_type": "stream",
     "text": [
      "Using TensorFlow backend.\n"
     ]
    }
   ],
   "source": [
    "from extract_zip import extract_zip_to_memory # function for decompressing zip in memory\n",
    "from PIL import Image, ImageOps # image handling\n",
    "import pandas as pd # data manipulation\n",
    "import numpy as np\n",
    "import keras\n",
    "from keras.layers import Dense, Dropout, Flatten, Conv2D, MaxPooling2D\n",
    "from keras.models import Sequential\n",
    "\n",
    "basepath = \"/mnt/datasets/plankton/flowcam/\""
   ]
  },
  {
   "cell_type": "code",
   "execution_count": 44,
   "metadata": {},
   "outputs": [],
   "source": [
    "img_files = extract_zip_to_memory(basepath + \"imgs.zip\")"
   ]
  },
  {
   "cell_type": "code",
   "execution_count": 60,
   "metadata": {},
   "outputs": [
    {
     "name": "stdout",
     "output_type": "stream",
     "text": [
      "243610\n"
     ]
    },
    {
     "data": {
      "text/plain": [
       "['imgs/32582800.jpg',\n",
       " 'imgs/32601208.jpg',\n",
       " 'imgs/32674954.jpg',\n",
       " 'imgs/32722436.jpg',\n",
       " 'imgs/32531609.jpg']"
      ]
     },
     "execution_count": 60,
     "metadata": {},
     "output_type": "execute_result"
    }
   ],
   "source": [
    "img_files_keys = img_files.keys()\n",
    "print(len(img_files_keys))\n",
    "list(img_files_keys)[:5]"
   ]
  },
  {
   "cell_type": "code",
   "execution_count": 2,
   "metadata": {},
   "outputs": [],
   "source": [
    "# dataset\n",
    "features_native_RawDF = pd.read_csv(basepath + 'features_native.csv.gz')\n",
    "meta_RawDF = pd.read_csv(basepath + 'meta.csv')\n",
    "taxo_RawDF = pd.read_csv(basepath + 'taxo.csv')"
   ]
  },
  {
   "cell_type": "code",
   "execution_count": 82,
   "metadata": {},
   "outputs": [
    {
     "name": "stdout",
     "output_type": "stream",
     "text": [
      "(243610, 65)\n",
      "(243610, 14)\n",
      "(178, 8)\n"
     ]
    }
   ],
   "source": [
    "print(features_native_RawDF.shape)\n",
    "print(meta_RawDF.shape)\n",
    "print(taxo_RawDF.shape)"
   ]
  },
  {
   "cell_type": "code",
   "execution_count": 76,
   "metadata": {},
   "outputs": [],
   "source": [
    "# change datatype of meta\n",
    "meta_RawDF['objid'] = meta_RawDF['objid'].astype(np.int64, errors='ignore')"
   ]
  },
  {
   "cell_type": "code",
   "execution_count": 19,
   "metadata": {},
   "outputs": [
    {
     "name": "stdout",
     "output_type": "stream",
     "text": [
      "739\n",
      "972\n"
     ]
    }
   ],
   "source": [
    "max_height = features_native_RawDF.height.max()\n",
    "max_width = features_native_RawDF.width.max()\n",
    "print(max_height)\n",
    "print(max_width)"
   ]
  },
  {
   "cell_type": "code",
   "execution_count": 58,
   "metadata": {},
   "outputs": [],
   "source": [
    "# code inspired by https://jdhao.github.io/2017/11/06/resize-image-to-square-with-padding/\n",
    "\n",
    "def image_processing(path):\n",
    "    desired_size = 972 # max of width and height in dataset\n",
    "    im_orginal = Image.open(path)\n",
    "    old_size = im_orginal.size  # old_size[0] is in (width, height) format\n",
    "    \n",
    "    ratio = float(desired_size)/max(old_size)\n",
    "    new_size = tuple([int(x*ratio) for x in old_size])\n",
    "    im_scaled = im_orginal.resize(new_size) # scale up picture before padding to keep information\n",
    "    \n",
    "    delta_w = desired_size - new_size[0]\n",
    "    delta_h = desired_size - new_size[1]\n",
    "    padding = (delta_w//2, delta_h//2, delta_w-(delta_w//2), delta_h-(delta_h//2))\n",
    "    im_padded = ImageOps.expand(im_scaled, padding, fill=255) # padding of scaled picture\n",
    "    \n",
    "    final_size = (100, 100) # input size for CNN\n",
    "    im_final = im_padded.resize(final_size, resample=0) # resize to input size of CNN\n",
    "    im_final.save('new_image.png') # save file locally, should be changed to a return\n",
    "    \n",
    "image_processing(img_files['imgs/32582800.jpg']) # test\n",
    "\n"
   ]
  },
  {
   "cell_type": "code",
   "execution_count": null,
   "metadata": {},
   "outputs": [],
   "source": [
    "# processes image before training\n",
    "\n",
    "def autoloader():\n",
    "    "
   ]
  },
  {
   "cell_type": "code",
   "execution_count": 87,
   "metadata": {},
   "outputs": [
    {
     "data": {
      "text/html": [
       "<div>\n",
       "<style scoped>\n",
       "    .dataframe tbody tr th:only-of-type {\n",
       "        vertical-align: middle;\n",
       "    }\n",
       "\n",
       "    .dataframe tbody tr th {\n",
       "        vertical-align: top;\n",
       "    }\n",
       "\n",
       "    .dataframe thead th {\n",
       "        text-align: right;\n",
       "    }\n",
       "</style>\n",
       "<table border=\"1\" class=\"dataframe\">\n",
       "  <thead>\n",
       "    <tr style=\"text-align: right;\">\n",
       "      <th></th>\n",
       "      <th>label 1</th>\n",
       "      <th>label 2</th>\n",
       "    </tr>\n",
       "  </thead>\n",
       "  <tbody>\n",
       "    <tr>\n",
       "      <th>32582800</th>\n",
       "      <td>silks</td>\n",
       "      <td>silks</td>\n",
       "    </tr>\n",
       "    <tr>\n",
       "      <th>32601208</th>\n",
       "      <td>Neoceratium furca (Neoceratium)</td>\n",
       "      <td>Neoceratium</td>\n",
       "    </tr>\n",
       "    <tr>\n",
       "      <th>32674954</th>\n",
       "      <td>detritus</td>\n",
       "      <td>detritus</td>\n",
       "    </tr>\n",
       "    <tr>\n",
       "      <th>32722436</th>\n",
       "      <td>detritus</td>\n",
       "      <td>detritus</td>\n",
       "    </tr>\n",
       "    <tr>\n",
       "      <th>32531609</th>\n",
       "      <td>detritus</td>\n",
       "      <td>detritus</td>\n",
       "    </tr>\n",
       "  </tbody>\n",
       "</table>\n",
       "</div>"
      ],
      "text/plain": [
       "                                  label 1      label 2\n",
       "32582800                            silks        silks\n",
       "32601208  Neoceratium furca (Neoceratium)  Neoceratium\n",
       "32674954                         detritus     detritus\n",
       "32722436                         detritus     detritus\n",
       "32531609                         detritus     detritus"
      ]
     },
     "execution_count": 87,
     "metadata": {},
     "output_type": "execute_result"
    }
   ],
   "source": [
    "# split to train and test data\n",
    "\n",
    "# 9000 first elements as train\n",
    "train_keys = list(img_files_keys)[:9000]\n",
    "\n",
    "y = pd.DataFrame(columns=['label 1', 'label 2'])\n",
    "\n",
    "for key in train_keys:\n",
    "    key_id = int(key[5:13])\n",
    "    label1 = meta_RawDF.loc[meta_RawDF.objid == key_id].level1.values[0]\n",
    "    label2 = meta_RawDF.loc[meta_RawDF.objid == key_id].level2.values[0]\n",
    "    y.loc[key_id] = [label1, label2]\n",
    "    \n",
    "# 1000 next elements as test\n",
    "test_keys = list(img_files_keys)[9000:10000]\n",
    "\n",
    "y.head()"
   ]
  },
  {
   "cell_type": "code",
   "execution_count": null,
   "metadata": {},
   "outputs": [],
   "source": [
    "# input dimensions\n",
    "input_shape = (100, 100, 1)\n",
    "\n",
    "# network parameters \n",
    "batch_size = 128\n",
    "num_classes = 10\n",
    "epochs = 5 # Further Fine Tuning can be done\n"
   ]
  },
  {
   "cell_type": "code",
   "execution_count": null,
   "metadata": {},
   "outputs": [],
   "source": [
    "# Keras CNN model\n",
    "\n",
    "model = Sequential()\n",
    "\n",
    "# add first convolutional layer\n",
    "model.add(Conv2D(32, kernel_size=(3, 3), activation='relu', input_shape=input_shape))\n",
    "\n",
    "# add second convolutional layer\n",
    "model.add(Conv2D(64, (3, 3), activation='relu'))\n",
    "\n",
    "# add one max pooling layer \n",
    "model.add(MaxPooling2D(pool_size=(2, 2)))\n",
    "\n",
    "# add one dropout layer\n",
    "model.add(Dropout(0.25))\n",
    "\n",
    "# add flatten layer\n",
    "model.add(Flatten())\n",
    "\n",
    "# add dense layer\n",
    "model.add(Dense(128, activation='relu'))\n",
    "\n",
    "# add another dropout layer\n",
    "model.add(Dropout(0.5))\n",
    "\n",
    "# add dense layer\n",
    "model.add(Dense(num_classes, activation='softmax'))\n",
    "\n",
    "# complile the model and view its architecur\n",
    "model.compile(loss=keras.losses.categorical_crossentropy,  optimizer=keras.optimizers.Adadelta(), metrics=['accuracy'])\n",
    "\n",
    "model.summary()"
   ]
  }
 ],
 "metadata": {
  "kernelspec": {
   "display_name": "Python 3",
   "language": "python",
   "name": "python3"
  },
  "language_info": {
   "codemirror_mode": {
    "name": "ipython",
    "version": 3
   },
   "file_extension": ".py",
   "mimetype": "text/x-python",
   "name": "python",
   "nbconvert_exporter": "python",
   "pygments_lexer": "ipython3",
   "version": "3.5.2"
  }
 },
 "nbformat": 4,
 "nbformat_minor": 2
}
