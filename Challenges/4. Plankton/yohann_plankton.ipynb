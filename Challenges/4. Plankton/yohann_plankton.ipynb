{
 "cells": [
  {
   "cell_type": "markdown",
   "metadata": {},
   "source": [
    "[Notebook of task](https://github.com/DistributedSystemsGroup/Algorithmic-Machine-Learning/blob/master/Challenges/Plankton/plankton_challenge.ipynb)\n",
    "\n",
    "# Useful websites and articles\n",
    "\n",
    "### Libraries for Deep NNs\n",
    "Most relevant\n",
    "- [TensorFlow](https://www.tensorflow.org/)\n",
    "- [Keras](https://keras.io/)\n",
    "- [Theano](http://deeplearning.net/software/theano/)\n",
    "\n",
    "Less relevant (mostly for GPU optimisation)\n",
    "- [Caffe](http://caffe.berkeleyvision.org/)\n",
    "- [Neon](https://www.intel.ai/neon-2-0-optimized-for-intel-architectures/)"
   ]
  },
  {
   "cell_type": "code",
   "execution_count": 41,
   "metadata": {},
   "outputs": [],
   "source": [
    "%matplotlib inline\n",
    "# For configuration and jupiter\n",
    "import os\n",
    "import sys\n",
    "import re\n",
    "import random\n",
    "import matplotlib\n",
    "import implicit\n",
    "import warnings\n",
    "# For data manipulation\n",
    "import pandas as pd\n",
    "import numpy as np\n",
    "# For visualization\n",
    "import matplotlib.pyplot as plt\n",
    "import seaborn as sns\n",
    "# For prediction\n",
    "from tqdm import tqdm\n",
    "# import tensorflow as tf\n",
    "# Unable to import TF...\n",
    "\n",
    "\n",
    "\n",
    "import zipfile\n",
    "from io import BytesIO\n",
    "from PIL import Image, ImageOps # image handling\n",
    "\n",
    "def extract_zip_to_memory(input_zip):\n",
    "    '''\n",
    "    This function extracts the images stored inside the given zip file.\n",
    "    It stores the result in a python dictionary.\n",
    "    \n",
    "    input_zip (string): path to the zip file\n",
    "    \n",
    "    returns (dict): {filename (string): image_file (bytes)}\n",
    "    '''\n",
    "    input_zip=zipfile.ZipFile(input_zip)\n",
    "    return {name: BytesIO(input_zip.read(name)) for name in input_zip.namelist() if name.endswith('.jpg')}\n",
    "\n",
    "\n",
    "# img_files = extract_zip_to_memory(\"imgs.zip\")\n",
    "\n",
    "# Display an example image \n",
    "# Image.open(img_files['imgs/32738710.jpg'])\n",
    "\n",
    "# Load the image as a numpy array:\n",
    "# np_arr = np.array(Image.open(img_files['imgs/32738710.jpg']))\n",
    "\n",
    "# Be aware that the dictionary will occupy roughly 2GB of computer memory!\n",
    "# To free this memory again, run:\n",
    "# del img_files\n",
    "base = '/mnt/datasets/plankton/flowcam/'\n",
    "\n",
    "# Nr of picture/rows = 243 611"
   ]
  },
  {
   "cell_type": "code",
   "execution_count": 28,
   "metadata": {},
   "outputs": [],
   "source": [
    "image_filename = base + \"imgs.zip\"\n",
    "img_files = extract_zip_to_memory(image_filename)"
   ]
  },
  {
   "cell_type": "code",
   "execution_count": 29,
   "metadata": {},
   "outputs": [
    {
     "name": "stdout",
     "output_type": "stream",
     "text": [
      "<_io.BytesIO object at 0x7f959c0bf888>\n"
     ]
    }
   ],
   "source": [
    "print(img_files['imgs/32738710.jpg'])"
   ]
  },
  {
   "cell_type": "code",
   "execution_count": 30,
   "metadata": {},
   "outputs": [
    {
     "data": {
      "text/plain": [
       "['imgs/32682724.jpg',\n",
       " 'imgs/32614974.jpg',\n",
       " 'imgs/31337535.jpg',\n",
       " 'imgs/32595387.jpg',\n",
       " 'imgs/32594124.jpg']"
      ]
     },
     "execution_count": 30,
     "metadata": {},
     "output_type": "execute_result"
    }
   ],
   "source": [
    "list(img_files.keys())[:5]"
   ]
  },
  {
   "cell_type": "code",
   "execution_count": 43,
   "metadata": {},
   "outputs": [
    {
     "name": "stdout",
     "output_type": "stream",
     "text": [
      "[[255 255 255 ... 255 255 255]\n",
      " [255 255 255 ... 255 255 255]\n",
      " [255 255 255 ... 255 255 255]\n",
      " ...\n",
      " [255 255 255 ... 255 255 255]\n",
      " [255 255 255 ... 255 255 255]\n",
      " [255 255 255 ... 255 255 255]]\n"
     ]
    }
   ],
   "source": [
    "img_array = np.array(Image.open(img_files['imgs/32738710.jpg']))\n",
    "print(img_array)"
   ]
  },
  {
   "cell_type": "code",
   "execution_count": 32,
   "metadata": {},
   "outputs": [
    {
     "data": {
      "image/png": "[encoded data removed]",
      "text/plain": [
       "<PIL.JpegImagePlugin.JpegImageFile image mode=L size=50x55 at 0x7F96200D3198>"
      ]
     },
     "execution_count": 32,
     "metadata": {},
     "output_type": "execute_result"
    }
   ],
   "source": [
    "Image.open(img_files['imgs/32738710.jpg'])"
   ]
  },
  {
   "cell_type": "code",
   "execution_count": 33,
   "metadata": {},
   "outputs": [],
   "source": [
    "nativeDF = pd.read_csv(base + 'features_native.csv.gz')\n",
    "skimagDF = pd.read_csv(base + 'features_skimage.csv.gz')\n",
    "labelsDF = pd.read_csv(base + 'meta.csv')"
   ]
  },
  {
   "cell_type": "code",
   "execution_count": 34,
   "metadata": {},
   "outputs": [],
   "source": [
    "#print(nativeDF.isnull().sum().sort_values(ascending=False)[:10])\n",
    "#print(skimagDF.isnull().sum().sort_values(ascending=False)[:6])\n",
    "native_nan_cols = ['perimareaexc', 'feretareaexc', 'cdexc', 'skeleton_area',\n",
    "                   'nb1_area', 'symetrieh_area', 'symetriev_area', 'convarea_area',\n",
    "                  'nb2_area', 'nb3_area', ]\n",
    "skimage_nan_cols = ['moments_normalized4', 'weighted_moments_normalized0', \n",
    "                    'moments_normalized1', 'moments_normalized0',\n",
    "                   'weighted_moments_normalized1', 'weighted_moments_normalized4']"
   ]
  },
  {
   "cell_type": "code",
   "execution_count": 35,
   "metadata": {},
   "outputs": [
    {
     "name": "stdout",
     "output_type": "stream",
     "text": [
      "False\n",
      "False\n",
      "False\n"
     ]
    }
   ],
   "source": [
    "for col_name in native_nan_cols:\n",
    "    nativeDF[col_name] = nativeDF[col_name].fillna(0)\n",
    "\n",
    "for col_name in skimage_nan_cols:\n",
    "    skimagDF[col_name] = skimagDF[col_name].fillna(0)\n",
    "\n",
    "labelsDF['level1'] = labelsDF['level1'].fillna(0)\n",
    "labelsDF['level2'] = labelsDF['level2'].fillna(0)\n",
    "\n",
    "print(nativeDF.isnull().sum().any())\n",
    "print(skimagDF.isnull().sum().any())\n",
    "print(labelsDF.isnull().sum().any())"
   ]
  },
  {
   "cell_type": "code",
   "execution_count": 36,
   "metadata": {},
   "outputs": [
    {
     "name": "stdout",
     "output_type": "stream",
     "text": [
      "Nr. of unique level1 names\n",
      "57\n",
      "Nr. of unique level2 names\n",
      "40\n",
      "Nr. of unique names\n",
      "103\n"
     ]
    }
   ],
   "source": [
    "print('Nr. of unique level1 names')\n",
    "print(labelsDF['level1'].nunique())\n",
    "print('Nr. of unique level2 names')\n",
    "print(labelsDF['level2'].nunique())\n",
    "print('Nr. of unique names')\n",
    "print(labelsDF['unique_name'].nunique())"
   ]
  },
  {
   "cell_type": "code",
   "execution_count": 37,
   "metadata": {},
   "outputs": [],
   "source": [
    "number_unique_names = labelsDF.groupby('level2', as_index=True)['id'].count()\n",
    "number_unique_names.sort_values(inplace=True, ascending=False)"
   ]
  },
  {
   "cell_type": "code",
   "execution_count": 38,
   "metadata": {},
   "outputs": [
    {
     "data": {
      "image/png": "[encoded data removed]",
      "text/plain": [
       "<Figure size 1656x1224 with 1 Axes>"
      ]
     },
     "metadata": {},
     "output_type": "display_data"
    }
   ],
   "source": [
    "figure, ax = plt.subplots(figsize=(23,17))\n",
    "ax = sns.barplot(y=number_unique_names.index, x=np.log10(number_unique_names.values))\n",
    "\n",
    "\n",
    "plt.ylabel('Unique plankton level2 label', fontsize= 16)\n",
    "plt.xlabel('log(Nr. of occurances)', fontsize= 16)\n",
    "plt.title('Exponential occurance of different labels', fontsize=16)\n",
    "plt.tight_layout()"
   ]
  },
  {
   "cell_type": "code",
   "execution_count": 44,
   "metadata": {},
   "outputs": [
    {
     "name": "stdout",
     "output_type": "stream",
     "text": [
      "(100, 100)\n"
     ]
    }
   ],
   "source": [
    "# code inspired by https://jdhao.github.io/2017/11/06/resize-image-to-square-with-padding/\n",
    "\n",
    "def image_processing(path):\n",
    "    desired_size = 972 # max of width and height in dataset\n",
    "    im_orginal = Image.open(path)\n",
    "    old_size = im_orginal.size  # old_size[0] is in (width, height) format\n",
    "    \n",
    "    ratio = float(desired_size)/max(old_size)\n",
    "    new_size = tuple([int(x*ratio) for x in old_size])\n",
    "    im_scaled = im_orginal.resize(new_size) # scale up picture before padding to keep information\n",
    "    \n",
    "    delta_w = desired_size - new_size[0]\n",
    "    delta_h = desired_size - new_size[1]\n",
    "    padding = (delta_w//2, delta_h//2, delta_w-(delta_w//2), delta_h-(delta_h//2))\n",
    "    im_padded = ImageOps.expand(im_scaled, padding, fill=255) # padding of scaled picture\n",
    "    \n",
    "    final_size = (100, 100) # input size for CNN\n",
    "    im_final = im_padded.resize(final_size, resample=0) # resize to input size of CNN\n",
    "    img_array = np.array(im_final)\n",
    "    return(img_array)\n",
    "    \n",
    "test = image_processing(img_files['imgs/32582800.jpg']) # test\n",
    "print(test.shape)\n"
   ]
  },
  {
   "cell_type": "code",
   "execution_count": 56,
   "metadata": {},
   "outputs": [],
   "source": [
    "# processes image before training\n",
    "def autoloader(list_of_objid):\n",
    "    list_of_keys = [('imgs/' + str(id) + '.jpg') for id in list_of_objid]\n",
    "    return np.array([image_processing(img_files[key]) for key in list_of_keys])"
   ]
  },
  {
   "cell_type": "code",
   "execution_count": 47,
   "metadata": {},
   "outputs": [
    {
     "data": {
      "text/html": [
       "<div>\n",
       "<style scoped>\n",
       "    .dataframe tbody tr th:only-of-type {\n",
       "        vertical-align: middle;\n",
       "    }\n",
       "\n",
       "    .dataframe tbody tr th {\n",
       "        vertical-align: top;\n",
       "    }\n",
       "\n",
       "    .dataframe thead th {\n",
       "        text-align: right;\n",
       "    }\n",
       "</style>\n",
       "<table border=\"1\" class=\"dataframe\">\n",
       "  <thead>\n",
       "    <tr style=\"text-align: right;\">\n",
       "      <th></th>\n",
       "      <th>objid</th>\n",
       "      <th>area</th>\n",
       "      <th>meanimagegrey</th>\n",
       "      <th>mean</th>\n",
       "      <th>stddev</th>\n",
       "      <th>min</th>\n",
       "      <th>perim.</th>\n",
       "      <th>width</th>\n",
       "      <th>height</th>\n",
       "      <th>major</th>\n",
       "      <th>...</th>\n",
       "      <th>symetriev_area</th>\n",
       "      <th>nb1_area</th>\n",
       "      <th>nb2_area</th>\n",
       "      <th>nb3_area</th>\n",
       "      <th>nb1_range</th>\n",
       "      <th>nb2_range</th>\n",
       "      <th>nb3_range</th>\n",
       "      <th>median_mean</th>\n",
       "      <th>median_mean_range</th>\n",
       "      <th>skeleton_area</th>\n",
       "    </tr>\n",
       "  </thead>\n",
       "  <tbody>\n",
       "    <tr>\n",
       "      <th>0</th>\n",
       "      <td>32756761</td>\n",
       "      <td>6653.0</td>\n",
       "      <td>167.18</td>\n",
       "      <td>205.76</td>\n",
       "      <td>65.341</td>\n",
       "      <td>85</td>\n",
       "      <td>779.66</td>\n",
       "      <td>109</td>\n",
       "      <td>123</td>\n",
       "      <td>147.8</td>\n",
       "      <td>...</td>\n",
       "      <td>0.005988</td>\n",
       "      <td>0.017964</td>\n",
       "      <td>0.017964</td>\n",
       "      <td>0.059880</td>\n",
       "      <td>0.017647</td>\n",
       "      <td>0.017647</td>\n",
       "      <td>0.058824</td>\n",
       "      <td>47</td>\n",
       "      <td>0.276471</td>\n",
       "      <td>91.778443</td>\n",
       "    </tr>\n",
       "    <tr>\n",
       "      <th>1</th>\n",
       "      <td>32759364</td>\n",
       "      <td>1275.0</td>\n",
       "      <td>165.83</td>\n",
       "      <td>234.29</td>\n",
       "      <td>38.562</td>\n",
       "      <td>98</td>\n",
       "      <td>186.99</td>\n",
       "      <td>33</td>\n",
       "      <td>65</td>\n",
       "      <td>82.4</td>\n",
       "      <td>...</td>\n",
       "      <td>0.012048</td>\n",
       "      <td>0.024096</td>\n",
       "      <td>0.012048</td>\n",
       "      <td>0.006024</td>\n",
       "      <td>0.025478</td>\n",
       "      <td>0.012739</td>\n",
       "      <td>0.006369</td>\n",
       "      <td>21</td>\n",
       "      <td>0.133758</td>\n",
       "      <td>18.030120</td>\n",
       "    </tr>\n",
       "    <tr>\n",
       "      <th>2</th>\n",
       "      <td>32758055</td>\n",
       "      <td>2416.0</td>\n",
       "      <td>167.92</td>\n",
       "      <td>239.15</td>\n",
       "      <td>25.590</td>\n",
       "      <td>94</td>\n",
       "      <td>276.33</td>\n",
       "      <td>26</td>\n",
       "      <td>115</td>\n",
       "      <td>138.8</td>\n",
       "      <td>...</td>\n",
       "      <td>0.017857</td>\n",
       "      <td>0.011905</td>\n",
       "      <td>0.053571</td>\n",
       "      <td>0.107143</td>\n",
       "      <td>0.012422</td>\n",
       "      <td>0.055901</td>\n",
       "      <td>0.111801</td>\n",
       "      <td>16</td>\n",
       "      <td>0.099379</td>\n",
       "      <td>24.892857</td>\n",
       "    </tr>\n",
       "    <tr>\n",
       "      <th>3</th>\n",
       "      <td>32758988</td>\n",
       "      <td>1433.0</td>\n",
       "      <td>167.34</td>\n",
       "      <td>248.79</td>\n",
       "      <td>20.933</td>\n",
       "      <td>107</td>\n",
       "      <td>388.40</td>\n",
       "      <td>126</td>\n",
       "      <td>117</td>\n",
       "      <td>151.2</td>\n",
       "      <td>...</td>\n",
       "      <td>0.005988</td>\n",
       "      <td>0.000000</td>\n",
       "      <td>0.000000</td>\n",
       "      <td>0.023952</td>\n",
       "      <td>0.000000</td>\n",
       "      <td>0.000000</td>\n",
       "      <td>0.027027</td>\n",
       "      <td>6</td>\n",
       "      <td>0.040541</td>\n",
       "      <td>99.365269</td>\n",
       "    </tr>\n",
       "    <tr>\n",
       "      <th>4</th>\n",
       "      <td>32760598</td>\n",
       "      <td>1650.0</td>\n",
       "      <td>166.89</td>\n",
       "      <td>250.42</td>\n",
       "      <td>14.603</td>\n",
       "      <td>124</td>\n",
       "      <td>751.96</td>\n",
       "      <td>66</td>\n",
       "      <td>239</td>\n",
       "      <td>278.7</td>\n",
       "      <td>...</td>\n",
       "      <td>0.017964</td>\n",
       "      <td>0.029940</td>\n",
       "      <td>0.083832</td>\n",
       "      <td>0.059880</td>\n",
       "      <td>0.038168</td>\n",
       "      <td>0.106870</td>\n",
       "      <td>0.076336</td>\n",
       "      <td>5</td>\n",
       "      <td>0.038168</td>\n",
       "      <td>109.449102</td>\n",
       "    </tr>\n",
       "  </tbody>\n",
       "</table>\n",
       "<p>5 rows × 65 columns</p>\n",
       "</div>"
      ],
      "text/plain": [
       "      objid    area  meanimagegrey    mean  stddev  min  perim.  width  \\\n",
       "0  32756761  6653.0         167.18  205.76  65.341   85  779.66    109   \n",
       "1  32759364  1275.0         165.83  234.29  38.562   98  186.99     33   \n",
       "2  32758055  2416.0         167.92  239.15  25.590   94  276.33     26   \n",
       "3  32758988  1433.0         167.34  248.79  20.933  107  388.40    126   \n",
       "4  32760598  1650.0         166.89  250.42  14.603  124  751.96     66   \n",
       "\n",
       "   height  major      ...        symetriev_area  nb1_area  nb2_area  nb3_area  \\\n",
       "0     123  147.8      ...              0.005988  0.017964  0.017964  0.059880   \n",
       "1      65   82.4      ...              0.012048  0.024096  0.012048  0.006024   \n",
       "2     115  138.8      ...              0.017857  0.011905  0.053571  0.107143   \n",
       "3     117  151.2      ...              0.005988  0.000000  0.000000  0.023952   \n",
       "4     239  278.7      ...              0.017964  0.029940  0.083832  0.059880   \n",
       "\n",
       "   nb1_range  nb2_range  nb3_range  median_mean  median_mean_range  \\\n",
       "0   0.017647   0.017647   0.058824           47           0.276471   \n",
       "1   0.025478   0.012739   0.006369           21           0.133758   \n",
       "2   0.012422   0.055901   0.111801           16           0.099379   \n",
       "3   0.000000   0.000000   0.027027            6           0.040541   \n",
       "4   0.038168   0.106870   0.076336            5           0.038168   \n",
       "\n",
       "   skeleton_area  \n",
       "0      91.778443  \n",
       "1      18.030120  \n",
       "2      24.892857  \n",
       "3      99.365269  \n",
       "4     109.449102  \n",
       "\n",
       "[5 rows x 65 columns]"
      ]
     },
     "execution_count": 47,
     "metadata": {},
     "output_type": "execute_result"
    }
   ],
   "source": [
    "nativeDF['objid'] = nativeDF['objid'].astype(np.int64, errors='ignore')\n",
    "nativeDF[:5]"
   ]
  },
  {
   "cell_type": "code",
   "execution_count": 59,
   "metadata": {},
   "outputs": [
    {
     "name": "stdout",
     "output_type": "stream",
     "text": [
      "(5, 100, 100)\n"
     ]
    }
   ],
   "source": [
    "list_objid = list(nativeDF['objid'][:5])\n",
    "imgs = autoloader(list_objid)\n",
    "print(imgs.shape)"
   ]
  },
  {
   "cell_type": "code",
   "execution_count": null,
   "metadata": {},
   "outputs": [],
   "source": []
  }
 ],
 "metadata": {
  "kernelspec": {
   "display_name": "Python 3",
   "language": "python",
   "name": "python3"
  },
  "language_info": {
   "codemirror_mode": {
    "name": "ipython",
    "version": 3
   },
   "file_extension": ".py",
   "mimetype": "text/x-python",
   "name": "python",
   "nbconvert_exporter": "python",
   "pygments_lexer": "ipython3",
   "version": "3.5.2"
  }
 },
 "nbformat": 4,
 "nbformat_minor": 2
}
