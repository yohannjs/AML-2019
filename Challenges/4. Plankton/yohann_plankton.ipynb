{
 "cells": [
  {
   "cell_type": "markdown",
   "metadata": {},
   "source": [
    "[Notebook of task](https://github.com/DistributedSystemsGroup/Algorithmic-Machine-Learning/blob/master/Challenges/Plankton/plankton_challenge.ipynb)\n",
    "\n",
    "# Useful websites and articles\n",
    "- [Data augmentation part 1](https://medium.com/nanonets/nanonets-how-to-use-deep-learning-when-you-have-limited-data-f68c0b512cab)\n",
    "- [Data augmentation part 2](https://medium.com/nanonets/how-to-use-deep-learning-when-you-have-limited-data-part-2-data-augmentation-c26971dc8ced)\n",
    "\n",
    "### Libraries for Deep NNs\n",
    "Most relevant\n",
    "- [TensorFlow](https://www.tensorflow.org/)\n",
    "- [Keras](https://keras.io/)\n",
    "- [Theano](http://deeplearning.net/software/theano/)\n",
    "\n",
    "Less relevant (mostly for GPU optimisation)\n",
    "- [Caffe](http://caffe.berkeleyvision.org/)\n",
    "- [Neon](https://www.intel.ai/neon-2-0-optimized-for-intel-architectures/)\n"
   ]
  },
  {
   "cell_type": "markdown",
   "metadata": {},
   "source": [
    "# Gjenstående oppgaver\n",
    "\n",
    "- Generere mer data, for å gjevne ut dataset \n",
    "- Lage funksjon for å laste bilder inn i minne, uten å fylle det opp\n",
    "- Teste ut forskjellige CNN arkitekturer\n",
    " - input -> (conv -> pool)*2 -> fc -> softmax\n",
    " - input -> (conv -> conv -> pool)*3-4 -> fc -> fc -> softmax\n",
    "- Lage feature recognition model\n",
    "- Data exploration"
   ]
  },
  {
   "cell_type": "code",
   "execution_count": 70,
   "metadata": {},
   "outputs": [],
   "source": [
    "%matplotlib inline\n",
    "# For configuration and jupiter\n",
    "import os\n",
    "import sys\n",
    "import re\n",
    "import random\n",
    "import matplotlib\n",
    "import implicit\n",
    "import warnings\n",
    "# For data manipulation\n",
    "import pandas as pd\n",
    "import numpy as np\n",
    "# For visualization\n",
    "import matplotlib.pyplot as plt\n",
    "import seaborn as sns\n",
    "# For prediction\n",
    "from tqdm import tqdm\n",
    "\n",
    "# code inspired by https://jdhao.github.io/2017/11/06/resize-image-to-square-with-padding/\n",
    "import zipfile\n",
    "from extract_zip import extract_zip_to_memory # function for decompressing zip in memory\n",
    "from PIL import Image, ImageOps # image handling\n",
    "from io import BytesIO # image handling\n",
    "\n",
    "base = '/mnt/datasets/plankton/flowcam/'\n",
    "\n",
    "# Nr of picture/rows = 243 611"
   ]
  },
  {
   "cell_type": "code",
   "execution_count": 71,
   "metadata": {},
   "outputs": [],
   "source": [
    "image_filename = base + \"imgs.zip\"\n",
    "imgFiles = extract_zip_to_memory(image_filename)"
   ]
  },
  {
   "cell_type": "code",
   "execution_count": 72,
   "metadata": {},
   "outputs": [
    {
     "name": "stdout",
     "output_type": "stream",
     "text": [
      "<_io.BytesIO object at 0x7f955e70ed58>\n"
     ]
    }
   ],
   "source": [
    "print(imgFiles['imgs/32738710.jpg'])"
   ]
  },
  {
   "cell_type": "code",
   "execution_count": 73,
   "metadata": {},
   "outputs": [
    {
     "data": {
      "text/plain": [
       "['imgs/32563660.jpg',\n",
       " 'imgs/32735552.jpg',\n",
       " 'imgs/32627324.jpg',\n",
       " 'imgs/32675640.jpg',\n",
       " 'imgs/32723573.jpg']"
      ]
     },
     "execution_count": 73,
     "metadata": {},
     "output_type": "execute_result"
    }
   ],
   "source": [
    "list(imgFiles.keys())[:5]"
   ]
  },
  {
   "cell_type": "code",
   "execution_count": 74,
   "metadata": {},
   "outputs": [
    {
     "name": "stdout",
     "output_type": "stream",
     "text": [
      "[[255 255 255 ... 255 255 255]\n",
      " [255 255 255 ... 255 255 255]\n",
      " [255 255 255 ... 255 255 255]\n",
      " ...\n",
      " [255 255 255 ... 255 255 255]\n",
      " [255 255 255 ... 255 255 255]\n",
      " [255 255 255 ... 255 255 255]]\n"
     ]
    }
   ],
   "source": [
    "img_array = np.array(Image.open(imgFiles['imgs/32738710.jpg']))\n",
    "print(img_array)"
   ]
  },
  {
   "cell_type": "code",
   "execution_count": 75,
   "metadata": {},
   "outputs": [
    {
     "data": {
      "image/png": "[encoded data removed]",
      "text/plain": [
       "<PIL.JpegImagePlugin.JpegImageFile image mode=L size=50x55 at 0x7F957023F940>"
      ]
     },
     "execution_count": 75,
     "metadata": {},
     "output_type": "execute_result"
    }
   ],
   "source": [
    "Image.open(imgFiles['imgs/32738710.jpg'])"
   ]
  },
  {
   "cell_type": "code",
   "execution_count": 76,
   "metadata": {},
   "outputs": [],
   "source": [
    "nativeDF = pd.read_csv(base + 'features_native.csv.gz')\n",
    "skimagDF = pd.read_csv(base + 'features_skimage.csv.gz')\n",
    "labelsDF = pd.read_csv(base + 'meta.csv')"
   ]
  },
  {
   "cell_type": "code",
   "execution_count": 77,
   "metadata": {},
   "outputs": [],
   "source": [
    "#print(nativeDF.isnull().sum().sort_values(ascending=False)[:10])\n",
    "#print(skimagDF.isnull().sum().sort_values(ascending=False)[:6])\n",
    "\n",
    "native_nan_cols = ['perimareaexc', 'feretareaexc', 'cdexc', 'skeleton_area',\n",
    "                   'nb1_area', 'symetrieh_area', 'symetriev_area', 'convarea_area',\n",
    "                  'nb2_area', 'nb3_area', ]\n",
    "skimage_nan_cols = ['moments_normalized4', 'weighted_moments_normalized0', \n",
    "                    'moments_normalized1', 'moments_normalized0',\n",
    "                   'weighted_moments_normalized1', 'weighted_moments_normalized4']"
   ]
  },
  {
   "cell_type": "code",
   "execution_count": 78,
   "metadata": {},
   "outputs": [
    {
     "name": "stdout",
     "output_type": "stream",
     "text": [
      "False\n",
      "False\n",
      "False\n"
     ]
    }
   ],
   "source": [
    "for col_name in native_nan_cols:\n",
    "    nativeDF[col_name] = nativeDF[col_name].fillna(0)\n",
    "\n",
    "for col_name in skimage_nan_cols:\n",
    "    skimagDF[col_name] = skimagDF[col_name].fillna(0)\n",
    "\n",
    "labelsDF['objid'] = labelsDF['objid'].astype(np.int64, errors='ignore')\n",
    "labelsDF['level1'] = labelsDF['level1'].fillna('No level1 name')\n",
    "labelsDF['level2'] = labelsDF['level2'].fillna('No level2 name')\n",
    "\n",
    "print(nativeDF.isnull().sum().any())\n",
    "print(skimagDF.isnull().sum().any())\n",
    "print(labelsDF.isnull().sum().any())"
   ]
  },
  {
   "cell_type": "code",
   "execution_count": 79,
   "metadata": {},
   "outputs": [
    {
     "name": "stdout",
     "output_type": "stream",
     "text": [
      "Nr. of unique level1 names\n",
      "57\n",
      "Nr. of unique level2 names\n",
      "40\n",
      "Nr. of unique names\n",
      "103\n"
     ]
    }
   ],
   "source": [
    "print('Nr. of unique level1 names')\n",
    "print(labelsDF['level1'].nunique())\n",
    "print('Nr. of unique level2 names')\n",
    "print(labelsDF['level2'].nunique())\n",
    "print('Nr. of unique names')\n",
    "print(labelsDF['unique_name'].nunique())"
   ]
  },
  {
   "cell_type": "code",
   "execution_count": 80,
   "metadata": {},
   "outputs": [],
   "source": [
    "number_unique_names = labelsDF.groupby('level2', as_index=True)['id'].count()\n",
    "number_unique_names.sort_values(inplace=True, ascending=False)"
   ]
  },
  {
   "cell_type": "code",
   "execution_count": 91,
   "metadata": {},
   "outputs": [
    {
     "data": {
      "image/png": "[encoded data removed]",
      "text/plain": [
       "<Figure size 1656x1224 with 1 Axes>"
      ]
     },
     "metadata": {},
     "output_type": "display_data"
    }
   ],
   "source": [
    "figure, ax = plt.subplots(figsize=(23,17))\n",
    "ax = sns.barplot(y=number_unique_names.index, x=np.log10(number_unique_names.values))\n",
    "# ax.set_xticklabels(ax.get_xticklabels(), rotation=45, ha=\"right\")\n",
    "\n",
    "'''for p in ax.patches:\n",
    "    ax.annotate(format(p.get_height(), '.2f'),\n",
    "                (p.get_x() + p.get_width() / 2., p.get_height()),\n",
    "                ha = 'center',\n",
    "                va = 'center',\n",
    "                xytext = (0, 10),\n",
    "                textcoords = 'offset points')'''\n",
    "\n",
    "for p in ax.patches:\n",
    "    ax.annotate(format(p.get_width(),'.2f'), \n",
    "                (p.get_x() + p.get_width() / 2., p.get_width()),\n",
    "                ha = 'center',\n",
    "                va = 'center',\n",
    "                xytext = (0, 10),\n",
    "                textcoords = 'offset points')\n",
    "\n",
    "plt.ylabel('Unique plankton level2 label', fontsize= 16)\n",
    "plt.xlabel('log(Nr. of occurances)', fontsize= 16)\n",
    "plt.title('Exponential occurance of different labels', fontsize=16)\n",
    "plt.tight_layout()"
   ]
  },
  {
   "cell_type": "code",
   "execution_count": 83,
   "metadata": {},
   "outputs": [
    {
     "name": "stdout",
     "output_type": "stream",
     "text": [
      "Label: detr has 138439 object IDs.\n",
      "Label: Rhiz has 2160 object IDs.\n",
      "Label: silk has 5629 object IDs.\n",
      "Label: fece has 26936 object IDs.\n",
      "Label: Codo has 845 object IDs.\n",
      "Label: Aste has 117 object IDs.\n",
      "Label: Codo has 2888 object IDs.\n",
      "Label: Dict has 549 object IDs.\n",
      "Label: Neoc has 14014 object IDs.\n",
      "Label: Cope has 5141 object IDs.\n",
      "Label: Cosc has 334 object IDs.\n",
      "Label: naup has 9293 object IDs.\n",
      "Label: Prot has 2256 object IDs.\n",
      "Label: Anne has 481 object IDs.\n",
      "Label: Cera has 186 object IDs.\n",
      "Label: Dino has 525 object IDs.\n",
      "Label: Chae has 2105 object IDs.\n",
      "Label: Thal has 5117 object IDs.\n",
      "Label: Unde has 710 object IDs.\n",
      "Label: rods has 4044 object IDs.\n",
      "Label: Hemi has 670 object IDs.\n",
      "Label: Tint has 2227 object IDs.\n",
      "Label: No l has 1003 object IDs.\n",
      "Label: poll has 1821 object IDs.\n",
      "Label: Reta has 257 object IDs.\n",
      "Label: mult has 3261 object IDs.\n",
      "Label: Rhab has 367 object IDs.\n",
      "Label: chai has 751 object IDs.\n",
      "Label: arte has 1849 object IDs.\n",
      "Label: Pleu has 191 object IDs.\n",
      "Label: Odon has 131 object IDs.\n",
      "Label: cent has 145 object IDs.\n",
      "Label: Cytt has 100 object IDs.\n",
      "Label: badf has 7848 object IDs.\n",
      "Label: egg  has 685 object IDs.\n",
      "Label: Sten has 357 object IDs.\n",
      "Label: Xyst has 37 object IDs.\n",
      "Label: Lith has 68 object IDs.\n",
      "Label: temp has 61 object IDs.\n",
      "Label: Bact has 12 object IDs.\n"
     ]
    }
   ],
   "source": [
    "# Fetching the object ids that pertain to specific labels\n",
    "unique_names = labelsDF['level2'].unique()\n",
    "original_objid_dict = {}\n",
    "\n",
    "for name in unique_names:\n",
    "    objid_label = list(labelsDF.loc[labelsDF['level2'] == name, 'objid'])\n",
    "    original_objid_dict.update({name : objid_label})\n",
    "    print('Label:', name[:4], 'has', len(objid_label), 'object IDs.')"
   ]
  },
  {
   "cell_type": "code",
   "execution_count": 60,
   "metadata": {},
   "outputs": [],
   "source": [
    "def strip(key):\n",
    "    return int(key[5:-4])\n",
    "\n",
    "def key_to_objid(list_of_keys):\n",
    "    return [strip(key) for key in list_of_keys]\n",
    "\n",
    "def reverse_strip(objid):\n",
    "    return 'imgs/' + str(objid) + '.jpg'\n",
    "\n",
    "def objid_to_key(list_of_objids):\n",
    "    return [reverse_strip(objid) for objid in list_of_objids]\n",
    "\n",
    "def image_processing(key):\n",
    "    desired_size = 972 # max of width and height in dataset\n",
    "    if str(strip(key))[0] == '3':\n",
    "        im_orginal = Image.open(imgFiles[key])\n",
    "    else:\n",
    "        im_orginal = Image.fromarray(imgFiles[key])\n",
    "    old_size = im_orginal.size  # old_size[0] is in (width, height) format\n",
    "    \n",
    "    ratio = float(desired_size)/max(old_size)\n",
    "    new_size = tuple([int(x*ratio) for x in old_size])\n",
    "    im_scaled = im_orginal.resize(new_size) # scale up picture before padding to keep information\n",
    "    \n",
    "    delta_w = desired_size - new_size[0]\n",
    "    delta_h = desired_size - new_size[1]\n",
    "    padding = (delta_w//2, delta_h//2, delta_w-(delta_w//2), delta_h-(delta_h//2))\n",
    "    im_padded = ImageOps.expand(im_scaled, padding, fill=255) # padding of scaled picture\n",
    "    \n",
    "    final_size = (100, 100) # input size for CNN\n",
    "    im_final = im_padded.resize(final_size, resample=0) # resize to input size of CNN\n",
    "    return np.array(im_final)\n",
    "\n",
    "def autoloader(list_of_keys):\n",
    "    return np.array([image_processing(key) for key in list_of_keys])\n",
    "\n",
    "def fetch_labels(list_of_keys, lvl='level2'):\n",
    "    list_of_objid = key_to_objid(list_of_keys)\n",
    "    labels = []\n",
    "    for objid in list_of_objid:\n",
    "        label = list(labelsDF[labelsDF['objid']==objid][lvl])\n",
    "        labels.append(label[0])\n",
    "    return labels"
   ]
  },
  {
   "cell_type": "code",
   "execution_count": 61,
   "metadata": {},
   "outputs": [
    {
     "name": "stdout",
     "output_type": "stream",
     "text": [
      "True\n"
     ]
    }
   ],
   "source": [
    "truthS = labelsDF['objid'].astype(str)\n",
    "truth2 = truthS[:5]\n",
    "flag = True\n",
    "for items in truth2.iteritems():\n",
    "    if (items[1][0] != '3'):\n",
    "        flag = False\n",
    "print(flag)"
   ]
  },
  {
   "cell_type": "code",
   "execution_count": 67,
   "metadata": {},
   "outputs": [],
   "source": [
    "def generate_new_keys(key):\n",
    "    stripped_key = str(strip(key))\n",
    "    key_lr = reverse_strip('8' + stripped_key[1:])\n",
    "    key_ud = reverse_strip('1' + stripped_key[1:])\n",
    "    key_90 = reverse_strip('2' + stripped_key[1:])\n",
    "    key_180 = reverse_strip('4' + stripped_key[1:])\n",
    "    key_270 = reverse_strip('5' + stripped_key[1:])\n",
    "    key_t1 = reverse_strip('6' + stripped_key[1:])\n",
    "    key_t2 = reverse_strip('7' + stripped_key[1:])\n",
    "    return {'lr' : key_lr, 'ud' : key_ud, '90' : key_90, '180' : key_180,\n",
    "                '270' : key_270, 't1' : key_t1, 't2' : key_t2}\n",
    "\n",
    "def generate_duplicates(key, image_files=imgFiles, label_DF=labelsDF):\n",
    "    # Fetching and making numpy array of original object\n",
    "    jpeg_img_object = Image.open(image_files[key])\n",
    "    img_np_array = np.array(jpeg_img_object)\n",
    "    \n",
    "    # Generating copies of data using numpy functions for flipping, rotating and transposing\n",
    "    img_flipped_ud = np.flip(img_np_array, 0)\n",
    "    img_flipped_lr = np.flip(img_np_array, 1)\n",
    "    img_rot_90 = np.rot90(img_np_array, k=1)\n",
    "    img_rot_180 = np.rot90(img_np_array, k=2)\n",
    "    img_rot_270 = np.rot90(img_np_array, k=3)\n",
    "    img_tran_1 = np.transpose(img_np_array)\n",
    "    img_tran_2 = np.flip(np.transpose(np.flip(img_np_array, 1)), 1)\n",
    "    \n",
    "    nrCopies = 7\n",
    "    \n",
    "    # Generating new keys\n",
    "    key_dict = generate_new_keys(key) \n",
    "    # Updating dictionary of images with new data\n",
    "    image_files.update({key_dict['ud'] : img_flipped_ud, key_dict['lr'] : img_flipped_lr, \n",
    "                      key_dict['90'] : img_rot_90, key_dict['180'] : img_rot_180, \n",
    "                      key_dict['270'] : img_rot_270, key_dict['t1'] : img_tran_1, \n",
    "                      key_dict['t2'] : img_tran_2})\n",
    "    \n",
    "    # Generating new labels\n",
    "    truth_array = label_DF['objid'].isin([strip(key)])\n",
    "    label_2_copy = label_DF[truth_array]\n",
    "    copied_labels = label_2_copy\n",
    "    for i in range(nrCopies - 1):\n",
    "        copied_labels = copied_labels.append(label_2_copy, ignore_index=True)\n",
    "    \n",
    "    new_keys = list(key_dict.values())\n",
    "    for i in range(nrCopies):\n",
    "        copied_labels.at[i, 'objid'] = strip(new_keys[i])\n",
    "    \n",
    "    # Update label_DF\n",
    "    label_DF = label_DF.append(copied_labels, ignore_index=True)\n",
    "    return image_files, label_DF\n",
    "\n",
    "# testkey = 'imgs/32606329.jpg'\n",
    "# imgFiles, labelsDF = generate_duplicates(testkey)\n",
    "# print(imgFiles[testkey])\n",
    "# print(fetch_labels([testkey]))"
   ]
  },
  {
   "cell_type": "code",
   "execution_count": null,
   "metadata": {},
   "outputs": [],
   "source": [
    "# Actually generate more data\n"
   ]
  },
  {
   "cell_type": "code",
   "execution_count": null,
   "metadata": {},
   "outputs": [],
   "source": [
    "img_files_keys = list(imgFiles.keys())\n",
    "\n",
    "# Divide data into trainingand test data, by keys\n",
    "from sklearn.model_selection import train_test_split\n",
    "seed = 1\n",
    "test_size = 0.10\n",
    "keys_train, keys_test = train_test_split(img_files_keys, test_size = test_size, random_state = seed)\n",
    "\n",
    "# Make small test and validation set, to explore models. \n",
    "size_small_train, size_small_validation = 50000, 9000\n",
    "small_keys_train = keys_test[size_small_validation:(size_small_validation + size_small_train)]\n",
    "small_keys_validation = keys_train[:size_small_validation]"
   ]
  },
  {
   "cell_type": "code",
   "execution_count": null,
   "metadata": {},
   "outputs": [],
   "source": [
    "# We want to label-encode the different categories so we can one-hot encode them.  \n",
    "from sklearn.preprocessing import LabelEncoder\n",
    "from keras.utils import to_categorical\n",
    "\n",
    "# Fetch pictures and labels, corresponding to keys.\n",
    "# train\n",
    "X_train = autoloader(small_keys_train)\n",
    "y_train = fetch_labels(small_keys_train)\n",
    "# test\n",
    "X_test = autoloader(small_keys_validation)\n",
    "y_test = fetch_labels(small_keys_validation)\n",
    "\n",
    "# label encode target column\n",
    "le = LabelEncoder()\n",
    "y_train = le.fit_transform(y_train)\n",
    "y_test = le.fit_transform(y_test)\n",
    "\n",
    "# one-hot encode target column\n",
    "y_train = to_categorical(y_train)\n",
    "y_test = to_categorical(y_test)\n",
    "\n",
    "# Reshape input data to account for images only being greyscale\n",
    "X_train = X_train.reshape(size_small_train, 100, 100, 1)\n",
    "X_test = X_test.reshape(size_small_validation, 100, 100, 1)"
   ]
  },
  {
   "cell_type": "code",
   "execution_count": null,
   "metadata": {},
   "outputs": [],
   "source": [
    "print('y_train shape:', y_train.shape)\n",
    "print('y_test shape:', y_test.shape)"
   ]
  },
  {
   "cell_type": "code",
   "execution_count": null,
   "metadata": {},
   "outputs": [],
   "source": [
    "# Building the CNN\n",
    "from keras.models import Sequential\n",
    "from keras.layers import Dense, Conv2D, Flatten\n",
    "\n",
    "# # Create model\n",
    "model = Sequential()\n",
    "\n",
    "# input -> conv(128) -> conv(32) -> flatten -> fc -> softmax\n",
    "# Add model layers\n",
    "model.add(Conv2D(128, kernel_size=3, activation='relu', input_shape=(100,100,1)))\n",
    "model.add(Conv2D(32, kernel_size=3, activation='relu'))\n",
    "model.add(Flatten())\n",
    "model.add(Dense(40, activation='softmax'))\n",
    "\n",
    "# # Compile model using accuracy to measure model performance\n",
    "model.compile(optimizer='adam', loss='categorical_crossentropy', metrics=['accuracy'])\n",
    "\n",
    "# # Train the model\n",
    "model.fit(X_train, y_train, validation_data=(X_test, y_test), epochs=3)"
   ]
  }
 ],
 "metadata": {
  "kernelspec": {
   "display_name": "Python 3",
   "language": "python",
   "name": "python3"
  },
  "language_info": {
   "codemirror_mode": {
    "name": "ipython",
    "version": 3
   },
   "file_extension": ".py",
   "mimetype": "text/x-python",
   "name": "python",
   "nbconvert_exporter": "python",
   "pygments_lexer": "ipython3",
   "version": "3.5.2"
  }
 },
 "nbformat": 4,
 "nbformat_minor": 2
}
