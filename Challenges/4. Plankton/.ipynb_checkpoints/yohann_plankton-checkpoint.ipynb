{
 "cells": [
  {
   "cell_type": "markdown",
   "metadata": {},
   "source": [
    "[Notebook of task](https://github.com/DistributedSystemsGroup/Algorithmic-Machine-Learning/blob/master/Challenges/Plankton/plankton_challenge.ipynb)\n",
    "\n",
    "# Useful websites and articles\n",
    "\n",
    "### Libraries for Deep NNs\n",
    "Most relevant\n",
    "- [TensorFlow](https://www.tensorflow.org/)\n",
    "- [Keras](https://keras.io/)\n",
    "- [Theano](http://deeplearning.net/software/theano/)\n",
    "\n",
    "Less relevant (mostly for GPU optimisation)\n",
    "- [Caffe](http://caffe.berkeleyvision.org/)\n",
    "- [Neon](https://www.intel.ai/neon-2-0-optimized-for-intel-architectures/)"
   ]
  },
  {
   "cell_type": "code",
   "execution_count": 3,
   "metadata": {},
   "outputs": [],
   "source": [
    "%matplotlib inline\n",
    "# For configuration and jupiter\n",
    "import os\n",
    "import sys\n",
    "import re\n",
    "import random\n",
    "import matplotlib\n",
    "import implicit\n",
    "import warnings\n",
    "# For data manipulation\n",
    "import pandas as pd\n",
    "import numpy as np\n",
    "# For visualization\n",
    "import matplotlib.pyplot as plt\n",
    "import seaborn as sns\n",
    "# For prediction\n",
    "from tqdm import tqdm\n",
    "# import tensorflow as tf\n",
    "# Unable to import TF...\n",
    "\n",
    "\n",
    "\n",
    "import zipfile\n",
    "from io import BytesIO\n",
    "from PIL import Image\n",
    "\n",
    "def extract_zip_to_memory(input_zip):\n",
    "    '''\n",
    "    This function extracts the images stored inside the given zip file.\n",
    "    It stores the result in a python dictionary.\n",
    "    \n",
    "    input_zip (string): path to the zip file\n",
    "    \n",
    "    returns (dict): {filename (string): image_file (bytes)}\n",
    "    '''\n",
    "    input_zip=zipfile.ZipFile(input_zip)\n",
    "    return {name: BytesIO(input_zip.read(name)) for name in input_zip.namelist() if name.endswith('.jpg')}\n",
    "\n",
    "\n",
    "# img_files = extract_zip_to_memory(\"imgs.zip\")\n",
    "\n",
    "# Display an example image \n",
    "# Image.open(img_files['imgs/32738710.jpg'])\n",
    "\n",
    "# Load the image as a numpy array:\n",
    "# np_arr = np.array(Image.open(img_files['imgs/32738710.jpg']))\n",
    "\n",
    "# Be aware that the dictionary will occupy roughly 2GB of computer memory!\n",
    "# To free this memory again, run:\n",
    "# del img_files\n",
    "base = '/mnt/datasets/plankton/flowcam/'\n",
    "\n",
    "# Nr of picture/rows = 243 611"
   ]
  },
  {
   "cell_type": "code",
   "execution_count": 6,
   "metadata": {},
   "outputs": [],
   "source": [
    "image_filename = base + \"imgs.zip\"\n",
    "img_files = extract_zip_to_memory(image_filename)"
   ]
  },
  {
   "cell_type": "code",
   "execution_count": 7,
   "metadata": {},
   "outputs": [
    {
     "name": "stdout",
     "output_type": "stream",
     "text": [
      "<_io.BytesIO object at 0x7f3f052c9a98>\n"
     ]
    }
   ],
   "source": [
    "print(img_files['imgs/32738710.jpg'])"
   ]
  },
  {
   "cell_type": "code",
   "execution_count": 8,
   "metadata": {},
   "outputs": [
    {
     "data": {
      "text/plain": [
       "['imgs/32599711.jpg',\n",
       " 'imgs/32584610.jpg',\n",
       " 'imgs/32616991.jpg',\n",
       " 'imgs/32670752.jpg',\n",
       " 'imgs/32632598.jpg']"
      ]
     },
     "execution_count": 8,
     "metadata": {},
     "output_type": "execute_result"
    }
   ],
   "source": [
    "list(img_files.keys())[:5]"
   ]
  },
  {
   "cell_type": "code",
   "execution_count": 9,
   "metadata": {},
   "outputs": [],
   "source": [
    "img_array = np.array(Image.open(img_files['imgs/32738710.jpg'])).shape"
   ]
  },
  {
   "cell_type": "code",
   "execution_count": 10,
   "metadata": {},
   "outputs": [
    {
     "data": {
      "image/png": "[encoded data removed]",
      "text/plain": [
       "<PIL.JpegImagePlugin.JpegImageFile image mode=L size=50x55 at 0x7F3F2C505CC0>"
      ]
     },
     "execution_count": 10,
     "metadata": {},
     "output_type": "execute_result"
    }
   ],
   "source": [
    "Image.open(img_files['imgs/32738710.jpg'])"
   ]
  },
  {
   "cell_type": "code",
   "execution_count": 4,
   "metadata": {},
   "outputs": [],
   "source": [
    "nativeDF = pd.read_csv(base + 'features_native.csv.gz')\n",
    "skimagDF = pd.read_csv(base + 'features_skimage.csv.gz')\n",
    "labelsDF = pd.read_csv(base + 'meta.csv')"
   ]
  },
  {
   "cell_type": "code",
   "execution_count": 10,
   "metadata": {},
   "outputs": [],
   "source": [
    "#print(nativeDF.isnull().sum().sort_values(ascending=False)[:10])\n",
    "#print(skimagDF.isnull().sum().sort_values(ascending=False)[:6])\n",
    "native_nan_cols = ['perimareaexc', 'feretareaexc', 'cdexc', 'skeleton_area',\n",
    "                   'nb1_area', 'symetrieh_area', 'symetriev_area', 'convarea_area',\n",
    "                  'nb2_area', 'nb3_area', ]\n",
    "skimage_nan_cols = ['moments_normalized4', 'weighted_moments_normalized0', \n",
    "                    'moments_normalized1', 'moments_normalized0',\n",
    "                   'weighted_moments_normalized1', 'weighted_moments_normalized4']"
   ]
  },
  {
   "cell_type": "code",
   "execution_count": 14,
   "metadata": {},
   "outputs": [
    {
     "name": "stdout",
     "output_type": "stream",
     "text": [
      "False\n",
      "False\n",
      "False\n"
     ]
    }
   ],
   "source": [
    "for col_name in native_nan_cols:\n",
    "    nativeDF[col_name] = nativeDF[col_name].fillna(0)\n",
    "\n",
    "for col_name in skimage_nan_cols:\n",
    "    skimagDF[col_name] = skimagDF[col_name].fillna(0)\n",
    "\n",
    "labelsDF['level1'] = labelsDF['level1'].fillna(0)\n",
    "labelsDF['level2'] = labelsDF['level2'].fillna(0)\n",
    "\n",
    "print(nativeDF.isnull().sum().any())\n",
    "print(skimagDF.isnull().sum().any())\n",
    "print(labelsDF.isnull().sum().any())"
   ]
  },
  {
   "cell_type": "code",
   "execution_count": 19,
   "metadata": {},
   "outputs": [
    {
     "name": "stdout",
     "output_type": "stream",
     "text": [
      "Nr. of unique level1 names\n",
      "57\n",
      "Nr. of unique level2 names\n",
      "40\n",
      "Nr. of unique names\n",
      "103\n"
     ]
    }
   ],
   "source": [
    "print('Nr. of unique level1 names')\n",
    "print(labelsDF['level1'].nunique())\n",
    "print('Nr. of unique level2 names')\n",
    "print(labelsDF['level2'].nunique())\n",
    "print('Nr. of unique names')\n",
    "print(labelsDF['unique_name'].nunique())"
   ]
  },
  {
   "cell_type": "code",
   "execution_count": null,
   "metadata": {},
   "outputs": [],
   "source": []
  }
 ],
 "metadata": {
  "kernelspec": {
   "display_name": "Python 3",
   "language": "python",
   "name": "python3"
  },
  "language_info": {
   "codemirror_mode": {
    "name": "ipython",
    "version": 3
   },
   "file_extension": ".py",
   "mimetype": "text/x-python",
   "name": "python",
   "nbconvert_exporter": "python",
   "pygments_lexer": "ipython3",
   "version": "3.5.2"
  }
 },
 "nbformat": 4,
 "nbformat_minor": 2
}
