{
 "cells": [
  {
   "cell_type": "markdown",
   "metadata": {},
   "source": [
    "# TO DO LIST FOR ANOMALY DETECTION\n",
    "\n",
    "* [ ] **Summary**\n",
    "* [ ] **Introduction**\n",
    "* [ ] **Data exploration**\n",
    "    * [ ] Data cleaning\n",
    "        * [X] Naming the different columns\n",
    "        * [X] Showing the different NaN values in the labelDF\n",
    "        * [X] Showing the different NaN values in the dataDF\n",
    "    * [ ] Computing descriptive statistics\n",
    "        * [X] Showing the occurance rate of the different anomalies\n",
    "        * [X] Showing the correlation of the different 'checks' with each other\n",
    "        * [ ] Showing the correlation of the different dataDF columns with each other\n",
    "* [ ] **Data pre-processing**\n",
    "    * [ ] Handling missing data in the labelDF\n",
    "        * [ ] Group data wrt. non-NaN values in one 'check' (only possible if we use many binary classification models?)\n",
    "        * [ ] Fill the NaNs in each check with -1, such that each 'check' becomes a multi-class classification problem. \n",
    "    * [ ] Handling errors in the data-set?\n",
    "    * [ ] Feature selection\n",
    "        * [ ] PCA\n",
    "* [ ] **Model selection**\n",
    "    * [ ] Models to consider\n",
    "        * [ ] Rule based systems\n",
    "            * [ ] Scalable Bayesian Rule Lists (SBRL)\n",
    "            * [ ] Ripper (If there is time)\n",
    "            * [ ] Bayesian Rule Sets (If there is time)\n",
    "        * [ ] Ensamble of single label classification models\n",
    "            * [ ] Random forrest\n",
    "            * [ ] Extra trees\n",
    "            * [ ] MLP\n",
    "            * [ ] KNeighboors\n",
    "            * [ ] SVM\n",
    "            * [ ] CNN(?)\n",
    "        * [ ] Multi-label classification models\n",
    "            * [ ] \n",
    "    * [ ] Things to consider when choosing model\n",
    "        * [ ] Complexity\n",
    "        * [ ] Interpretability\n",
    "        * [ ] How is model capable of handling unbalanced dataset\n",
    "            * [ ] F1-score\n",
    "        * [ ] How is model capable of handling missing values\n",
    "        \n",
    "* [ ] **Model evaluation**\n",
    "    * [ ] Accuracy\n",
    "    * [ ] F1-score\n",
    "    * [ ] Exact match ratio\n",
    "    * [ ] Hamming loss\n",
    "* [ ] **Parameter optim**\n",
    "* [ ] **Conclusion**"
   ]
  },
  {
   "cell_type": "code",
   "execution_count": null,
   "metadata": {},
   "outputs": [],
   "source": []
  }
 ],
 "metadata": {
  "kernelspec": {
   "display_name": "Python 3",
   "language": "python",
   "name": "python3"
  },
  "language_info": {
   "codemirror_mode": {
    "name": "ipython",
    "version": 3
   },
   "file_extension": ".py",
   "mimetype": "text/x-python",
   "name": "python",
   "nbconvert_exporter": "python",
   "pygments_lexer": "ipython3",
   "version": "3.5.2"
  }
 },
 "nbformat": 4,
 "nbformat_minor": 2
}
