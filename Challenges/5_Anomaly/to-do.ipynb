{
 "cells": [
  {
   "cell_type": "markdown",
   "metadata": {},
   "source": [
    "# TO DO LIST FOR ANOMALY DETECTION\n",
    "\n",
    "* [ ] **Summary**\n",
    "* [ ] **Introduction**\n",
    "* [ ] **Data exploration** - Yohann\n",
    "    * [X] Data cleaning\n",
    "        * [X] Naming the different columns\n",
    "        * [X] Showing the different NaN values in the labelDF\n",
    "        * [X] Showing the different NaN values in the dataDF\n",
    "        * [X] Casting cols to correct datatype \n",
    "    * [X] Computing descriptive statistics\n",
    "        * [X] Showing the occurance rate of the different anomalies\n",
    "        * [X] Showing the correlation of the different 'checks' with each other\n",
    "        * [X] Showing the correlation of the different dataDF columns with each other\n",
    "        * [X] Showing correlation between specific cols in dataDF and different 'checks'\n",
    "* [ ] **Data pre-processing**\n",
    "    * [X] Handling missing data in the labelDF - Yohann\n",
    "        * [X] Group data wrt. non-NaN values in one 'check' \n",
    "        * [X] Fill NaNs with zeros\n",
    "        * [X] Fill the NaNs in each check with -1, such that each 'check' becomes a multi-class classification problem.\n",
    "    * [X] Handling missing data in dataDF - Yohann\n",
    "        * [X] Dropping columns\n",
    "    * [ ] Feature selection - Eivind\n",
    "        * [ ] Data normalization\n",
    "        * [ ] PCA\n",
    "    * [X] Function to split into train-validate-test - Yohann\n",
    "* [ ] **Model selection**\n",
    "    * [ ] Models to consider\n",
    "        * [ ] Rule based systems - Yohann\n",
    "            * [X] Scalable Bayesian Rule Lists (SBRL)\n",
    "        * [ ] Ensamble of single label classification models - Eivind\n",
    "            * [ ] Random forrest\n",
    "            * [ ] Extra trees\n",
    "            * [ ] MLP\n",
    "            * [ ] KNeighboors\n",
    "            * [ ] SVM\n",
    "            * [ ] CNN(?)\n",
    "        * [ ] Multi-label classification models - Eivind\n",
    "            * [ ] \n",
    "    * [ ] Things to consider when choosing machine learning model - Eivind\n",
    "        * [ ] Complexity\n",
    "        * [ ] Interpretability\n",
    "        * [ ] How is model capable of handling unbalanced dataset\n",
    "            * [ ] F1-score\n",
    "        * [ ] How is model capable of handling missing values\n",
    "    * [ ] Things to consider when choosing a rule based model - Yohann\n",
    "        * [ ] Are rule-learning models able to provide the same predictive performances as ML models? \n",
    "        * [ ] Are they faster or slower to train?\n",
    "        * [ ] Do learned rules look meaningful to you?\n",
    "        * [ ] How many rules do these models learn?\n",
    "        * [ ] How many conditions/atoms have on average?\n",
    "* [ ] **Parameter optim**\n",
    "* [ ] **Model evaluation**\n",
    "    * [ ] Accuracy - Eivind\n",
    "    * [ ] F1-score - Eivind\n",
    "    * [ ] Exact match ratio - Eivind\n",
    "    * [ ] Hamming loss - Eivind\n",
    "    * [ ] Confusion matrix - Yohann\n",
    "* [ ] **Conclusion**"
   ]
  },
  {
   "cell_type": "code",
   "execution_count": null,
   "metadata": {},
   "outputs": [],
   "source": []
  }
 ],
 "metadata": {
  "kernelspec": {
   "display_name": "Python 3",
   "language": "python",
   "name": "python3"
  },
  "language_info": {
   "codemirror_mode": {
    "name": "ipython",
    "version": 3
   },
   "file_extension": ".py",
   "mimetype": "text/x-python",
   "name": "python",
   "nbconvert_exporter": "python",
   "pygments_lexer": "ipython3",
   "version": "3.5.2"
  }
 },
 "nbformat": 4,
 "nbformat_minor": 2
}
