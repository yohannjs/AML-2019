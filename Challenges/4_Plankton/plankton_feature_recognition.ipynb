{
 "cells": [
  {
   "cell_type": "markdown",
   "metadata": {},
   "source": [
    "[Notebook of task](https://github.com/DistributedSystemsGroup/Algorithmic-Machine-Learning/blob/master/Challenges/Plankton/plankton_challenge.ipynb)\n"
   ]
  },
  {
   "cell_type": "markdown",
   "metadata": {},
   "source": [
    "# Classification of Plankton based on features \n"
   ]
  },
  {
   "cell_type": "code",
   "execution_count": null,
   "metadata": {},
   "outputs": [],
   "source": [
    "!pip3 install --user 'mlens'"
   ]
  },
  {
   "cell_type": "code",
   "execution_count": 2,
   "metadata": {},
   "outputs": [],
   "source": [
    "%matplotlib inline\n",
    "# For configuration and jupiter\n",
    "import os\n",
    "import sys\n",
    "import matplotlib\n",
    "import implicit\n",
    "# For data manipulation\n",
    "import pandas as pd\n",
    "import numpy as np\n",
    "# For prediction\n",
    "from tqdm import tqdm\n",
    "\n",
    "basepath = \"/mnt/datasets/plankton/flowcam/\""
   ]
  },
  {
   "cell_type": "code",
   "execution_count": 3,
   "metadata": {},
   "outputs": [],
   "source": [
    "nativeDF = pd.read_csv(basepath + 'features_native.csv.gz')\n",
    "labelsDF = pd.read_csv(basepath + 'meta.csv')"
   ]
  },
  {
   "cell_type": "code",
   "execution_count": 4,
   "metadata": {},
   "outputs": [],
   "source": [
    "#print(nativeDF.isnull().sum().sort_values(ascending=False)[:10])\n",
    "#print(skimagDF.isnull().sum().sort_values(ascending=False)[:6])\n",
    "\n",
    "native_nan_cols = ['perimareaexc', 'feretareaexc', 'cdexc', 'skeleton_area',\n",
    "                   'nb1_area', 'symetrieh_area', 'symetriev_area', 'convarea_area',\n",
    "                  'nb2_area', 'nb3_area', ]\n"
   ]
  },
  {
   "cell_type": "code",
   "execution_count": 5,
   "metadata": {},
   "outputs": [
    {
     "name": "stdout",
     "output_type": "stream",
     "text": [
      "False\n",
      "False\n"
     ]
    }
   ],
   "source": [
    "for col_name in native_nan_cols:\n",
    "    nativeDF[col_name] = nativeDF[col_name].fillna(0)\n",
    "\n",
    "labelsDF['objid'] = labelsDF['objid'].astype(np.int64, errors='ignore')\n",
    "labelsDF['level1'] = labelsDF['level1'].fillna('No_level1_name')\n",
    "labelsDF['level2'] = labelsDF['level2'].fillna('No_level2_name')\n",
    "\n",
    "print(nativeDF.isnull().sum().any())\n",
    "print(labelsDF.isnull().sum().any())"
   ]
  },
  {
   "cell_type": "code",
   "execution_count": 6,
   "metadata": {},
   "outputs": [],
   "source": [
    "y = labelsDF['level2'] \n",
    "X = nativeDF"
   ]
  },
  {
   "cell_type": "code",
   "execution_count": 7,
   "metadata": {},
   "outputs": [],
   "source": [
    "from sklearn.model_selection import train_test_split\n",
    "\n",
    "# Divide train data into train and validation sets\n",
    "\n",
    "seed = 42\n",
    "test_size = 0.20\n",
    "\n",
    "X_train, X_test, y_train, y_test  = train_test_split(X, y, test_size = test_size, random_state = seed)"
   ]
  },
  {
   "cell_type": "code",
   "execution_count": 8,
   "metadata": {},
   "outputs": [
    {
     "name": "stdout",
     "output_type": "stream",
     "text": [
      "Final F1 Score:  0.5349062238006255\n"
     ]
    }
   ],
   "source": [
    "# without PCA, RandomForestClassifer is best and KNeighbours and MLP is awful. With PCA, MLP and KNeighbours perform similar to DecisionTree and RandomForest\n",
    "from sklearn.ensemble import RandomForestClassifier\n",
    "from sklearn.metrics import f1_score\n",
    "\n",
    "\n",
    "model = RandomForestClassifier(n_estimators=200, n_jobs=-1, criterion='entropy')\n",
    "model.fit(X_train, y_train)\n",
    "model_predictions = model.predict(X_test)\n",
    "model_f1 = f1_score(y_test, model_predictions, average='macro', labels=np.unique(model_predictions))\n",
    "print(\"Final F1 Score: \", model_f1)"
   ]
  },
  {
   "cell_type": "code",
   "execution_count": 11,
   "metadata": {},
   "outputs": [
    {
     "name": "stdout",
     "output_type": "stream",
     "text": [
      "Final F1 Score:  0.492734231948026\n"
     ]
    }
   ],
   "source": [
    "from sklearn.ensemble import ExtraTreesClassifier\n",
    "from sklearn.metrics import f1_score\n",
    "\n",
    "\n",
    "model_et = ExtraTreesClassifier(n_estimators=100)\n",
    "model_et.fit(X_train, y_train)\n",
    "model_predictions_et = model_et.predict(X_test)\n",
    "model_et_f1 = f1_score(y_test, model_predictions_et, average='macro', labels=np.unique(model_predictions_et))\n",
    "print(\"Final F1 Score: \", model_et_f1)"
   ]
  },
  {
   "cell_type": "code",
   "execution_count": null,
   "metadata": {},
   "outputs": [],
   "source": [
    "'''# stacking \n",
    "from mlens.ensemble import Subsemble\n",
    "from sklearn.linear_model import LogisticRegression\n",
    "from mlens.metrics import make_scorer\n",
    "from sklearn import preprocessing\n",
    "from keras.utils import to_categorical\n",
    "\n",
    "le = preprocessing.LabelEncoder()\n",
    "y_train = le.fit_transform(y_train)\n",
    "y_test = le.fit_transform(y_test)\n",
    "y_train = to_categorical(y_train)\n",
    "y_test = to_categorical(y_test)\n",
    "\n",
    "rf = RandomForestClassifier(n_estimators=200, n_jobs=-1, criterion='entropy')\n",
    "#kn = KNeighborsClassifier(3)\n",
    "dt = DecisionTreeClassifier()\n",
    "ab = AdaBoostClassifier()\n",
    "mlpc = MLPClassifier(alpha=1)\n",
    "\n",
    "lr = LogisticRegression()\n",
    "\n",
    "seed = 42\n",
    "\n",
    "\n",
    "f1 = make_scorer(f1_score, greater_is_better=True, average='macro', labels=np.unique(y_test))\n",
    "\n",
    "ensemble = Subsemble(random_state=seed, folds=5, verbose = 2)\n",
    "\n",
    "# Build the first layer\n",
    "ensemble.add([rf, ab, dt, mlpc])\n",
    "# Attach the final meta estimator\n",
    "ensemble.add_meta(lr)\n",
    "ensemble.fit(X_train, y_train)\n",
    "e_preds = ensemble.predict(X_test)\n",
    "\n",
    "e_f1 = f1_score(y_test_le, e_preds, average='macro', labels=np.unique(e_preds))\n",
    "print(\"Stacked F1 Score: \", e_f1)'''"
   ]
  },
  {
   "cell_type": "code",
   "execution_count": null,
   "metadata": {},
   "outputs": [],
   "source": [
    "# Use PCA for good results with MLPClassifer and KNN\n",
    "\n",
    "# PCA performs best with a normalized feature set \n",
    "from sklearn.preprocessing import StandardScaler\n",
    "\n",
    "sc = StandardScaler()  \n",
    "scX_train = sc.fit_transform(X_train)  \n",
    "scX_test = sc.transform(X_test)  \n",
    "\n",
    "from sklearn.decomposition import PCA\n",
    "\n",
    "# 65 attributes in NativeDF\n",
    "# 30 elements: 99,0%, 10 elements 83,4%, 20 elements: 96,1%\n",
    "\n",
    "pca = PCA(.999)  \n",
    "pcaX_train = pca.fit_transform(scX_train)  \n",
    "pcaX_test = pca.transform(scX_test)  "
   ]
  },
  {
   "cell_type": "code",
   "execution_count": null,
   "metadata": {},
   "outputs": [],
   "source": []
  }
 ],
 "metadata": {
  "kernelspec": {
   "display_name": "Python 3",
   "language": "python",
   "name": "python3"
  },
  "language_info": {
   "codemirror_mode": {
    "name": "ipython",
    "version": 3
   },
   "file_extension": ".py",
   "mimetype": "text/x-python",
   "name": "python",
   "nbconvert_exporter": "python",
   "pygments_lexer": "ipython3",
   "version": "3.5.2"
  }
 },
 "nbformat": 4,
 "nbformat_minor": 2
}
