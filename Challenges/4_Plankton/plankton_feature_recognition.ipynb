{
 "cells": [
  {
   "cell_type": "markdown",
   "metadata": {},
   "source": [
    "[Notebook of task](https://github.com/DistributedSystemsGroup/Algorithmic-Machine-Learning/blob/master/Challenges/Plankton/plankton_challenge.ipynb)\n"
   ]
  },
  {
   "cell_type": "markdown",
   "metadata": {},
   "source": [
    "# Classification of Plankton based on features \n"
   ]
  },
  {
   "cell_type": "code",
   "execution_count": 1,
   "metadata": {},
   "outputs": [],
   "source": [
    "%matplotlib inline\n",
    "# For configuration and jupiter\n",
    "import os\n",
    "import sys\n",
    "import re\n",
    "import random\n",
    "import matplotlib\n",
    "import implicit\n",
    "import warnings\n",
    "# For data manipulation\n",
    "import pandas as pd\n",
    "import numpy as np\n",
    "# For visualization\n",
    "import matplotlib.pyplot as plt\n",
    "import seaborn as sns\n",
    "# For prediction\n",
    "from tqdm import tqdm\n",
    "\n",
    "basepath = \"/mnt/datasets/plankton/flowcam/\""
   ]
  },
  {
   "cell_type": "code",
   "execution_count": 2,
   "metadata": {},
   "outputs": [],
   "source": [
    "nativeDF = pd.read_csv(basepath + 'features_native.csv.gz')\n",
    "skimagDF = pd.read_csv(basepath + 'features_skimage.csv.gz')\n",
    "labelsDF = pd.read_csv(basepath + 'meta.csv')"
   ]
  },
  {
   "cell_type": "code",
   "execution_count": 3,
   "metadata": {},
   "outputs": [],
   "source": [
    "#print(nativeDF.isnull().sum().sort_values(ascending=False)[:10])\n",
    "#print(skimagDF.isnull().sum().sort_values(ascending=False)[:6])\n",
    "\n",
    "native_nan_cols = ['perimareaexc', 'feretareaexc', 'cdexc', 'skeleton_area',\n",
    "                   'nb1_area', 'symetrieh_area', 'symetriev_area', 'convarea_area',\n",
    "                  'nb2_area', 'nb3_area', ]\n",
    "skimage_nan_cols = ['moments_normalized4', 'weighted_moments_normalized0', \n",
    "                    'moments_normalized1', 'moments_normalized0',\n",
    "                   'weighted_moments_normalized1', 'weighted_moments_normalized4']"
   ]
  },
  {
   "cell_type": "code",
   "execution_count": 4,
   "metadata": {},
   "outputs": [
    {
     "name": "stdout",
     "output_type": "stream",
     "text": [
      "False\n",
      "False\n",
      "False\n"
     ]
    }
   ],
   "source": [
    "for col_name in native_nan_cols:\n",
    "    nativeDF[col_name] = nativeDF[col_name].fillna(0)\n",
    "\n",
    "for col_name in skimage_nan_cols:\n",
    "    skimagDF[col_name] = skimagDF[col_name].fillna(0)\n",
    "\n",
    "labelsDF['objid'] = labelsDF['objid'].astype(np.int64, errors='ignore')\n",
    "labelsDF['level1'] = labelsDF['level1'].fillna('No_level1_name')\n",
    "labelsDF['level2'] = labelsDF['level2'].fillna('No_level2_name')\n",
    "\n",
    "print(nativeDF.isnull().sum().any())\n",
    "print(skimagDF.isnull().sum().any())\n",
    "print(labelsDF.isnull().sum().any())"
   ]
  },
  {
   "cell_type": "code",
   "execution_count": 10,
   "metadata": {},
   "outputs": [],
   "source": [
    "y = labelsDF['level2'] \n",
    "X = nativeDF"
   ]
  },
  {
   "cell_type": "code",
   "execution_count": 11,
   "metadata": {},
   "outputs": [],
   "source": [
    "from sklearn.model_selection import train_test_split\n",
    "\n",
    "# Divide train data into train and validation sets\n",
    "\n",
    "seed = 1\n",
    "test_size = 0.20\n",
    "\n",
    "X_train, X_test, y_train, y_test  = train_test_split(X, y, test_size = test_size, random_state = seed)"
   ]
  },
  {
   "cell_type": "code",
   "execution_count": 7,
   "metadata": {},
   "outputs": [],
   "source": [
    "# PCA performs best with a normalized feature set \n",
    "from sklearn.preprocessing import StandardScaler\n",
    "\n",
    "sc = StandardScaler()  \n",
    "X_train = sc.fit_transform(X_train)  \n",
    "X_test = sc.transform(X_test)  "
   ]
  },
  {
   "cell_type": "code",
   "execution_count": 8,
   "metadata": {},
   "outputs": [],
   "source": [
    "from sklearn.decomposition import PCA\n",
    "\n",
    "# 65 attributes in NativeDF\n",
    "# 30 elements: 99,0%, 10 elements 83,4%, 20 elements: 96,1%\n",
    "\n",
    "pca = PCA(.99)  \n",
    "X_train = pca.fit_transform(X_train)  \n",
    "X_test = pca.transform(X_test)  "
   ]
  },
  {
   "cell_type": "code",
   "execution_count": 12,
   "metadata": {},
   "outputs": [
    {
     "name": "stdout",
     "output_type": "stream",
     "text": [
      "==============================\n",
      "KNeighborsClassifier\n",
      "****Results****\n",
      "Accuracy: 52.6107%\n",
      "F1 Score: 10.3826%\n",
      "Log Loss: 10.301894631505432\n",
      "==============================\n",
      "DecisionTreeClassifier\n",
      "****Results****\n",
      "Accuracy: 74.6521%\n",
      "F1 Score: 35.0273%\n",
      "Log Loss: 8.754851781067053\n",
      "==============================\n",
      "RandomForestClassifier\n",
      "****Results****\n",
      "Accuracy: 81.5340%\n",
      "F1 Score: 45.3039%\n",
      "Log Loss: 1.8496471134880161\n",
      "==============================\n",
      "AdaBoostClassifier\n",
      "****Results****\n",
      "Accuracy: 57.3950%\n",
      "F1 Score: 29.5030%\n",
      "Log Loss: 3.5269687553049835\n",
      "==============================\n",
      "MLPClassifier\n",
      "****Results****\n",
      "Accuracy: 57.0646%\n",
      "F1 Score: 20.3746%\n",
      "Log Loss: 14.827862083519669\n",
      "==============================\n"
     ]
    }
   ],
   "source": [
    "from sklearn.metrics import accuracy_score, log_loss, f1_score\n",
    "from sklearn.neighbors import KNeighborsClassifier\n",
    "from sklearn.tree import DecisionTreeClassifier\n",
    "from sklearn.ensemble import RandomForestClassifier, AdaBoostClassifier, GradientBoostingClassifier\n",
    "from sklearn.neural_network import MLPClassifier\n",
    "\n",
    "classifiers = [\n",
    "    KNeighborsClassifier(3),\n",
    "    DecisionTreeClassifier(),\n",
    "    RandomForestClassifier(),\n",
    "    AdaBoostClassifier(),\n",
    "    MLPClassifier(alpha=1),\n",
    "    #GradientBoostingClassifier()\n",
    "    ]\n",
    "\n",
    "# Logging for Visual Comparison\n",
    "log_cols=[\"Classifier\", \"Accuracy\", \"Log Loss\"]\n",
    "log = pd.DataFrame(columns=log_cols)\n",
    "\n",
    "for clf in classifiers:\n",
    "    clf.fit(X_train, y_train)\n",
    "    name = clf.__class__.__name__\n",
    "    \n",
    "    print(\"=\"*30)\n",
    "    print(name)\n",
    "    \n",
    "    print('****Results****')\n",
    "    train_predictions = clf.predict(X_test)\n",
    "    acc = accuracy_score(y_test, train_predictions)\n",
    "    print(\"Accuracy: {:.4%}\".format(acc))\n",
    "    \n",
    "    f1 = f1_score(y_test, train_predictions, average='macro', labels=np.unique(train_predictions))\n",
    "    print(\"F1 Score: {:.4%}\".format(f1))\n",
    "    \n",
    "    train_predictions = clf.predict_proba(X_test)\n",
    "    ll = log_loss(y_test, train_predictions)\n",
    "    print(\"Log Loss: {}\".format(ll))\n",
    "    \n",
    "    log_entry = pd.DataFrame([[name, acc*100, ll]], columns=log_cols)\n",
    "    log = log.append(log_entry)\n",
    "    \n",
    "print(\"=\"*30)"
   ]
  },
  {
   "cell_type": "code",
   "execution_count": null,
   "metadata": {},
   "outputs": [],
   "source": [
    "# without PCA, RandomForestClassifer is best and KNeighbours and MLP is awful. With PCA, MLP and KNeighbours perform similar to DecisionTree and RandomForest\n",
    "\n",
    "model = RandomForestClassifier()\n",
    "model.fit(X_train, y_train)\n",
    "model_predictions = model.predict(X_test)\n"
   ]
  },
  {
   "cell_type": "raw",
   "metadata": {},
   "source": [
    "# With PCA .95\n",
    "==============================\n",
    "KNeighborsClassifier\n",
    "****Results****\n",
    "Accuracy: 74.1595%\n",
    "F1 Score: 34.5916%\n",
    "Log Loss: 4.694342403106123\n",
    "==============================\n",
    "DecisionTreeClassifier\n",
    "****Results****\n",
    "Accuracy: 68.9134%\n",
    "F1 Score: 28.7519%\n",
    "Log Loss: 10.73692186850538\n",
    "==============================\n",
    "RandomForestClassifier\n",
    "****Results****\n",
    "Accuracy: 77.1992%\n",
    "F1 Score: 36.0856%\n",
    "Log Loss: 2.376788254460703\n",
    "==============================\n",
    "AdaBoostClassifier\n",
    "****Results****\n",
    "Accuracy: 56.6623%\n",
    "F1 Score: 24.1709%\n",
    "Log Loss: 3.4232577528105557\n",
    "==============================\n",
    "MLPClassifier\n",
    "****Results****\n",
    "Accuracy: 76.7313%\n",
    "F1 Score: 44.0386%\n",
    "Log Loss: 0.7548712870919249\n",
    "==============================\n",
    "\n",
    "# With PCA .99\n",
    "==============================\n",
    "KNeighborsClassifier\n",
    "****Results****\n",
    "Accuracy: 74.6665%\n",
    "F1 Score: 35.7507%\n",
    "Log Loss: 4.606999673664194\n",
    "==============================\n",
    "DecisionTreeClassifier\n",
    "****Results****\n",
    "Accuracy: 69.2357%\n",
    "F1 Score: 28.8285%\n",
    "Log Loss: 10.625625372179265\n",
    "==============================\n",
    "RandomForestClassifier\n",
    "****Results****\n",
    "Accuracy: 77.4065%\n",
    "F1 Score: 37.4174%\n",
    "Log Loss: 2.3431554808796156\n",
    "==============================\n",
    "AdaBoostClassifier\n",
    "****Results****\n",
    "Accuracy: 56.6623%\n",
    "F1 Score: 24.1709%\n",
    "Log Loss: 3.4232577528105614\n",
    "==============================\n",
    "MLPClassifier\n",
    "****Results****\n",
    "Accuracy: 77.2054%\n",
    "F1 Score: 45.2891%\n",
    "Log Loss: 0.734333539260943\n",
    "==============================\n",
    "\n",
    "# Without PCA\n",
    "==============================\n",
    "KNeighborsClassifier\n",
    "****Results****\n",
    "Accuracy: 52.6107%\n",
    "F1 Score: 10.3826%\n",
    "Log Loss: 10.301894631505432\n",
    "==============================\n",
    "DecisionTreeClassifier\n",
    "****Results****\n",
    "Accuracy: 74.6521%\n",
    "F1 Score: 35.0273%\n",
    "Log Loss: 8.754851781067053\n",
    "==============================\n",
    "RandomForestClassifier\n",
    "****Results****\n",
    "Accuracy: 81.5340%\n",
    "F1 Score: 45.3039%\n",
    "Log Loss: 1.8496471134880161\n",
    "==============================\n",
    "AdaBoostClassifier\n",
    "****Results****\n",
    "Accuracy: 57.3950%\n",
    "F1 Score: 29.5030%\n",
    "Log Loss: 3.5269687553049835\n",
    "==============================\n",
    "MLPClassifier\n",
    "****Results****\n",
    "Accuracy: 57.0646%\n",
    "F1 Score: 20.3746%\n",
    "Log Loss: 14.827862083519669\n",
    "=============================="
   ]
  },
  {
   "cell_type": "code",
   "execution_count": null,
   "metadata": {},
   "outputs": [],
   "source": []
  }
 ],
 "metadata": {
  "kernelspec": {
   "display_name": "Python 3",
   "language": "python",
   "name": "python3"
  },
  "language_info": {
   "codemirror_mode": {
    "name": "ipython",
    "version": 3
   },
   "file_extension": ".py",
   "mimetype": "text/x-python",
   "name": "python",
   "nbconvert_exporter": "python",
   "pygments_lexer": "ipython3",
   "version": "3.5.2"
  }
 },
 "nbformat": 4,
 "nbformat_minor": 2
}
