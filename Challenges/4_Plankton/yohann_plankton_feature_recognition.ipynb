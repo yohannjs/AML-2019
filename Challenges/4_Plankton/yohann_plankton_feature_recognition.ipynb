{
 "cells": [
  {
   "cell_type": "markdown",
   "metadata": {},
   "source": [
    "[Notebook of task](https://github.com/DistributedSystemsGroup/Algorithmic-Machine-Learning/blob/master/Challenges/Plankton/plankton_challenge.ipynb)\n",
    "\n",
    "# Useful websites and articles\n",
    "- [Data augmentation part 1](https://medium.com/nanonets/nanonets-how-to-use-deep-learning-when-you-have-limited-data-f68c0b512cab)\n",
    "- [Data augmentation part 2](https://medium.com/nanonets/how-to-use-deep-learning-when-you-have-limited-data-part-2-data-augmentation-c26971dc8ced)\n",
    "\n",
    "### Libraries for Deep NNs\n",
    "Most relevant\n",
    "- [TensorFlow](https://www.tensorflow.org/)\n",
    "- [Keras](https://keras.io/)\n",
    "- [Theano](http://deeplearning.net/software/theano/)\n",
    "\n",
    "Less relevant (mostly for GPU optimisation)\n",
    "- [Caffe](http://caffe.berkeleyvision.org/)\n",
    "- [Neon](https://www.intel.ai/neon-2-0-optimized-for-intel-architectures/)\n"
   ]
  },
  {
   "cell_type": "markdown",
   "metadata": {},
   "source": [
    "# Gjenstående oppgaver\n",
    "\n",
    "- Generere mer data, for å gjevne ut dataset \n",
    "- Lage funksjon for å laste bilder inn i minne, uten å fylle det opp\n",
    "- Teste ut forskjellige CNN arkitekturer\n",
    " - input -> (conv -> pool)*2 -> fc -> softmax\n",
    " - input -> (conv -> conv -> pool)*3-4 -> fc -> fc -> softmax\n",
    "- Lage feature recognition model\n",
    "- Data exploration"
   ]
  },
  {
   "cell_type": "code",
   "execution_count": null,
   "metadata": {},
   "outputs": [],
   "source": [
    "%matplotlib inline\n",
    "# For configuration and jupiter\n",
    "import os\n",
    "import sys\n",
    "import re\n",
    "import random\n",
    "import matplotlib\n",
    "import implicit\n",
    "import warnings\n",
    "# For data manipulation\n",
    "import pandas as pd\n",
    "import numpy as np\n",
    "# For visualization\n",
    "import matplotlib.pyplot as plt\n",
    "import seaborn as sns\n",
    "# For prediction\n",
    "from tqdm import tqdm"
   ]
  },
  {
   "cell_type": "code",
   "execution_count": null,
   "metadata": {},
   "outputs": [],
   "source": [
    "nativeDF = pd.read_csv(base + 'features_native.csv.gz')\n",
    "skimagDF = pd.read_csv(base + 'features_skimage.csv.gz')\n",
    "labelsDF = pd.read_csv(base + 'meta.csv')"
   ]
  },
  {
   "cell_type": "code",
   "execution_count": 8,
   "metadata": {},
   "outputs": [],
   "source": [
    "#print(nativeDF.isnull().sum().sort_values(ascending=False)[:10])\n",
    "#print(skimagDF.isnull().sum().sort_values(ascending=False)[:6])\n",
    "\n",
    "native_nan_cols = ['perimareaexc', 'feretareaexc', 'cdexc', 'skeleton_area',\n",
    "                   'nb1_area', 'symetrieh_area', 'symetriev_area', 'convarea_area',\n",
    "                  'nb2_area', 'nb3_area', ]'''\n",
    "skimage_nan_cols = ['moments_normalized4', 'weighted_moments_normalized0', \n",
    "                    'moments_normalized1', 'moments_normalized0',\n",
    "                   'weighted_moments_normalized1', 'weighted_moments_normalized4']"
   ]
  },
  {
   "cell_type": "code",
   "execution_count": null,
   "metadata": {},
   "outputs": [],
   "source": [
    "for col_name in native_nan_cols:\n",
    "    nativeDF[col_name] = nativeDF[col_name].fillna(0)\n",
    "\n",
    "for col_name in skimage_nan_cols:\n",
    "    skimagDF[col_name] = skimagDF[col_name].fillna(0)\n",
    "\n",
    "labelsDF['objid'] = labelsDF['objid'].astype(np.int64, errors='ignore')\n",
    "labelsDF['level1'] = labelsDF['level1'].fillna('No_level1_name')\n",
    "labelsDF['level2'] = labelsDF['level2'].fillna('No_level2_name')\n",
    "\n",
    "print(nativeDF.isnull().sum().any())\n",
    "print(skimagDF.isnull().sum().any())\n",
    "print(labelsDF.isnull().sum().any())"
   ]
  }
 ],
 "metadata": {
  "kernelspec": {
   "display_name": "Python 3",
   "language": "python",
   "name": "python3"
  },
  "language_info": {
   "codemirror_mode": {
    "name": "ipython",
    "version": 3
   },
   "file_extension": ".py",
   "mimetype": "text/x-python",
   "name": "python",
   "nbconvert_exporter": "python",
   "pygments_lexer": "ipython3",
   "version": "3.5.2"
  }
 },
 "nbformat": 4,
 "nbformat_minor": 2
}
